{
 "cells": [
  {
   "cell_type": "code",
   "execution_count": 1,
   "metadata": {},
   "outputs": [
    {
     "name": "stdout",
     "output_type": "stream",
     "text": [
      "Requirement already satisfied: selenium in c:\\users\\hppc\\anaconda3\\lib\\site-packages (3.141.0)\n",
      "Requirement already satisfied: urllib3 in c:\\users\\hppc\\anaconda3\\lib\\site-packages (from selenium) (1.25.11)\n"
     ]
    }
   ],
   "source": [
    "#installing Selenium\n",
    "!pip install selenium"
   ]
  },
  {
   "cell_type": "code",
   "execution_count": 2,
   "metadata": {},
   "outputs": [],
   "source": [
    "#Importing requried lib.\n",
    "\n",
    "import selenium\n",
    "import pandas as pd\n",
    "from selenium import webdriver\n",
    "import time\n",
    "from selenium.common.exceptions import NoSuchElementException"
   ]
  },
  {
   "cell_type": "raw",
   "metadata": {},
   "source": [
    "Q1: Write a python program to scrape data for “Data Analyst” Job position in\n",
    "“Bangalore” location. You have to scrape the job-title, job-location, company_name, experience_required. You have to scrape first 10 jobs data. This task will be done in following steps:\n",
    "\n",
    "1 .first get the webpage https://www.naukri.com/\n",
    "2. Enter “Data Analyst” in “Skill,Designations,Companies” field and enter “Bangalore” in “enter the location” field.\n",
    "Then click the search button.\n",
    "3.Then scrape the data for the first 10 jobs results you get.\n",
    "4 .Finally create a dataframe of the scraped data. Note- All of the above steps have to be done in code. No step is to be done manually."
   ]
  },
  {
   "cell_type": "code",
   "execution_count": 44,
   "metadata": {},
   "outputs": [],
   "source": [
    "driver = webdriver.Chrome(\"chromedriver.exe\")"
   ]
  },
  {
   "cell_type": "code",
   "execution_count": 45,
   "metadata": {},
   "outputs": [],
   "source": [
    "url = ' https://www.naukri.com/'\n",
    "driver.get(url)"
   ]
  },
  {
   "cell_type": "code",
   "execution_count": 46,
   "metadata": {},
   "outputs": [
    {
     "data": {
      "text/plain": [
       "<selenium.webdriver.remote.webelement.WebElement (session=\"efd38cbdcae4dd90614375ffdc08da38\", element=\"5f7d30fd-5318-4fb1-bc4c-00bd3b2946a6\")>"
      ]
     },
     "execution_count": 46,
     "metadata": {},
     "output_type": "execute_result"
    }
   ],
   "source": [
    "search_job = driver.find_element_by_id(\"qsb-keyword-sugg\")\n",
    "search_job"
   ]
  },
  {
   "cell_type": "code",
   "execution_count": 47,
   "metadata": {},
   "outputs": [],
   "source": [
    "search_job.send_keys(\"Data Analyst\")"
   ]
  },
  {
   "cell_type": "code",
   "execution_count": 48,
   "metadata": {},
   "outputs": [
    {
     "data": {
      "text/plain": [
       "<selenium.webdriver.remote.webelement.WebElement (session=\"efd38cbdcae4dd90614375ffdc08da38\", element=\"c83011e2-8551-4b1f-82ab-1aec9cb483ee\")>"
      ]
     },
     "execution_count": 48,
     "metadata": {},
     "output_type": "execute_result"
    }
   ],
   "source": [
    "search_loc = driver.find_element_by_id(\"qsb-location-sugg\")\n",
    "search_loc"
   ]
  },
  {
   "cell_type": "code",
   "execution_count": 49,
   "metadata": {},
   "outputs": [],
   "source": [
    "search_loc.send_keys(\"Bangalore\")"
   ]
  },
  {
   "cell_type": "code",
   "execution_count": 50,
   "metadata": {},
   "outputs": [],
   "source": [
    "search_btn = driver.find_element_by_xpath(\"//button[@class='btn']\")\n",
    "search_btn.click()"
   ]
  },
  {
   "cell_type": "code",
   "execution_count": 51,
   "metadata": {},
   "outputs": [
    {
     "data": {
      "text/plain": [
       "[<selenium.webdriver.remote.webelement.WebElement (session=\"efd38cbdcae4dd90614375ffdc08da38\", element=\"11161ef1-b0d7-4b70-a43b-6c1c194774e2\")>,\n",
       " <selenium.webdriver.remote.webelement.WebElement (session=\"efd38cbdcae4dd90614375ffdc08da38\", element=\"ad0ff286-0df9-4fcb-9d73-879bf168e395\")>,\n",
       " <selenium.webdriver.remote.webelement.WebElement (session=\"efd38cbdcae4dd90614375ffdc08da38\", element=\"97e156f1-7939-4528-bec1-2bcc9b025ed6\")>,\n",
       " <selenium.webdriver.remote.webelement.WebElement (session=\"efd38cbdcae4dd90614375ffdc08da38\", element=\"be7a32a9-0725-42ff-9349-6709ed7b0e51\")>,\n",
       " <selenium.webdriver.remote.webelement.WebElement (session=\"efd38cbdcae4dd90614375ffdc08da38\", element=\"800a4e70-674a-461b-954a-d90f66c87bc5\")>,\n",
       " <selenium.webdriver.remote.webelement.WebElement (session=\"efd38cbdcae4dd90614375ffdc08da38\", element=\"ad5308c1-f875-4c37-83ab-0e395f6062a1\")>,\n",
       " <selenium.webdriver.remote.webelement.WebElement (session=\"efd38cbdcae4dd90614375ffdc08da38\", element=\"d8c315c8-3226-4dfb-ae1a-b1cfbe7ac1be\")>,\n",
       " <selenium.webdriver.remote.webelement.WebElement (session=\"efd38cbdcae4dd90614375ffdc08da38\", element=\"0cc139e6-9acc-49c8-83a3-7c9e4fd8305e\")>,\n",
       " <selenium.webdriver.remote.webelement.WebElement (session=\"efd38cbdcae4dd90614375ffdc08da38\", element=\"b139ad44-1de4-4f48-bb24-778047684c0f\")>,\n",
       " <selenium.webdriver.remote.webelement.WebElement (session=\"efd38cbdcae4dd90614375ffdc08da38\", element=\"76f0dfb0-3413-4b6a-ac00-d150a4cdc6e0\")>,\n",
       " <selenium.webdriver.remote.webelement.WebElement (session=\"efd38cbdcae4dd90614375ffdc08da38\", element=\"0578a0a8-a7f2-4d37-b99b-680aacd1250c\")>,\n",
       " <selenium.webdriver.remote.webelement.WebElement (session=\"efd38cbdcae4dd90614375ffdc08da38\", element=\"5574c919-aa06-4b9d-9999-78370515a111\")>,\n",
       " <selenium.webdriver.remote.webelement.WebElement (session=\"efd38cbdcae4dd90614375ffdc08da38\", element=\"3245d5c6-18aa-479d-a309-6026f8a87bf3\")>,\n",
       " <selenium.webdriver.remote.webelement.WebElement (session=\"efd38cbdcae4dd90614375ffdc08da38\", element=\"cdc66857-7464-4364-92de-7c4e5051cbca\")>,\n",
       " <selenium.webdriver.remote.webelement.WebElement (session=\"efd38cbdcae4dd90614375ffdc08da38\", element=\"3136e8c2-c4f2-4dd3-aaa7-e8495e0b0df2\")>,\n",
       " <selenium.webdriver.remote.webelement.WebElement (session=\"efd38cbdcae4dd90614375ffdc08da38\", element=\"cc20ac88-4450-42a0-b24a-147a8f85a85a\")>,\n",
       " <selenium.webdriver.remote.webelement.WebElement (session=\"efd38cbdcae4dd90614375ffdc08da38\", element=\"a28432a7-48c8-4d60-a1ea-6935791e03dc\")>,\n",
       " <selenium.webdriver.remote.webelement.WebElement (session=\"efd38cbdcae4dd90614375ffdc08da38\", element=\"9c999540-dbf7-482e-b643-0b9de99110fa\")>,\n",
       " <selenium.webdriver.remote.webelement.WebElement (session=\"efd38cbdcae4dd90614375ffdc08da38\", element=\"2a4e5778-4d43-444a-89e7-cc7fdb2eb73e\")>,\n",
       " <selenium.webdriver.remote.webelement.WebElement (session=\"efd38cbdcae4dd90614375ffdc08da38\", element=\"1b003dbc-50a3-4932-ac7b-4890c472c907\")>]"
      ]
     },
     "execution_count": 51,
     "metadata": {},
     "output_type": "execute_result"
    }
   ],
   "source": [
    "titles_tags = driver.find_elements_by_xpath(\"//a[@class='title fw500 ellipsis']\")\n",
    "titles_tags"
   ]
  },
  {
   "cell_type": "code",
   "execution_count": 52,
   "metadata": {},
   "outputs": [
    {
     "data": {
      "text/plain": [
       "['Business Data Analyst',\n",
       " 'Business Data Analyst',\n",
       " 'Senior Data Analyst IDAM Services',\n",
       " 'Data Analyst/Sr.Data Engineer',\n",
       " 'Business Data Analyst - Google Data Studio & SQL',\n",
       " 'Senior Data Analyst IN4',\n",
       " 'Data Analyst - Python/SQL',\n",
       " 'Executive Data Analyst',\n",
       " 'Senior Data Analyst',\n",
       " 'Systems and Data Analyst, Safety and Provisioning',\n",
       " 'Data Analyst with SQL',\n",
       " 'Data Analyst',\n",
       " 'Business Data Analyst - MIS & Reporting',\n",
       " 'Data Analyst',\n",
       " 'Data Analyst - EdTech',\n",
       " 'Lead , Data Analyst',\n",
       " 'Associate System and Data Analyst',\n",
       " 'Data Analyst III (Item & Inventory)',\n",
       " 'Data Analyst III',\n",
       " 'Data Analyst with SAS & Python']"
      ]
     },
     "execution_count": 52,
     "metadata": {},
     "output_type": "execute_result"
    }
   ],
   "source": [
    "job_titles=[]\n",
    "for i in titles_tags:\n",
    "    job_titles.append(i.text)\n",
    "job_titles   "
   ]
  },
  {
   "cell_type": "code",
   "execution_count": 57,
   "metadata": {},
   "outputs": [
    {
     "data": {
      "text/plain": [
       "[<selenium.webdriver.remote.webelement.WebElement (session=\"efd38cbdcae4dd90614375ffdc08da38\", element=\"cd8c178c-414f-47d0-b6eb-40d2ddcc0e42\")>,\n",
       " <selenium.webdriver.remote.webelement.WebElement (session=\"efd38cbdcae4dd90614375ffdc08da38\", element=\"28764e77-4275-49ab-8444-a6e94fae84de\")>,\n",
       " <selenium.webdriver.remote.webelement.WebElement (session=\"efd38cbdcae4dd90614375ffdc08da38\", element=\"d6685320-e4ba-4706-aa97-9988578e2198\")>,\n",
       " <selenium.webdriver.remote.webelement.WebElement (session=\"efd38cbdcae4dd90614375ffdc08da38\", element=\"44e77d4b-bca1-40d9-8214-fb1b232a50af\")>,\n",
       " <selenium.webdriver.remote.webelement.WebElement (session=\"efd38cbdcae4dd90614375ffdc08da38\", element=\"f9b41430-8f90-40e5-80ae-6b064aa2fc14\")>,\n",
       " <selenium.webdriver.remote.webelement.WebElement (session=\"efd38cbdcae4dd90614375ffdc08da38\", element=\"168dbd5b-e1bf-41a9-be02-4b7c4f1a5f8b\")>,\n",
       " <selenium.webdriver.remote.webelement.WebElement (session=\"efd38cbdcae4dd90614375ffdc08da38\", element=\"f6c52779-255f-4e7e-8925-77e507e5024a\")>,\n",
       " <selenium.webdriver.remote.webelement.WebElement (session=\"efd38cbdcae4dd90614375ffdc08da38\", element=\"f6ed13f5-c673-47fa-97af-9b33fbaed9a3\")>,\n",
       " <selenium.webdriver.remote.webelement.WebElement (session=\"efd38cbdcae4dd90614375ffdc08da38\", element=\"f26de5ce-a473-4f3d-9be4-448fe4a3e524\")>,\n",
       " <selenium.webdriver.remote.webelement.WebElement (session=\"efd38cbdcae4dd90614375ffdc08da38\", element=\"183f66e9-49d7-4377-9d02-9700a3d640d1\")>,\n",
       " <selenium.webdriver.remote.webelement.WebElement (session=\"efd38cbdcae4dd90614375ffdc08da38\", element=\"e1bbb106-e357-4615-ac06-2d3c031fcdf6\")>,\n",
       " <selenium.webdriver.remote.webelement.WebElement (session=\"efd38cbdcae4dd90614375ffdc08da38\", element=\"a2e35578-7cb6-4c69-8f4e-f771ec371e72\")>,\n",
       " <selenium.webdriver.remote.webelement.WebElement (session=\"efd38cbdcae4dd90614375ffdc08da38\", element=\"16fdffa5-f477-4207-95a7-8e6aeb4e0991\")>,\n",
       " <selenium.webdriver.remote.webelement.WebElement (session=\"efd38cbdcae4dd90614375ffdc08da38\", element=\"0d6cf631-4b46-4e69-9ed6-502b80404664\")>,\n",
       " <selenium.webdriver.remote.webelement.WebElement (session=\"efd38cbdcae4dd90614375ffdc08da38\", element=\"faa63079-6a4f-41b2-a1fa-87a4483ed685\")>,\n",
       " <selenium.webdriver.remote.webelement.WebElement (session=\"efd38cbdcae4dd90614375ffdc08da38\", element=\"2cc617b8-8552-4518-b34d-a6ce38ecbe38\")>,\n",
       " <selenium.webdriver.remote.webelement.WebElement (session=\"efd38cbdcae4dd90614375ffdc08da38\", element=\"9e94058c-76f9-4f3d-8860-9326785fe63d\")>,\n",
       " <selenium.webdriver.remote.webelement.WebElement (session=\"efd38cbdcae4dd90614375ffdc08da38\", element=\"9d865217-4e36-460f-87c4-fff9e6273b1d\")>,\n",
       " <selenium.webdriver.remote.webelement.WebElement (session=\"efd38cbdcae4dd90614375ffdc08da38\", element=\"ead206cb-e0ef-455c-841a-bad4dfe54e65\")>,\n",
       " <selenium.webdriver.remote.webelement.WebElement (session=\"efd38cbdcae4dd90614375ffdc08da38\", element=\"45a8fb7c-176c-40eb-a16e-8ffa0e8bbc67\")>]"
      ]
     },
     "execution_count": 57,
     "metadata": {},
     "output_type": "execute_result"
    }
   ],
   "source": [
    "companies_titles = driver.find_elements_by_xpath(\"//a[@class='subTitle ellipsis fleft']\")\n",
    "companies_titles"
   ]
  },
  {
   "cell_type": "code",
   "execution_count": 58,
   "metadata": {},
   "outputs": [
    {
     "data": {
      "text/plain": [
       "['Trigent Software',\n",
       " 'Trigent Software',\n",
       " 'GlaxoSmithKline Pharmaceuticals Limited',\n",
       " 'SYREN TECHNOLOGIES PRIVATE LIMITED',\n",
       " 'AVE-Promagne',\n",
       " 'Walmart Labs',\n",
       " 'Affine',\n",
       " 'Gokaldas Exports Ltd',\n",
       " 'Virtusa Consulting Services Pvt Ltd',\n",
       " 'AECOM India Private Limited',\n",
       " 'Wipro Limited',\n",
       " 'IBM India Pvt. Limited',\n",
       " 'INTERTRUST GROUP',\n",
       " 'Edge Executive Search Pvt. Ltd.',\n",
       " 'TalentStack',\n",
       " 'Near Pte. Ltd.',\n",
       " 'Boeing',\n",
       " 'Walmart Labs',\n",
       " 'Walmart Labs',\n",
       " 'Podium Systems']"
      ]
     },
     "execution_count": 58,
     "metadata": {},
     "output_type": "execute_result"
    }
   ],
   "source": [
    "companies_names=[]\n",
    "for i in companies_titles:\n",
    "    companies_names.append(i.text)\n",
    "companies_names   "
   ]
  },
  {
   "cell_type": "code",
   "execution_count": 59,
   "metadata": {},
   "outputs": [],
   "source": [
    "experience_tags = driver.find_elements_by_xpath(\"//li[@class='fleft grey-text br2 placeHolderLi experience']//span\")"
   ]
  },
  {
   "cell_type": "code",
   "execution_count": 15,
   "metadata": {},
   "outputs": [
    {
     "data": {
      "text/plain": [
       "[<selenium.webdriver.remote.webelement.WebElement (session=\"67444615992a3dc9043fef855952e06f\", element=\"b39808f9-fd90-4dbb-875e-0138c661e4d8\")>,\n",
       " <selenium.webdriver.remote.webelement.WebElement (session=\"67444615992a3dc9043fef855952e06f\", element=\"aa62dd97-d3e8-4ca8-9b8d-8d5d238340d4\")>,\n",
       " <selenium.webdriver.remote.webelement.WebElement (session=\"67444615992a3dc9043fef855952e06f\", element=\"d468d79e-d24f-4dde-ac11-db2fa4e83dc3\")>,\n",
       " <selenium.webdriver.remote.webelement.WebElement (session=\"67444615992a3dc9043fef855952e06f\", element=\"3f0f83c0-f40b-4162-9419-01fc74116f0b\")>,\n",
       " <selenium.webdriver.remote.webelement.WebElement (session=\"67444615992a3dc9043fef855952e06f\", element=\"9c71115d-85c8-4d70-9e90-7f6bab967e05\")>,\n",
       " <selenium.webdriver.remote.webelement.WebElement (session=\"67444615992a3dc9043fef855952e06f\", element=\"ea7862ff-8cec-4021-9333-22f9f3ef6538\")>,\n",
       " <selenium.webdriver.remote.webelement.WebElement (session=\"67444615992a3dc9043fef855952e06f\", element=\"4af3fc06-bfbf-49a2-8b64-594edab61c37\")>,\n",
       " <selenium.webdriver.remote.webelement.WebElement (session=\"67444615992a3dc9043fef855952e06f\", element=\"eb10fd4b-8a95-405b-acd4-fb297b265cb9\")>,\n",
       " <selenium.webdriver.remote.webelement.WebElement (session=\"67444615992a3dc9043fef855952e06f\", element=\"d5775c80-6508-4796-a3e8-6525ca6118b5\")>,\n",
       " <selenium.webdriver.remote.webelement.WebElement (session=\"67444615992a3dc9043fef855952e06f\", element=\"65b46766-ec0e-47cd-bc2b-68eb59baa5a8\")>,\n",
       " <selenium.webdriver.remote.webelement.WebElement (session=\"67444615992a3dc9043fef855952e06f\", element=\"5b2554de-5c4f-4a99-981d-d63f9e1acdf6\")>,\n",
       " <selenium.webdriver.remote.webelement.WebElement (session=\"67444615992a3dc9043fef855952e06f\", element=\"0d7d7f7a-3adb-44f1-82bb-ed8422329231\")>,\n",
       " <selenium.webdriver.remote.webelement.WebElement (session=\"67444615992a3dc9043fef855952e06f\", element=\"cc7d6c2d-8b11-44cc-897b-b380ffa17784\")>,\n",
       " <selenium.webdriver.remote.webelement.WebElement (session=\"67444615992a3dc9043fef855952e06f\", element=\"5a5de713-fe08-4dff-9cea-73c1580c8629\")>,\n",
       " <selenium.webdriver.remote.webelement.WebElement (session=\"67444615992a3dc9043fef855952e06f\", element=\"d99f91fc-6ae8-4f0c-adcd-4b2cef3b1d7f\")>,\n",
       " <selenium.webdriver.remote.webelement.WebElement (session=\"67444615992a3dc9043fef855952e06f\", element=\"825d6652-1325-48f2-a338-1d5094f3d2dd\")>,\n",
       " <selenium.webdriver.remote.webelement.WebElement (session=\"67444615992a3dc9043fef855952e06f\", element=\"ec98a833-97a5-4002-a390-0443658388ad\")>,\n",
       " <selenium.webdriver.remote.webelement.WebElement (session=\"67444615992a3dc9043fef855952e06f\", element=\"f73ce5d6-26ea-4437-a72d-020809bdedd3\")>,\n",
       " <selenium.webdriver.remote.webelement.WebElement (session=\"67444615992a3dc9043fef855952e06f\", element=\"ba4f80ac-f5a5-42a3-9243-01bd3745dcd5\")>,\n",
       " <selenium.webdriver.remote.webelement.WebElement (session=\"67444615992a3dc9043fef855952e06f\", element=\"1364d6b2-dc16-4bb2-80b1-66a42168ef46\")>]"
      ]
     },
     "execution_count": 15,
     "metadata": {},
     "output_type": "execute_result"
    }
   ],
   "source": [
    "experience_tags"
   ]
  },
  {
   "cell_type": "code",
   "execution_count": 60,
   "metadata": {},
   "outputs": [
    {
     "data": {
      "text/plain": [
       "['5-10 Yrs',\n",
       " '5-10 Yrs',\n",
       " '4-8 Yrs',\n",
       " '4-9 Yrs',\n",
       " '3-8 Yrs',\n",
       " '8-10 Yrs',\n",
       " '3-5 Yrs',\n",
       " '0-3 Yrs',\n",
       " '8-12 Yrs',\n",
       " '2-7 Yrs',\n",
       " '3-5 Yrs',\n",
       " '1-4 Yrs',\n",
       " '3-8 Yrs',\n",
       " '0-2 Yrs',\n",
       " '2-6 Yrs',\n",
       " '6-11 Yrs',\n",
       " '4-8 Yrs',\n",
       " '4-6 Yrs',\n",
       " '3-7 Yrs',\n",
       " '4-7 Yrs']"
      ]
     },
     "execution_count": 60,
     "metadata": {},
     "output_type": "execute_result"
    }
   ],
   "source": [
    "experience_required=[]\n",
    "for i in experience_tags:\n",
    "    experience_required.append(i.text)\n",
    "experience_required"
   ]
  },
  {
   "cell_type": "code",
   "execution_count": 61,
   "metadata": {},
   "outputs": [],
   "source": [
    "location_tags = driver.find_elements_by_xpath(\"//li[@class='fleft grey-text br2 placeHolderLi location']\")"
   ]
  },
  {
   "cell_type": "code",
   "execution_count": 18,
   "metadata": {},
   "outputs": [
    {
     "data": {
      "text/plain": [
       "[<selenium.webdriver.remote.webelement.WebElement (session=\"67444615992a3dc9043fef855952e06f\", element=\"a5b44a06-aef2-4e0c-b849-fdcb0161b62f\")>,\n",
       " <selenium.webdriver.remote.webelement.WebElement (session=\"67444615992a3dc9043fef855952e06f\", element=\"e1d41e3e-27e4-4254-9621-3d79a78d56f8\")>,\n",
       " <selenium.webdriver.remote.webelement.WebElement (session=\"67444615992a3dc9043fef855952e06f\", element=\"d1baabef-6cbb-4b73-9d76-ac843281764b\")>,\n",
       " <selenium.webdriver.remote.webelement.WebElement (session=\"67444615992a3dc9043fef855952e06f\", element=\"fb2dd727-4ec1-4a8b-abc6-17379df9a213\")>,\n",
       " <selenium.webdriver.remote.webelement.WebElement (session=\"67444615992a3dc9043fef855952e06f\", element=\"a0693702-c32d-4128-a1a2-f4c701282530\")>,\n",
       " <selenium.webdriver.remote.webelement.WebElement (session=\"67444615992a3dc9043fef855952e06f\", element=\"0cf97393-de7b-4985-903e-246934dccf3a\")>,\n",
       " <selenium.webdriver.remote.webelement.WebElement (session=\"67444615992a3dc9043fef855952e06f\", element=\"9965253b-63a6-476d-a26b-99d2a8a2ae22\")>,\n",
       " <selenium.webdriver.remote.webelement.WebElement (session=\"67444615992a3dc9043fef855952e06f\", element=\"6357a75c-bb7c-4a62-9d9a-9228bfdae9c0\")>,\n",
       " <selenium.webdriver.remote.webelement.WebElement (session=\"67444615992a3dc9043fef855952e06f\", element=\"76ed1cc8-0f3e-42bb-b3b4-e28ec5e17867\")>,\n",
       " <selenium.webdriver.remote.webelement.WebElement (session=\"67444615992a3dc9043fef855952e06f\", element=\"1702e5ae-e1c1-4559-935f-1119e89ceec7\")>,\n",
       " <selenium.webdriver.remote.webelement.WebElement (session=\"67444615992a3dc9043fef855952e06f\", element=\"52175428-5acc-40c3-ae47-785d973922a0\")>,\n",
       " <selenium.webdriver.remote.webelement.WebElement (session=\"67444615992a3dc9043fef855952e06f\", element=\"d78787ad-83c5-4ba6-9226-77033db6a74c\")>,\n",
       " <selenium.webdriver.remote.webelement.WebElement (session=\"67444615992a3dc9043fef855952e06f\", element=\"b3c7ad0c-12bf-4cf2-b136-347645251b53\")>,\n",
       " <selenium.webdriver.remote.webelement.WebElement (session=\"67444615992a3dc9043fef855952e06f\", element=\"74082766-ebef-4ab6-9c21-a40a17e93660\")>,\n",
       " <selenium.webdriver.remote.webelement.WebElement (session=\"67444615992a3dc9043fef855952e06f\", element=\"93db5ba1-cb80-4091-b064-9b3cd61903fb\")>,\n",
       " <selenium.webdriver.remote.webelement.WebElement (session=\"67444615992a3dc9043fef855952e06f\", element=\"7f48ffec-4487-46af-8a57-5a8d65b9a1ff\")>,\n",
       " <selenium.webdriver.remote.webelement.WebElement (session=\"67444615992a3dc9043fef855952e06f\", element=\"910e213d-f077-49cc-968a-52b9662401fd\")>,\n",
       " <selenium.webdriver.remote.webelement.WebElement (session=\"67444615992a3dc9043fef855952e06f\", element=\"98a128db-931a-45d3-8644-32feb0329c9f\")>,\n",
       " <selenium.webdriver.remote.webelement.WebElement (session=\"67444615992a3dc9043fef855952e06f\", element=\"bb409cd1-bee4-43eb-b644-6077e58b17db\")>,\n",
       " <selenium.webdriver.remote.webelement.WebElement (session=\"67444615992a3dc9043fef855952e06f\", element=\"1462474f-072c-4d2e-b5a4-b8d48c4162d5\")>]"
      ]
     },
     "execution_count": 18,
     "metadata": {},
     "output_type": "execute_result"
    }
   ],
   "source": [
    "location_tags"
   ]
  },
  {
   "cell_type": "code",
   "execution_count": 62,
   "metadata": {},
   "outputs": [
    {
     "data": {
      "text/plain": [
       "['Bangalore/Bengaluru',\n",
       " 'Bangalore/Bengaluru',\n",
       " 'Bangalore/Bengaluru',\n",
       " 'Hyderabad/Secunderabad, Chennai, Bangalore/Bengaluru\\n(WFH during Covid)',\n",
       " 'Bangalore/Bengaluru',\n",
       " 'Bangalore/Bengaluru',\n",
       " 'Bangalore/Bengaluru',\n",
       " 'Bangalore/Bengaluru',\n",
       " 'Hyderabad/Secunderabad, Pune, Gurgaon/Gurugram, Chennai, Bangalore/Bengaluru, Mumbai (All Areas)\\n(WFH during Covid)',\n",
       " 'Bangalore/Bengaluru',\n",
       " 'Noida, Gurgaon/Gurugram, Bangalore/Bengaluru',\n",
       " 'Bengaluru/Bangalore',\n",
       " 'Mumbai, Bangalore/Bengaluru',\n",
       " 'Pune, Bangalore/Bengaluru, Mumbai (All Areas)',\n",
       " 'Bangalore/Bengaluru',\n",
       " 'Bangalore/Bengaluru',\n",
       " 'Bangalore/Bengaluru',\n",
       " 'Bangalore/Bengaluru',\n",
       " 'Bangalore/Bengaluru',\n",
       " 'Gurgaon/Gurugram, Chennai, Bangalore']"
      ]
     },
     "execution_count": 62,
     "metadata": {},
     "output_type": "execute_result"
    }
   ],
   "source": [
    "job_location = []\n",
    "for i in location_tags:\n",
    "    job_location.append(i.text)\n",
    "job_location   "
   ]
  },
  {
   "cell_type": "code",
   "execution_count": 63,
   "metadata": {},
   "outputs": [
    {
     "name": "stdout",
     "output_type": "stream",
     "text": [
      "20 20 20 20\n"
     ]
    }
   ],
   "source": [
    "print(len(job_titles),len(companies_names),len(experience_required),len(job_location))"
   ]
  },
  {
   "cell_type": "code",
   "execution_count": 64,
   "metadata": {},
   "outputs": [],
   "source": [
    "jobs = pd.DataFrame({})\n",
    "jobs['Job Title']=job_titles\n",
    "jobs['Company Names']=companies_names\n",
    "jobs['Experience Required']=experience_required\n",
    "jobs['Job Location']=job_location"
   ]
  },
  {
   "cell_type": "code",
   "execution_count": 65,
   "metadata": {},
   "outputs": [
    {
     "data": {
      "text/html": [
       "<div>\n",
       "<style scoped>\n",
       "    .dataframe tbody tr th:only-of-type {\n",
       "        vertical-align: middle;\n",
       "    }\n",
       "\n",
       "    .dataframe tbody tr th {\n",
       "        vertical-align: top;\n",
       "    }\n",
       "\n",
       "    .dataframe thead th {\n",
       "        text-align: right;\n",
       "    }\n",
       "</style>\n",
       "<table border=\"1\" class=\"dataframe\">\n",
       "  <thead>\n",
       "    <tr style=\"text-align: right;\">\n",
       "      <th></th>\n",
       "      <th>Job Title</th>\n",
       "      <th>Company Names</th>\n",
       "      <th>Experience Required</th>\n",
       "      <th>Job Location</th>\n",
       "    </tr>\n",
       "  </thead>\n",
       "  <tbody>\n",
       "    <tr>\n",
       "      <th>0</th>\n",
       "      <td>Business Data Analyst</td>\n",
       "      <td>Trigent Software</td>\n",
       "      <td>5-10 Yrs</td>\n",
       "      <td>Bangalore/Bengaluru</td>\n",
       "    </tr>\n",
       "    <tr>\n",
       "      <th>1</th>\n",
       "      <td>Business Data Analyst</td>\n",
       "      <td>Trigent Software</td>\n",
       "      <td>5-10 Yrs</td>\n",
       "      <td>Bangalore/Bengaluru</td>\n",
       "    </tr>\n",
       "    <tr>\n",
       "      <th>2</th>\n",
       "      <td>Senior Data Analyst IDAM Services</td>\n",
       "      <td>GlaxoSmithKline Pharmaceuticals Limited</td>\n",
       "      <td>4-8 Yrs</td>\n",
       "      <td>Bangalore/Bengaluru</td>\n",
       "    </tr>\n",
       "    <tr>\n",
       "      <th>3</th>\n",
       "      <td>Data Analyst/Sr.Data Engineer</td>\n",
       "      <td>SYREN TECHNOLOGIES PRIVATE LIMITED</td>\n",
       "      <td>4-9 Yrs</td>\n",
       "      <td>Hyderabad/Secunderabad, Chennai, Bangalore/Ben...</td>\n",
       "    </tr>\n",
       "    <tr>\n",
       "      <th>4</th>\n",
       "      <td>Business Data Analyst - Google Data Studio &amp; SQL</td>\n",
       "      <td>AVE-Promagne</td>\n",
       "      <td>3-8 Yrs</td>\n",
       "      <td>Bangalore/Bengaluru</td>\n",
       "    </tr>\n",
       "    <tr>\n",
       "      <th>5</th>\n",
       "      <td>Senior Data Analyst IN4</td>\n",
       "      <td>Walmart Labs</td>\n",
       "      <td>8-10 Yrs</td>\n",
       "      <td>Bangalore/Bengaluru</td>\n",
       "    </tr>\n",
       "    <tr>\n",
       "      <th>6</th>\n",
       "      <td>Data Analyst - Python/SQL</td>\n",
       "      <td>Affine</td>\n",
       "      <td>3-5 Yrs</td>\n",
       "      <td>Bangalore/Bengaluru</td>\n",
       "    </tr>\n",
       "    <tr>\n",
       "      <th>7</th>\n",
       "      <td>Executive Data Analyst</td>\n",
       "      <td>Gokaldas Exports Ltd</td>\n",
       "      <td>0-3 Yrs</td>\n",
       "      <td>Bangalore/Bengaluru</td>\n",
       "    </tr>\n",
       "    <tr>\n",
       "      <th>8</th>\n",
       "      <td>Senior Data Analyst</td>\n",
       "      <td>Virtusa Consulting Services Pvt Ltd</td>\n",
       "      <td>8-12 Yrs</td>\n",
       "      <td>Hyderabad/Secunderabad, Pune, Gurgaon/Gurugram...</td>\n",
       "    </tr>\n",
       "    <tr>\n",
       "      <th>9</th>\n",
       "      <td>Systems and Data Analyst, Safety and Provisioning</td>\n",
       "      <td>AECOM India Private Limited</td>\n",
       "      <td>2-7 Yrs</td>\n",
       "      <td>Bangalore/Bengaluru</td>\n",
       "    </tr>\n",
       "    <tr>\n",
       "      <th>10</th>\n",
       "      <td>Data Analyst with SQL</td>\n",
       "      <td>Wipro Limited</td>\n",
       "      <td>3-5 Yrs</td>\n",
       "      <td>Noida, Gurgaon/Gurugram, Bangalore/Bengaluru</td>\n",
       "    </tr>\n",
       "    <tr>\n",
       "      <th>11</th>\n",
       "      <td>Data Analyst</td>\n",
       "      <td>IBM India Pvt. Limited</td>\n",
       "      <td>1-4 Yrs</td>\n",
       "      <td>Bengaluru/Bangalore</td>\n",
       "    </tr>\n",
       "    <tr>\n",
       "      <th>12</th>\n",
       "      <td>Business Data Analyst - MIS &amp; Reporting</td>\n",
       "      <td>INTERTRUST GROUP</td>\n",
       "      <td>3-8 Yrs</td>\n",
       "      <td>Mumbai, Bangalore/Bengaluru</td>\n",
       "    </tr>\n",
       "    <tr>\n",
       "      <th>13</th>\n",
       "      <td>Data Analyst</td>\n",
       "      <td>Edge Executive Search Pvt. Ltd.</td>\n",
       "      <td>0-2 Yrs</td>\n",
       "      <td>Pune, Bangalore/Bengaluru, Mumbai (All Areas)</td>\n",
       "    </tr>\n",
       "    <tr>\n",
       "      <th>14</th>\n",
       "      <td>Data Analyst - EdTech</td>\n",
       "      <td>TalentStack</td>\n",
       "      <td>2-6 Yrs</td>\n",
       "      <td>Bangalore/Bengaluru</td>\n",
       "    </tr>\n",
       "    <tr>\n",
       "      <th>15</th>\n",
       "      <td>Lead , Data Analyst</td>\n",
       "      <td>Near Pte. Ltd.</td>\n",
       "      <td>6-11 Yrs</td>\n",
       "      <td>Bangalore/Bengaluru</td>\n",
       "    </tr>\n",
       "    <tr>\n",
       "      <th>16</th>\n",
       "      <td>Associate System and Data Analyst</td>\n",
       "      <td>Boeing</td>\n",
       "      <td>4-8 Yrs</td>\n",
       "      <td>Bangalore/Bengaluru</td>\n",
       "    </tr>\n",
       "    <tr>\n",
       "      <th>17</th>\n",
       "      <td>Data Analyst III (Item &amp; Inventory)</td>\n",
       "      <td>Walmart Labs</td>\n",
       "      <td>4-6 Yrs</td>\n",
       "      <td>Bangalore/Bengaluru</td>\n",
       "    </tr>\n",
       "    <tr>\n",
       "      <th>18</th>\n",
       "      <td>Data Analyst III</td>\n",
       "      <td>Walmart Labs</td>\n",
       "      <td>3-7 Yrs</td>\n",
       "      <td>Bangalore/Bengaluru</td>\n",
       "    </tr>\n",
       "    <tr>\n",
       "      <th>19</th>\n",
       "      <td>Data Analyst with SAS &amp; Python</td>\n",
       "      <td>Podium Systems</td>\n",
       "      <td>4-7 Yrs</td>\n",
       "      <td>Gurgaon/Gurugram, Chennai, Bangalore</td>\n",
       "    </tr>\n",
       "  </tbody>\n",
       "</table>\n",
       "</div>"
      ],
      "text/plain": [
       "                                            Job Title  \\\n",
       "0                               Business Data Analyst   \n",
       "1                               Business Data Analyst   \n",
       "2                   Senior Data Analyst IDAM Services   \n",
       "3                       Data Analyst/Sr.Data Engineer   \n",
       "4    Business Data Analyst - Google Data Studio & SQL   \n",
       "5                             Senior Data Analyst IN4   \n",
       "6                           Data Analyst - Python/SQL   \n",
       "7                              Executive Data Analyst   \n",
       "8                                 Senior Data Analyst   \n",
       "9   Systems and Data Analyst, Safety and Provisioning   \n",
       "10                              Data Analyst with SQL   \n",
       "11                                       Data Analyst   \n",
       "12            Business Data Analyst - MIS & Reporting   \n",
       "13                                       Data Analyst   \n",
       "14                              Data Analyst - EdTech   \n",
       "15                                Lead , Data Analyst   \n",
       "16                  Associate System and Data Analyst   \n",
       "17                Data Analyst III (Item & Inventory)   \n",
       "18                                   Data Analyst III   \n",
       "19                     Data Analyst with SAS & Python   \n",
       "\n",
       "                              Company Names Experience Required  \\\n",
       "0                          Trigent Software            5-10 Yrs   \n",
       "1                          Trigent Software            5-10 Yrs   \n",
       "2   GlaxoSmithKline Pharmaceuticals Limited             4-8 Yrs   \n",
       "3        SYREN TECHNOLOGIES PRIVATE LIMITED             4-9 Yrs   \n",
       "4                              AVE-Promagne             3-8 Yrs   \n",
       "5                              Walmart Labs            8-10 Yrs   \n",
       "6                                    Affine             3-5 Yrs   \n",
       "7                      Gokaldas Exports Ltd             0-3 Yrs   \n",
       "8       Virtusa Consulting Services Pvt Ltd            8-12 Yrs   \n",
       "9               AECOM India Private Limited             2-7 Yrs   \n",
       "10                            Wipro Limited             3-5 Yrs   \n",
       "11                   IBM India Pvt. Limited             1-4 Yrs   \n",
       "12                         INTERTRUST GROUP             3-8 Yrs   \n",
       "13          Edge Executive Search Pvt. Ltd.             0-2 Yrs   \n",
       "14                              TalentStack             2-6 Yrs   \n",
       "15                           Near Pte. Ltd.            6-11 Yrs   \n",
       "16                                   Boeing             4-8 Yrs   \n",
       "17                             Walmart Labs             4-6 Yrs   \n",
       "18                             Walmart Labs             3-7 Yrs   \n",
       "19                           Podium Systems             4-7 Yrs   \n",
       "\n",
       "                                         Job Location  \n",
       "0                                 Bangalore/Bengaluru  \n",
       "1                                 Bangalore/Bengaluru  \n",
       "2                                 Bangalore/Bengaluru  \n",
       "3   Hyderabad/Secunderabad, Chennai, Bangalore/Ben...  \n",
       "4                                 Bangalore/Bengaluru  \n",
       "5                                 Bangalore/Bengaluru  \n",
       "6                                 Bangalore/Bengaluru  \n",
       "7                                 Bangalore/Bengaluru  \n",
       "8   Hyderabad/Secunderabad, Pune, Gurgaon/Gurugram...  \n",
       "9                                 Bangalore/Bengaluru  \n",
       "10       Noida, Gurgaon/Gurugram, Bangalore/Bengaluru  \n",
       "11                                Bengaluru/Bangalore  \n",
       "12                        Mumbai, Bangalore/Bengaluru  \n",
       "13      Pune, Bangalore/Bengaluru, Mumbai (All Areas)  \n",
       "14                                Bangalore/Bengaluru  \n",
       "15                                Bangalore/Bengaluru  \n",
       "16                                Bangalore/Bengaluru  \n",
       "17                                Bangalore/Bengaluru  \n",
       "18                                Bangalore/Bengaluru  \n",
       "19               Gurgaon/Gurugram, Chennai, Bangalore  "
      ]
     },
     "execution_count": 65,
     "metadata": {},
     "output_type": "execute_result"
    }
   ],
   "source": [
    "jobs"
   ]
  },
  {
   "cell_type": "code",
   "execution_count": 66,
   "metadata": {},
   "outputs": [
    {
     "data": {
      "text/html": [
       "<div>\n",
       "<style scoped>\n",
       "    .dataframe tbody tr th:only-of-type {\n",
       "        vertical-align: middle;\n",
       "    }\n",
       "\n",
       "    .dataframe tbody tr th {\n",
       "        vertical-align: top;\n",
       "    }\n",
       "\n",
       "    .dataframe thead th {\n",
       "        text-align: right;\n",
       "    }\n",
       "</style>\n",
       "<table border=\"1\" class=\"dataframe\">\n",
       "  <thead>\n",
       "    <tr style=\"text-align: right;\">\n",
       "      <th></th>\n",
       "      <th>Job Title</th>\n",
       "      <th>Company Names</th>\n",
       "      <th>Experience Required</th>\n",
       "      <th>Job Location</th>\n",
       "    </tr>\n",
       "  </thead>\n",
       "  <tbody>\n",
       "    <tr>\n",
       "      <th>0</th>\n",
       "      <td>Business Data Analyst</td>\n",
       "      <td>Trigent Software</td>\n",
       "      <td>5-10 Yrs</td>\n",
       "      <td>Bangalore/Bengaluru</td>\n",
       "    </tr>\n",
       "    <tr>\n",
       "      <th>1</th>\n",
       "      <td>Business Data Analyst</td>\n",
       "      <td>Trigent Software</td>\n",
       "      <td>5-10 Yrs</td>\n",
       "      <td>Bangalore/Bengaluru</td>\n",
       "    </tr>\n",
       "    <tr>\n",
       "      <th>2</th>\n",
       "      <td>Senior Data Analyst IDAM Services</td>\n",
       "      <td>GlaxoSmithKline Pharmaceuticals Limited</td>\n",
       "      <td>4-8 Yrs</td>\n",
       "      <td>Bangalore/Bengaluru</td>\n",
       "    </tr>\n",
       "    <tr>\n",
       "      <th>3</th>\n",
       "      <td>Data Analyst/Sr.Data Engineer</td>\n",
       "      <td>SYREN TECHNOLOGIES PRIVATE LIMITED</td>\n",
       "      <td>4-9 Yrs</td>\n",
       "      <td>Hyderabad/Secunderabad, Chennai, Bangalore/Ben...</td>\n",
       "    </tr>\n",
       "    <tr>\n",
       "      <th>4</th>\n",
       "      <td>Business Data Analyst - Google Data Studio &amp; SQL</td>\n",
       "      <td>AVE-Promagne</td>\n",
       "      <td>3-8 Yrs</td>\n",
       "      <td>Bangalore/Bengaluru</td>\n",
       "    </tr>\n",
       "    <tr>\n",
       "      <th>5</th>\n",
       "      <td>Senior Data Analyst IN4</td>\n",
       "      <td>Walmart Labs</td>\n",
       "      <td>8-10 Yrs</td>\n",
       "      <td>Bangalore/Bengaluru</td>\n",
       "    </tr>\n",
       "    <tr>\n",
       "      <th>6</th>\n",
       "      <td>Data Analyst - Python/SQL</td>\n",
       "      <td>Affine</td>\n",
       "      <td>3-5 Yrs</td>\n",
       "      <td>Bangalore/Bengaluru</td>\n",
       "    </tr>\n",
       "    <tr>\n",
       "      <th>7</th>\n",
       "      <td>Executive Data Analyst</td>\n",
       "      <td>Gokaldas Exports Ltd</td>\n",
       "      <td>0-3 Yrs</td>\n",
       "      <td>Bangalore/Bengaluru</td>\n",
       "    </tr>\n",
       "    <tr>\n",
       "      <th>8</th>\n",
       "      <td>Senior Data Analyst</td>\n",
       "      <td>Virtusa Consulting Services Pvt Ltd</td>\n",
       "      <td>8-12 Yrs</td>\n",
       "      <td>Hyderabad/Secunderabad, Pune, Gurgaon/Gurugram...</td>\n",
       "    </tr>\n",
       "    <tr>\n",
       "      <th>9</th>\n",
       "      <td>Systems and Data Analyst, Safety and Provisioning</td>\n",
       "      <td>AECOM India Private Limited</td>\n",
       "      <td>2-7 Yrs</td>\n",
       "      <td>Bangalore/Bengaluru</td>\n",
       "    </tr>\n",
       "  </tbody>\n",
       "</table>\n",
       "</div>"
      ],
      "text/plain": [
       "                                           Job Title  \\\n",
       "0                              Business Data Analyst   \n",
       "1                              Business Data Analyst   \n",
       "2                  Senior Data Analyst IDAM Services   \n",
       "3                      Data Analyst/Sr.Data Engineer   \n",
       "4   Business Data Analyst - Google Data Studio & SQL   \n",
       "5                            Senior Data Analyst IN4   \n",
       "6                          Data Analyst - Python/SQL   \n",
       "7                             Executive Data Analyst   \n",
       "8                                Senior Data Analyst   \n",
       "9  Systems and Data Analyst, Safety and Provisioning   \n",
       "\n",
       "                             Company Names Experience Required  \\\n",
       "0                         Trigent Software            5-10 Yrs   \n",
       "1                         Trigent Software            5-10 Yrs   \n",
       "2  GlaxoSmithKline Pharmaceuticals Limited             4-8 Yrs   \n",
       "3       SYREN TECHNOLOGIES PRIVATE LIMITED             4-9 Yrs   \n",
       "4                             AVE-Promagne             3-8 Yrs   \n",
       "5                             Walmart Labs            8-10 Yrs   \n",
       "6                                   Affine             3-5 Yrs   \n",
       "7                     Gokaldas Exports Ltd             0-3 Yrs   \n",
       "8      Virtusa Consulting Services Pvt Ltd            8-12 Yrs   \n",
       "9              AECOM India Private Limited             2-7 Yrs   \n",
       "\n",
       "                                        Job Location  \n",
       "0                                Bangalore/Bengaluru  \n",
       "1                                Bangalore/Bengaluru  \n",
       "2                                Bangalore/Bengaluru  \n",
       "3  Hyderabad/Secunderabad, Chennai, Bangalore/Ben...  \n",
       "4                                Bangalore/Bengaluru  \n",
       "5                                Bangalore/Bengaluru  \n",
       "6                                Bangalore/Bengaluru  \n",
       "7                                Bangalore/Bengaluru  \n",
       "8  Hyderabad/Secunderabad, Pune, Gurgaon/Gurugram...  \n",
       "9                                Bangalore/Bengaluru  "
      ]
     },
     "execution_count": 66,
     "metadata": {},
     "output_type": "execute_result"
    }
   ],
   "source": [
    "jobs.head(10)"
   ]
  },
  {
   "cell_type": "code",
   "execution_count": null,
   "metadata": {},
   "outputs": [],
   "source": []
  },
  {
   "cell_type": "raw",
   "metadata": {},
   "source": [
    "Q2: Write a python program to scrape data for “Data Scientist” Job position in\n",
    "“Bangalore” location. You have to scrape the job-title, job-location,\n",
    "company_name, full job-description. You have to scrape first 10 jobs data.\n",
    "This task will be done in following steps:\n",
    "1. first get the webpage https://www.naukri.com/\n",
    "2. Enter “Data Scientist” in “Skill,Designations,Companies” field and enter\n",
    "“Bangalore” in “enter the location” field.\n",
    "3. Then click the search button.\n",
    "4. Then scrape the data for the first 10 jobs results you get.\n",
    "5. Finally create a dataframe of the scraped data."
   ]
  },
  {
   "cell_type": "code",
   "execution_count": 67,
   "metadata": {},
   "outputs": [],
   "source": [
    "driver = webdriver.Chrome(\"chromedriver.exe\")"
   ]
  },
  {
   "cell_type": "code",
   "execution_count": 68,
   "metadata": {},
   "outputs": [],
   "source": [
    "url = \" https://www.naukri.com/\"\n",
    "driver.get(url)"
   ]
  },
  {
   "cell_type": "code",
   "execution_count": 69,
   "metadata": {},
   "outputs": [
    {
     "data": {
      "text/plain": [
       "<selenium.webdriver.remote.webelement.WebElement (session=\"69b229256cd5e3083bf8bb11923430d7\", element=\"a6184390-ba17-4f1b-96e1-8a8e718afd60\")>"
      ]
     },
     "execution_count": 69,
     "metadata": {},
     "output_type": "execute_result"
    }
   ],
   "source": [
    "search_job = driver.find_element_by_id(\"qsb-keyword-sugg\")\n",
    "search_job"
   ]
  },
  {
   "cell_type": "code",
   "execution_count": 70,
   "metadata": {},
   "outputs": [],
   "source": [
    "search_job.send_keys(\"Data Scientist,Machine Learning\")"
   ]
  },
  {
   "cell_type": "code",
   "execution_count": 71,
   "metadata": {},
   "outputs": [
    {
     "data": {
      "text/plain": [
       "<selenium.webdriver.remote.webelement.WebElement (session=\"69b229256cd5e3083bf8bb11923430d7\", element=\"a5a42f19-e3c8-4f99-99ed-01ad54635349\")>"
      ]
     },
     "execution_count": 71,
     "metadata": {},
     "output_type": "execute_result"
    }
   ],
   "source": [
    "search_loc = driver.find_element_by_id(\"qsb-location-sugg\")\n",
    "search_loc"
   ]
  },
  {
   "cell_type": "code",
   "execution_count": 72,
   "metadata": {},
   "outputs": [],
   "source": [
    "search_loc.send_keys(\"Bangalore\")"
   ]
  },
  {
   "cell_type": "code",
   "execution_count": 73,
   "metadata": {},
   "outputs": [],
   "source": [
    "search_btn = driver.find_element_by_xpath(\"//button[@class='btn']\")\n",
    "search_btn.click()"
   ]
  },
  {
   "cell_type": "code",
   "execution_count": 74,
   "metadata": {},
   "outputs": [
    {
     "data": {
      "text/plain": [
       "[<selenium.webdriver.remote.webelement.WebElement (session=\"69b229256cd5e3083bf8bb11923430d7\", element=\"f39f12d0-c963-4e7c-8e14-ecf204bb257c\")>,\n",
       " <selenium.webdriver.remote.webelement.WebElement (session=\"69b229256cd5e3083bf8bb11923430d7\", element=\"9c7700fb-dd98-45f2-b1c2-adda404ab5e0\")>,\n",
       " <selenium.webdriver.remote.webelement.WebElement (session=\"69b229256cd5e3083bf8bb11923430d7\", element=\"3b06f9b8-5267-4743-8c72-a36e64a766b6\")>,\n",
       " <selenium.webdriver.remote.webelement.WebElement (session=\"69b229256cd5e3083bf8bb11923430d7\", element=\"3ebc1ae2-5f2d-44eb-8628-8a38d5fc625a\")>,\n",
       " <selenium.webdriver.remote.webelement.WebElement (session=\"69b229256cd5e3083bf8bb11923430d7\", element=\"198d72c2-0675-4acf-83da-6a7f0cadae46\")>,\n",
       " <selenium.webdriver.remote.webelement.WebElement (session=\"69b229256cd5e3083bf8bb11923430d7\", element=\"0f4b4a76-9eb3-4517-88ee-483719d6bee1\")>,\n",
       " <selenium.webdriver.remote.webelement.WebElement (session=\"69b229256cd5e3083bf8bb11923430d7\", element=\"99599d54-c926-40f1-9d22-4ee0e8745466\")>,\n",
       " <selenium.webdriver.remote.webelement.WebElement (session=\"69b229256cd5e3083bf8bb11923430d7\", element=\"c0fa0295-253d-4a43-aaec-3c3c2bbf7c13\")>,\n",
       " <selenium.webdriver.remote.webelement.WebElement (session=\"69b229256cd5e3083bf8bb11923430d7\", element=\"8f5ce8b6-241f-404e-b099-fcb0f01ea690\")>,\n",
       " <selenium.webdriver.remote.webelement.WebElement (session=\"69b229256cd5e3083bf8bb11923430d7\", element=\"1508ad6c-1bec-4352-a017-7a85cb527ee1\")>,\n",
       " <selenium.webdriver.remote.webelement.WebElement (session=\"69b229256cd5e3083bf8bb11923430d7\", element=\"ca7b2fbc-deb9-49dd-aaca-d83f0475b657\")>,\n",
       " <selenium.webdriver.remote.webelement.WebElement (session=\"69b229256cd5e3083bf8bb11923430d7\", element=\"b2eafab3-6e60-40ac-ade6-7061e0c97101\")>,\n",
       " <selenium.webdriver.remote.webelement.WebElement (session=\"69b229256cd5e3083bf8bb11923430d7\", element=\"b0a84b60-5668-4460-9c61-6f0715cd52b3\")>,\n",
       " <selenium.webdriver.remote.webelement.WebElement (session=\"69b229256cd5e3083bf8bb11923430d7\", element=\"fe64f6e4-bc31-4198-b8c4-ed827ac293d1\")>,\n",
       " <selenium.webdriver.remote.webelement.WebElement (session=\"69b229256cd5e3083bf8bb11923430d7\", element=\"3ba0f8a7-e668-4fb7-b97a-56f0ae2386b3\")>,\n",
       " <selenium.webdriver.remote.webelement.WebElement (session=\"69b229256cd5e3083bf8bb11923430d7\", element=\"a93f99fa-450e-4d1f-9213-7b48b92e1671\")>,\n",
       " <selenium.webdriver.remote.webelement.WebElement (session=\"69b229256cd5e3083bf8bb11923430d7\", element=\"5b8ec4f0-1b52-423e-939d-eb1352b0bff1\")>,\n",
       " <selenium.webdriver.remote.webelement.WebElement (session=\"69b229256cd5e3083bf8bb11923430d7\", element=\"304504d2-e147-49fe-9b76-109b0e26bc5e\")>,\n",
       " <selenium.webdriver.remote.webelement.WebElement (session=\"69b229256cd5e3083bf8bb11923430d7\", element=\"bbc062f7-f707-41a7-b449-33a181b98412\")>,\n",
       " <selenium.webdriver.remote.webelement.WebElement (session=\"69b229256cd5e3083bf8bb11923430d7\", element=\"dde71dd5-125c-4204-8cda-c23689e717ca\")>]"
      ]
     },
     "execution_count": 74,
     "metadata": {},
     "output_type": "execute_result"
    }
   ],
   "source": [
    "companies_titles = driver.find_elements_by_xpath(\"//a[@class='subTitle ellipsis fleft']\")\n",
    "companies_titles"
   ]
  },
  {
   "cell_type": "code",
   "execution_count": 75,
   "metadata": {},
   "outputs": [
    {
     "data": {
      "text/plain": [
       "['Wrackle Technologies Pvt Ltd',\n",
       " 'Squareroot Consulting Pvt Ltd.',\n",
       " 'Catalyst',\n",
       " 'Catalyst',\n",
       " 'Catalyst',\n",
       " 'Altimax Business Solutions',\n",
       " 'Wrackle Technologies Pvt Ltd',\n",
       " 'Ally -eXecutive HR Consulting Partner',\n",
       " 'Okda Solutions',\n",
       " 'Confidential',\n",
       " 'Creative Hands HR Consultancy',\n",
       " 'AugmatrixGo',\n",
       " 'TalentStack',\n",
       " 'Huquo Consulting Pvt. Ltd',\n",
       " 'Juniper Networks India Pvt Ltd',\n",
       " 'Juniper Networks India Pvt Ltd',\n",
       " 'Blue Yonder',\n",
       " 'Spectrus',\n",
       " 'Fractal Analytics',\n",
       " 'Blue Yonder']"
      ]
     },
     "execution_count": 75,
     "metadata": {},
     "output_type": "execute_result"
    }
   ],
   "source": [
    "company_name=[]\n",
    "for i in companies_titles:\n",
    "    company_name.append(i.text)\n",
    "company_name"
   ]
  },
  {
   "cell_type": "code",
   "execution_count": 76,
   "metadata": {},
   "outputs": [
    {
     "data": {
      "text/plain": [
       "[<selenium.webdriver.remote.webelement.WebElement (session=\"69b229256cd5e3083bf8bb11923430d7\", element=\"0da98046-420e-4f4d-8355-9b7b20db7fe1\")>,\n",
       " <selenium.webdriver.remote.webelement.WebElement (session=\"69b229256cd5e3083bf8bb11923430d7\", element=\"4b0e51e8-6813-4e68-814c-247f935b1752\")>,\n",
       " <selenium.webdriver.remote.webelement.WebElement (session=\"69b229256cd5e3083bf8bb11923430d7\", element=\"61087024-9684-41af-9de0-caed374498ad\")>,\n",
       " <selenium.webdriver.remote.webelement.WebElement (session=\"69b229256cd5e3083bf8bb11923430d7\", element=\"99218e2b-6a6c-4ede-8462-b6d94f57b128\")>,\n",
       " <selenium.webdriver.remote.webelement.WebElement (session=\"69b229256cd5e3083bf8bb11923430d7\", element=\"49a41505-d507-4d87-9582-d86016b71966\")>,\n",
       " <selenium.webdriver.remote.webelement.WebElement (session=\"69b229256cd5e3083bf8bb11923430d7\", element=\"941e0dd7-7fac-4c2a-b180-879bfa706677\")>,\n",
       " <selenium.webdriver.remote.webelement.WebElement (session=\"69b229256cd5e3083bf8bb11923430d7\", element=\"03f2d5bf-1134-4b4c-9ccc-9d1006ef5922\")>,\n",
       " <selenium.webdriver.remote.webelement.WebElement (session=\"69b229256cd5e3083bf8bb11923430d7\", element=\"69fdd632-5648-493e-bb25-051e9bf5b0d1\")>,\n",
       " <selenium.webdriver.remote.webelement.WebElement (session=\"69b229256cd5e3083bf8bb11923430d7\", element=\"985b07ca-a230-458c-8523-fb7ef0c5e6df\")>,\n",
       " <selenium.webdriver.remote.webelement.WebElement (session=\"69b229256cd5e3083bf8bb11923430d7\", element=\"61fce261-ed5f-4b09-aaed-9c5d586c51e5\")>,\n",
       " <selenium.webdriver.remote.webelement.WebElement (session=\"69b229256cd5e3083bf8bb11923430d7\", element=\"934c0fae-788d-49f2-aa99-d24fd9de3cf5\")>,\n",
       " <selenium.webdriver.remote.webelement.WebElement (session=\"69b229256cd5e3083bf8bb11923430d7\", element=\"0f9c2b36-d234-44b9-9430-9e4eee448799\")>,\n",
       " <selenium.webdriver.remote.webelement.WebElement (session=\"69b229256cd5e3083bf8bb11923430d7\", element=\"d6e02914-13a8-4ce5-9ee6-499bc01c45cf\")>,\n",
       " <selenium.webdriver.remote.webelement.WebElement (session=\"69b229256cd5e3083bf8bb11923430d7\", element=\"e0762e45-426f-43fe-b37f-8c9c4a701198\")>,\n",
       " <selenium.webdriver.remote.webelement.WebElement (session=\"69b229256cd5e3083bf8bb11923430d7\", element=\"43d7efc5-b967-42b6-860d-364adf495ee1\")>,\n",
       " <selenium.webdriver.remote.webelement.WebElement (session=\"69b229256cd5e3083bf8bb11923430d7\", element=\"8c366daf-0414-4e91-b600-9e1878683763\")>,\n",
       " <selenium.webdriver.remote.webelement.WebElement (session=\"69b229256cd5e3083bf8bb11923430d7\", element=\"d8299bc2-954d-45fa-ba30-b03e3308f9ca\")>,\n",
       " <selenium.webdriver.remote.webelement.WebElement (session=\"69b229256cd5e3083bf8bb11923430d7\", element=\"500f30f8-24bd-442a-8fac-d4e26c2af1c3\")>,\n",
       " <selenium.webdriver.remote.webelement.WebElement (session=\"69b229256cd5e3083bf8bb11923430d7\", element=\"c0ce5535-4875-485f-8f4e-51b1bb28d9e6\")>,\n",
       " <selenium.webdriver.remote.webelement.WebElement (session=\"69b229256cd5e3083bf8bb11923430d7\", element=\"356c8508-a4ad-487e-a6fb-e455a37d07b3\")>]"
      ]
     },
     "execution_count": 76,
     "metadata": {},
     "output_type": "execute_result"
    }
   ],
   "source": [
    "location_tags = driver.find_elements_by_xpath(\"//li[@class='fleft grey-text br2 placeHolderLi location']//span\")\n",
    "location_tags"
   ]
  },
  {
   "cell_type": "code",
   "execution_count": 77,
   "metadata": {},
   "outputs": [
    {
     "data": {
      "text/plain": [
       "['Bangalore/Bengaluru',\n",
       " 'Bangalore/Bengaluru',\n",
       " 'Bangalore/Bengaluru',\n",
       " 'Bangalore/Bengaluru',\n",
       " 'Bangalore/Bengaluru',\n",
       " 'Mumbai, Hyderabad/Secunderabad, Pune, Bangalore/Bengaluru',\n",
       " 'Bangalore/Bengaluru',\n",
       " 'Bangalore/Bengaluru',\n",
       " 'Bangalore/Bengaluru',\n",
       " 'Bangalore/Bengaluru',\n",
       " 'Mohali/SAS Nagar, Hyderabad/Secunderabad, Ahmedabad, Gurgaon/Gurugram, Chennai, Bangalore/Bengaluru',\n",
       " 'Bangalore/Bengaluru',\n",
       " 'Bangalore/Bengaluru',\n",
       " 'Bangalore/Bengaluru',\n",
       " 'Bangalore/Bengaluru',\n",
       " 'Bangalore/Bengaluru',\n",
       " 'Bengaluru',\n",
       " 'Bengaluru',\n",
       " 'Bengaluru',\n",
       " 'Bengaluru']"
      ]
     },
     "execution_count": 77,
     "metadata": {},
     "output_type": "execute_result"
    }
   ],
   "source": [
    "job_location = []\n",
    "for i in location_tags:\n",
    "    job_location.append(i.text)\n",
    "job_location"
   ]
  },
  {
   "cell_type": "code",
   "execution_count": 78,
   "metadata": {},
   "outputs": [],
   "source": [
    "urls=[]\n",
    "for i in driver.find_elements_by_xpath(\"//a[@class='title fw500 ellipsis']\"):\n",
    "    urls.append(i.get_attribute(\"href\"))"
   ]
  },
  {
   "cell_type": "code",
   "execution_count": 79,
   "metadata": {},
   "outputs": [
    {
     "data": {
      "text/plain": [
       "20"
      ]
     },
     "execution_count": 79,
     "metadata": {},
     "output_type": "execute_result"
    }
   ],
   "source": [
    "len(urls)"
   ]
  },
  {
   "cell_type": "code",
   "execution_count": 80,
   "metadata": {},
   "outputs": [],
   "source": [
    "job_title=[]\n",
    "job_description=[]"
   ]
  },
  {
   "cell_type": "code",
   "execution_count": 81,
   "metadata": {},
   "outputs": [],
   "source": [
    "for i in urls[:10]:\n",
    "    driver.get(i)\n",
    "    time.sleep(3)\n",
    "    \n",
    "    try:\n",
    "        job=driver.find_element_by_xpath(\"//h1[@class='jd-header-title']\")\n",
    "        job_title.append(job.text)\n",
    "    except NoSuchElementException:\n",
    "        job_title.append(\"-\")\n",
    "        \n",
    "        \n",
    "    try:\n",
    "        job_desc=driver.find_element_by_xpath(\"//section[@class='job-desc']\")\n",
    "        job_description.append(job_desc.text)\n",
    "    except:\n",
    "        job_description.append(\"-\")\n",
    "        "
   ]
  },
  {
   "cell_type": "code",
   "execution_count": 82,
   "metadata": {},
   "outputs": [
    {
     "name": "stdout",
     "output_type": "stream",
     "text": [
      "10\n",
      "10\n"
     ]
    }
   ],
   "source": [
    "print(len(job_title))\n",
    "print(len(job_description))"
   ]
  },
  {
   "cell_type": "code",
   "execution_count": 83,
   "metadata": {},
   "outputs": [
    {
     "name": "stdout",
     "output_type": "stream",
     "text": [
      "10 20 20 10\n"
     ]
    }
   ],
   "source": [
    "print(len(job_title),len(job_location),len(company_name),len(job_description))"
   ]
  },
  {
   "cell_type": "code",
   "execution_count": 84,
   "metadata": {},
   "outputs": [],
   "source": [
    "jobs = pd.DataFrame({})\n",
    "jobs['Job Titles']=job_title[:10]\n",
    "jobs['Job Location']=job_location[:10]\n",
    "jobs['Company Name']=company_name[:10]\n",
    "jobs['Job Description']=job_description[:10]"
   ]
  },
  {
   "cell_type": "code",
   "execution_count": 85,
   "metadata": {},
   "outputs": [
    {
     "data": {
      "text/html": [
       "<div>\n",
       "<style scoped>\n",
       "    .dataframe tbody tr th:only-of-type {\n",
       "        vertical-align: middle;\n",
       "    }\n",
       "\n",
       "    .dataframe tbody tr th {\n",
       "        vertical-align: top;\n",
       "    }\n",
       "\n",
       "    .dataframe thead th {\n",
       "        text-align: right;\n",
       "    }\n",
       "</style>\n",
       "<table border=\"1\" class=\"dataframe\">\n",
       "  <thead>\n",
       "    <tr style=\"text-align: right;\">\n",
       "      <th></th>\n",
       "      <th>Job Titles</th>\n",
       "      <th>Job Location</th>\n",
       "      <th>Company Name</th>\n",
       "      <th>Job Description</th>\n",
       "    </tr>\n",
       "  </thead>\n",
       "  <tbody>\n",
       "    <tr>\n",
       "      <th>0</th>\n",
       "      <td>Lead Data Scientist - Machine Learning/ Data M...</td>\n",
       "      <td>Bangalore/Bengaluru</td>\n",
       "      <td>Wrackle Technologies Pvt Ltd</td>\n",
       "      <td>Job description\\nRoles and Responsibilities\\nR...</td>\n",
       "    </tr>\n",
       "    <tr>\n",
       "      <th>1</th>\n",
       "      <td>Senior/Lead Data Scientist - Machine Learning/...</td>\n",
       "      <td>Bangalore/Bengaluru</td>\n",
       "      <td>Squareroot Consulting Pvt Ltd.</td>\n",
       "      <td>Job description\\nRoles and Responsibilities\\nH...</td>\n",
       "    </tr>\n",
       "    <tr>\n",
       "      <th>2</th>\n",
       "      <td>Chief Data Scientist - Machine Learning/ Python</td>\n",
       "      <td>Bangalore/Bengaluru</td>\n",
       "      <td>Catalyst</td>\n",
       "      <td>Job description\\nWhat you would do as a Data S...</td>\n",
       "    </tr>\n",
       "    <tr>\n",
       "      <th>3</th>\n",
       "      <td>Chief Data Scientist - Machine Learning/ Python</td>\n",
       "      <td>Bangalore/Bengaluru</td>\n",
       "      <td>Catalyst</td>\n",
       "      <td>Job description\\nChief Data Scientist - Machin...</td>\n",
       "    </tr>\n",
       "    <tr>\n",
       "      <th>4</th>\n",
       "      <td>Chief Data Scientist - Machine Learning/python</td>\n",
       "      <td>Bangalore/Bengaluru</td>\n",
       "      <td>Catalyst</td>\n",
       "      <td>Job description\\n- Work on the data science ro...</td>\n",
       "    </tr>\n",
       "    <tr>\n",
       "      <th>5</th>\n",
       "      <td>Senior Data Scientist - Python/Machine Learnin...</td>\n",
       "      <td>Mumbai, Hyderabad/Secunderabad, Pune, Bangalor...</td>\n",
       "      <td>Altimax Business Solutions</td>\n",
       "      <td>Job description\\nAbout The Job :\\n\\n- You will...</td>\n",
       "    </tr>\n",
       "    <tr>\n",
       "      <th>6</th>\n",
       "      <td>Data Scientist - Python/ MATLAB/ Machine Learn...</td>\n",
       "      <td>Bangalore/Bengaluru</td>\n",
       "      <td>Wrackle Technologies Pvt Ltd</td>\n",
       "      <td>Job description\\nData Scientist - Data Mining/...</td>\n",
       "    </tr>\n",
       "    <tr>\n",
       "      <th>7</th>\n",
       "      <td>Data Scientist - Algorithm/ Machine Learning</td>\n",
       "      <td>Bangalore/Bengaluru</td>\n",
       "      <td>Ally -eXecutive HR Consulting Partner</td>\n",
       "      <td>Job description\\nRoles &amp; Responsibilities :\\n\\...</td>\n",
       "    </tr>\n",
       "    <tr>\n",
       "      <th>8</th>\n",
       "      <td>Lead Data Scientist - Deep Learning/Machine Le...</td>\n",
       "      <td>Bangalore/Bengaluru</td>\n",
       "      <td>Okda Solutions</td>\n",
       "      <td>Job description\\nJob Description :\\n\\n1. Backg...</td>\n",
       "    </tr>\n",
       "    <tr>\n",
       "      <th>9</th>\n",
       "      <td>Lead Data Scientist - Deep Learning/machine Le...</td>\n",
       "      <td>Bangalore/Bengaluru</td>\n",
       "      <td>Confidential</td>\n",
       "      <td>Job description\\nJob Description :\\n\\n1. Backg...</td>\n",
       "    </tr>\n",
       "  </tbody>\n",
       "</table>\n",
       "</div>"
      ],
      "text/plain": [
       "                                          Job Titles  \\\n",
       "0  Lead Data Scientist - Machine Learning/ Data M...   \n",
       "1  Senior/Lead Data Scientist - Machine Learning/...   \n",
       "2    Chief Data Scientist - Machine Learning/ Python   \n",
       "3    Chief Data Scientist - Machine Learning/ Python   \n",
       "4     Chief Data Scientist - Machine Learning/python   \n",
       "5  Senior Data Scientist - Python/Machine Learnin...   \n",
       "6  Data Scientist - Python/ MATLAB/ Machine Learn...   \n",
       "7       Data Scientist - Algorithm/ Machine Learning   \n",
       "8  Lead Data Scientist - Deep Learning/Machine Le...   \n",
       "9  Lead Data Scientist - Deep Learning/machine Le...   \n",
       "\n",
       "                                        Job Location  \\\n",
       "0                                Bangalore/Bengaluru   \n",
       "1                                Bangalore/Bengaluru   \n",
       "2                                Bangalore/Bengaluru   \n",
       "3                                Bangalore/Bengaluru   \n",
       "4                                Bangalore/Bengaluru   \n",
       "5  Mumbai, Hyderabad/Secunderabad, Pune, Bangalor...   \n",
       "6                                Bangalore/Bengaluru   \n",
       "7                                Bangalore/Bengaluru   \n",
       "8                                Bangalore/Bengaluru   \n",
       "9                                Bangalore/Bengaluru   \n",
       "\n",
       "                            Company Name  \\\n",
       "0           Wrackle Technologies Pvt Ltd   \n",
       "1         Squareroot Consulting Pvt Ltd.   \n",
       "2                               Catalyst   \n",
       "3                               Catalyst   \n",
       "4                               Catalyst   \n",
       "5             Altimax Business Solutions   \n",
       "6           Wrackle Technologies Pvt Ltd   \n",
       "7  Ally -eXecutive HR Consulting Partner   \n",
       "8                         Okda Solutions   \n",
       "9                           Confidential   \n",
       "\n",
       "                                     Job Description  \n",
       "0  Job description\\nRoles and Responsibilities\\nR...  \n",
       "1  Job description\\nRoles and Responsibilities\\nH...  \n",
       "2  Job description\\nWhat you would do as a Data S...  \n",
       "3  Job description\\nChief Data Scientist - Machin...  \n",
       "4  Job description\\n- Work on the data science ro...  \n",
       "5  Job description\\nAbout The Job :\\n\\n- You will...  \n",
       "6  Job description\\nData Scientist - Data Mining/...  \n",
       "7  Job description\\nRoles & Responsibilities :\\n\\...  \n",
       "8  Job description\\nJob Description :\\n\\n1. Backg...  \n",
       "9  Job description\\nJob Description :\\n\\n1. Backg...  "
      ]
     },
     "execution_count": 85,
     "metadata": {},
     "output_type": "execute_result"
    }
   ],
   "source": [
    "jobs"
   ]
  },
  {
   "cell_type": "code",
   "execution_count": null,
   "metadata": {},
   "outputs": [],
   "source": []
  },
  {
   "cell_type": "raw",
   "metadata": {},
   "source": [
    "Q3: In this question you have to scrape data using the filters available on the\n",
    "webpage as shown below: You have to use the location and salary filter. You have to scrape data for “Data Scientist” designation for first 10 job results. You have to scrape the job-title, job-location, company_name, experience_required. The location filter to be used is “Delhi/NCR” The salary filter to be used is “3-6” lakhs The task will be done as shown in the below steps:\n",
    "\n",
    "1.first get the webpage https://www.naukri.com/\n",
    "2.Enter “Data Scientist” in “Skill,Designations,Companies” field .\n",
    "3.Then click the search button.\n",
    "4.Then apply the location filter and salary filter by checking the respective boxes\n",
    "5.Then scrape the data for the first 10 jobs results you get.\n",
    "Finally create a dataframe of the scraped data. Note- All of the above steps have to be done in code. No step is to be done manually."
   ]
  },
  {
   "cell_type": "code",
   "execution_count": 86,
   "metadata": {},
   "outputs": [],
   "source": [
    "driver = webdriver.Chrome(\"chromedriver.exe\")"
   ]
  },
  {
   "cell_type": "code",
   "execution_count": 87,
   "metadata": {},
   "outputs": [],
   "source": [
    "url = \"https://www.naukri.com/\"\n",
    "driver.get(url)"
   ]
  },
  {
   "cell_type": "code",
   "execution_count": 88,
   "metadata": {},
   "outputs": [
    {
     "data": {
      "text/plain": [
       "<selenium.webdriver.remote.webelement.WebElement (session=\"5d7d79d6bb3b33a375f7c92289d625a0\", element=\"ab538f50-d39f-45d9-87e6-126e0b4b159d\")>"
      ]
     },
     "execution_count": 88,
     "metadata": {},
     "output_type": "execute_result"
    }
   ],
   "source": [
    "search_job = driver.find_element_by_id(\"qsb-keyword-sugg\")\n",
    "search_job"
   ]
  },
  {
   "cell_type": "code",
   "execution_count": 89,
   "metadata": {},
   "outputs": [],
   "source": [
    "search_job.send_keys(\"Data Scientist\")"
   ]
  },
  {
   "cell_type": "code",
   "execution_count": 90,
   "metadata": {},
   "outputs": [],
   "source": [
    "search_btn = driver.find_element_by_xpath(\"//button[@class='btn']\")\n",
    "search_btn.click()"
   ]
  },
  {
   "cell_type": "code",
   "execution_count": 91,
   "metadata": {},
   "outputs": [],
   "source": [
    "filter_button = driver.find_elements_by_xpath(\"//span[@class='ellipsis fleft']\")\n",
    "for i in filter_button:\n",
    "    if i.text=='Delhi / NCR':\n",
    "        i.click()\n",
    "        break"
   ]
  },
  {
   "cell_type": "code",
   "execution_count": 92,
   "metadata": {},
   "outputs": [],
   "source": [
    "filter_button = driver.find_elements_by_xpath(\"//span[@class='ellipsis fleft']\")\n",
    "for i in filter_button:\n",
    "    if i.text=='3-6 Lakhs':\n",
    "        i.click()\n",
    "        break"
   ]
  },
  {
   "cell_type": "code",
   "execution_count": 93,
   "metadata": {},
   "outputs": [
    {
     "data": {
      "text/plain": [
       "[<selenium.webdriver.remote.webelement.WebElement (session=\"5d7d79d6bb3b33a375f7c92289d625a0\", element=\"e0bcf0e7-bef3-445e-a45a-20bf50810d86\")>,\n",
       " <selenium.webdriver.remote.webelement.WebElement (session=\"5d7d79d6bb3b33a375f7c92289d625a0\", element=\"0e997710-c63a-4893-809c-e1b8416e7134\")>,\n",
       " <selenium.webdriver.remote.webelement.WebElement (session=\"5d7d79d6bb3b33a375f7c92289d625a0\", element=\"a533a130-c9f0-4cdd-919c-3e01a6791e4e\")>,\n",
       " <selenium.webdriver.remote.webelement.WebElement (session=\"5d7d79d6bb3b33a375f7c92289d625a0\", element=\"117c041c-9b7b-458e-84fd-9ccff5d22384\")>,\n",
       " <selenium.webdriver.remote.webelement.WebElement (session=\"5d7d79d6bb3b33a375f7c92289d625a0\", element=\"58ca3113-fea7-48f0-9ebb-eb0150da5427\")>,\n",
       " <selenium.webdriver.remote.webelement.WebElement (session=\"5d7d79d6bb3b33a375f7c92289d625a0\", element=\"5d8389cc-e7ad-48ad-ada4-50bb8cb7f602\")>,\n",
       " <selenium.webdriver.remote.webelement.WebElement (session=\"5d7d79d6bb3b33a375f7c92289d625a0\", element=\"c9b3a958-6b3e-40d4-aecd-10eea6633cb4\")>,\n",
       " <selenium.webdriver.remote.webelement.WebElement (session=\"5d7d79d6bb3b33a375f7c92289d625a0\", element=\"132de482-4a2a-4371-9c39-4000bd29948f\")>,\n",
       " <selenium.webdriver.remote.webelement.WebElement (session=\"5d7d79d6bb3b33a375f7c92289d625a0\", element=\"a042f249-3597-479c-a0db-c2bf6777cdc4\")>,\n",
       " <selenium.webdriver.remote.webelement.WebElement (session=\"5d7d79d6bb3b33a375f7c92289d625a0\", element=\"8e0eb075-865c-4dda-9c88-ffb0404dea8e\")>,\n",
       " <selenium.webdriver.remote.webelement.WebElement (session=\"5d7d79d6bb3b33a375f7c92289d625a0\", element=\"f0fc1621-ae89-4d79-99f1-0ca397bd3aa9\")>,\n",
       " <selenium.webdriver.remote.webelement.WebElement (session=\"5d7d79d6bb3b33a375f7c92289d625a0\", element=\"3420df63-d07f-4a79-bdba-a1602cce7366\")>,\n",
       " <selenium.webdriver.remote.webelement.WebElement (session=\"5d7d79d6bb3b33a375f7c92289d625a0\", element=\"bcf6939a-f73e-42f5-b320-e61a842228f8\")>,\n",
       " <selenium.webdriver.remote.webelement.WebElement (session=\"5d7d79d6bb3b33a375f7c92289d625a0\", element=\"740ab59b-b56b-4a0d-a201-2001011b6e41\")>,\n",
       " <selenium.webdriver.remote.webelement.WebElement (session=\"5d7d79d6bb3b33a375f7c92289d625a0\", element=\"543501b2-b50d-42e2-92f7-b27c1502349f\")>,\n",
       " <selenium.webdriver.remote.webelement.WebElement (session=\"5d7d79d6bb3b33a375f7c92289d625a0\", element=\"8fe764e4-0acb-46a5-849f-82d826d14bd4\")>,\n",
       " <selenium.webdriver.remote.webelement.WebElement (session=\"5d7d79d6bb3b33a375f7c92289d625a0\", element=\"9c4fa1bb-74a3-46f9-a578-18fdb7a1d17f\")>,\n",
       " <selenium.webdriver.remote.webelement.WebElement (session=\"5d7d79d6bb3b33a375f7c92289d625a0\", element=\"5ba9cd85-7a13-40a2-afd6-1c728e1d8e37\")>,\n",
       " <selenium.webdriver.remote.webelement.WebElement (session=\"5d7d79d6bb3b33a375f7c92289d625a0\", element=\"077b4245-f580-4eed-909f-46f8f0c57847\")>,\n",
       " <selenium.webdriver.remote.webelement.WebElement (session=\"5d7d79d6bb3b33a375f7c92289d625a0\", element=\"52e5be48-7426-4418-9559-c633c5f7c5bf\")>]"
      ]
     },
     "execution_count": 93,
     "metadata": {},
     "output_type": "execute_result"
    }
   ],
   "source": [
    "job_tags = driver.find_elements_by_xpath(\"//a[@class='title fw500 ellipsis']\")\n",
    "job_tags"
   ]
  },
  {
   "cell_type": "code",
   "execution_count": 94,
   "metadata": {},
   "outputs": [
    {
     "data": {
      "text/plain": [
       "['Data Analyst/Data Scientist',\n",
       " 'Only Fresher / Data Scientist / Data Analyst / Analytics - MNC Jobs',\n",
       " 'Data Scientist',\n",
       " 'Data Scientist/ Machine Learning Engineer',\n",
       " 'Data Scientist / Data Analyst / Business Analytics - MNC Jobs Freshers',\n",
       " 'Data Scientist / Data Analyst',\n",
       " 'Immediate Openings For Data Scientist For Wipro C2H',\n",
       " 'Data Scientist - WFH - MIND Infotech',\n",
       " 'Data Scientist',\n",
       " 'Data Scientist',\n",
       " 'Data Scientist-immediate Joiners',\n",
       " 'Junior Data Scientists & Engineers',\n",
       " 'Data Scientist - Machine Learning/ NLP',\n",
       " 'Data Scientist',\n",
       " 'Data Scientist Internship',\n",
       " 'Senior Data Scientist',\n",
       " 'Data Scientist',\n",
       " 'Senior Data Scientist',\n",
       " 'Hiring Data Scientist Develope || IDS Infotech LTD || (Permanent WFH)',\n",
       " 'Data Scientist']"
      ]
     },
     "execution_count": 94,
     "metadata": {},
     "output_type": "execute_result"
    }
   ],
   "source": [
    "job_titles=[]\n",
    "for i in job_tags:\n",
    "    job_titles.append(i.text)\n",
    "job_titles "
   ]
  },
  {
   "cell_type": "code",
   "execution_count": 95,
   "metadata": {},
   "outputs": [
    {
     "data": {
      "text/plain": [
       "[<selenium.webdriver.remote.webelement.WebElement (session=\"5d7d79d6bb3b33a375f7c92289d625a0\", element=\"a7663c13-1e69-4683-a156-25acfab388b5\")>,\n",
       " <selenium.webdriver.remote.webelement.WebElement (session=\"5d7d79d6bb3b33a375f7c92289d625a0\", element=\"5950a443-2dd8-4ae5-9cf1-53514fa1d158\")>,\n",
       " <selenium.webdriver.remote.webelement.WebElement (session=\"5d7d79d6bb3b33a375f7c92289d625a0\", element=\"3544a205-b6aa-4fc9-afb8-122e81842390\")>,\n",
       " <selenium.webdriver.remote.webelement.WebElement (session=\"5d7d79d6bb3b33a375f7c92289d625a0\", element=\"7d23e2a9-db10-48c1-b99d-bc497b024ee1\")>,\n",
       " <selenium.webdriver.remote.webelement.WebElement (session=\"5d7d79d6bb3b33a375f7c92289d625a0\", element=\"c53f3914-4db3-436b-a840-63c9007e859f\")>,\n",
       " <selenium.webdriver.remote.webelement.WebElement (session=\"5d7d79d6bb3b33a375f7c92289d625a0\", element=\"6a97745e-46d9-478c-9dd9-c844a2c4a592\")>,\n",
       " <selenium.webdriver.remote.webelement.WebElement (session=\"5d7d79d6bb3b33a375f7c92289d625a0\", element=\"7154340c-fbf8-4f50-a61a-99707b991090\")>,\n",
       " <selenium.webdriver.remote.webelement.WebElement (session=\"5d7d79d6bb3b33a375f7c92289d625a0\", element=\"bee13ad2-82e0-430c-bcbd-fb65021b5aaa\")>,\n",
       " <selenium.webdriver.remote.webelement.WebElement (session=\"5d7d79d6bb3b33a375f7c92289d625a0\", element=\"9de592c8-d140-42ff-9843-b7bbd7c17387\")>,\n",
       " <selenium.webdriver.remote.webelement.WebElement (session=\"5d7d79d6bb3b33a375f7c92289d625a0\", element=\"ebf83803-b1bc-4aea-841b-601afb831b16\")>,\n",
       " <selenium.webdriver.remote.webelement.WebElement (session=\"5d7d79d6bb3b33a375f7c92289d625a0\", element=\"3d86c11e-b58a-4041-a825-ab0b3e3bc578\")>,\n",
       " <selenium.webdriver.remote.webelement.WebElement (session=\"5d7d79d6bb3b33a375f7c92289d625a0\", element=\"59880215-2b86-4265-96b6-d24cd83261f6\")>,\n",
       " <selenium.webdriver.remote.webelement.WebElement (session=\"5d7d79d6bb3b33a375f7c92289d625a0\", element=\"343f9a43-f5d2-4fd9-bc84-7e72f8321368\")>,\n",
       " <selenium.webdriver.remote.webelement.WebElement (session=\"5d7d79d6bb3b33a375f7c92289d625a0\", element=\"a752adfa-87ca-4573-9090-586e6c69b9e3\")>,\n",
       " <selenium.webdriver.remote.webelement.WebElement (session=\"5d7d79d6bb3b33a375f7c92289d625a0\", element=\"8fde074f-dea0-431e-9332-f3dfd54e2832\")>,\n",
       " <selenium.webdriver.remote.webelement.WebElement (session=\"5d7d79d6bb3b33a375f7c92289d625a0\", element=\"326fb67c-3bfe-4960-8cab-711d7b6fd0c4\")>,\n",
       " <selenium.webdriver.remote.webelement.WebElement (session=\"5d7d79d6bb3b33a375f7c92289d625a0\", element=\"36946021-c11a-455f-9603-d118cdd3fef1\")>,\n",
       " <selenium.webdriver.remote.webelement.WebElement (session=\"5d7d79d6bb3b33a375f7c92289d625a0\", element=\"ddd1b5c3-a714-4d9c-84b5-7fac4c4243d5\")>,\n",
       " <selenium.webdriver.remote.webelement.WebElement (session=\"5d7d79d6bb3b33a375f7c92289d625a0\", element=\"05253f09-e1a5-4f90-89d8-567af183b191\")>,\n",
       " <selenium.webdriver.remote.webelement.WebElement (session=\"5d7d79d6bb3b33a375f7c92289d625a0\", element=\"5c21b676-83d6-4085-af4d-b1a9647f1d9d\")>]"
      ]
     },
     "execution_count": 95,
     "metadata": {},
     "output_type": "execute_result"
    }
   ],
   "source": [
    "location_tags=driver.find_elements_by_xpath(\"//li[@class='fleft grey-text br2 placeHolderLi location']\")\n",
    "location_tags"
   ]
  },
  {
   "cell_type": "code",
   "execution_count": 96,
   "metadata": {},
   "outputs": [
    {
     "data": {
      "text/plain": [
       "['Bangalore/Bengaluru, Delhi / NCR, Mumbai (All Areas)',\n",
       " 'Noida, Gurgaon/Gurugram, Delhi / NCR',\n",
       " 'Gurgaon/Gurugram\\n(WFH during Covid)',\n",
       " 'Mohali/SAS Nagar, Hyderabad/Secunderabad, Ahmedabad, Gurgaon/Gurugram, Chennai, Bangalore/Bengaluru',\n",
       " 'Noida, New Delhi, Gurgaon/Gurugram',\n",
       " 'Gurgaon/Gurugram',\n",
       " 'Gurgaon/Gurugram',\n",
       " 'Pune, Chennai, Bangalore/Bengaluru, Delhi / NCR, Mumbai (All Areas)',\n",
       " 'Noida\\n(WFH during Covid)',\n",
       " 'Delhi / NCR(Okhla)',\n",
       " 'Noida',\n",
       " 'New Delhi, Delhi / NCR',\n",
       " 'Gurgaon/Gurugram',\n",
       " 'Mumbai, Gurgaon/Gurugram, Bangalore/Bengaluru',\n",
       " 'New Delhi',\n",
       " 'Hyderabad/Secunderabad, Gurgaon/Gurugram, Bangalore/Bengaluru',\n",
       " 'Bharuch, Jaipur, Bhopal, Mumbai, Jhansi, Nagpur, Ghaziabad, Jaunpur, Kanpur, Delhi, Lucknow, Agra, Gurgaon, Rajkot, Bengaluru',\n",
       " 'Delhi',\n",
       " 'Chandigarh, Hyderabad/Secunderabad, Chennai, Bangalore/Bengaluru, Delhi / NCR',\n",
       " 'Delhi']"
      ]
     },
     "execution_count": 96,
     "metadata": {},
     "output_type": "execute_result"
    }
   ],
   "source": [
    "job_location=[]\n",
    "for i in location_tags:\n",
    "    job_location.append(i.text)\n",
    "job_location  "
   ]
  },
  {
   "cell_type": "code",
   "execution_count": 97,
   "metadata": {},
   "outputs": [
    {
     "data": {
      "text/plain": [
       "[<selenium.webdriver.remote.webelement.WebElement (session=\"5d7d79d6bb3b33a375f7c92289d625a0\", element=\"f4b18744-d2d1-4c4f-ba52-c39d03e0fbc3\")>,\n",
       " <selenium.webdriver.remote.webelement.WebElement (session=\"5d7d79d6bb3b33a375f7c92289d625a0\", element=\"ebaa886a-6870-4b08-b529-cc386af4662d\")>,\n",
       " <selenium.webdriver.remote.webelement.WebElement (session=\"5d7d79d6bb3b33a375f7c92289d625a0\", element=\"ed6707a5-5487-46cc-816f-99a4b2edbe37\")>,\n",
       " <selenium.webdriver.remote.webelement.WebElement (session=\"5d7d79d6bb3b33a375f7c92289d625a0\", element=\"bb5d2312-05b2-43a3-a51c-9a8d1e6dcb8d\")>,\n",
       " <selenium.webdriver.remote.webelement.WebElement (session=\"5d7d79d6bb3b33a375f7c92289d625a0\", element=\"67f54f21-9ef1-47d4-a9c4-00bf1497e87b\")>,\n",
       " <selenium.webdriver.remote.webelement.WebElement (session=\"5d7d79d6bb3b33a375f7c92289d625a0\", element=\"d3bf6222-82b8-444b-991b-beae5298187e\")>,\n",
       " <selenium.webdriver.remote.webelement.WebElement (session=\"5d7d79d6bb3b33a375f7c92289d625a0\", element=\"95670f69-e5e2-4cf2-beb4-8e44321411b9\")>,\n",
       " <selenium.webdriver.remote.webelement.WebElement (session=\"5d7d79d6bb3b33a375f7c92289d625a0\", element=\"e01aeac0-a825-40d2-bc3c-c82a682498d2\")>,\n",
       " <selenium.webdriver.remote.webelement.WebElement (session=\"5d7d79d6bb3b33a375f7c92289d625a0\", element=\"81e2355c-aaba-4be4-b1d7-1f131bedbcdd\")>,\n",
       " <selenium.webdriver.remote.webelement.WebElement (session=\"5d7d79d6bb3b33a375f7c92289d625a0\", element=\"03b9a3ae-793f-45c5-872b-92544ca13ae9\")>,\n",
       " <selenium.webdriver.remote.webelement.WebElement (session=\"5d7d79d6bb3b33a375f7c92289d625a0\", element=\"598ed14f-af6f-437e-b9ff-a0a77cda5758\")>,\n",
       " <selenium.webdriver.remote.webelement.WebElement (session=\"5d7d79d6bb3b33a375f7c92289d625a0\", element=\"bd2f7d26-85ae-4380-88b9-bd4cb21b6eec\")>,\n",
       " <selenium.webdriver.remote.webelement.WebElement (session=\"5d7d79d6bb3b33a375f7c92289d625a0\", element=\"8485ab2d-e919-4c29-92fc-c99dd2d32b62\")>,\n",
       " <selenium.webdriver.remote.webelement.WebElement (session=\"5d7d79d6bb3b33a375f7c92289d625a0\", element=\"f7ffbf62-fb57-4a8b-a5ce-c51700738984\")>,\n",
       " <selenium.webdriver.remote.webelement.WebElement (session=\"5d7d79d6bb3b33a375f7c92289d625a0\", element=\"349e184a-fd71-437c-b79b-b43346f49e25\")>,\n",
       " <selenium.webdriver.remote.webelement.WebElement (session=\"5d7d79d6bb3b33a375f7c92289d625a0\", element=\"762e272a-5014-4d26-a3ba-7440c6fe5515\")>,\n",
       " <selenium.webdriver.remote.webelement.WebElement (session=\"5d7d79d6bb3b33a375f7c92289d625a0\", element=\"53d55a75-375e-4d6a-8392-58f7a2a92fa3\")>,\n",
       " <selenium.webdriver.remote.webelement.WebElement (session=\"5d7d79d6bb3b33a375f7c92289d625a0\", element=\"7b6bc5f0-ca11-41cf-a319-fc90ff6a6c87\")>,\n",
       " <selenium.webdriver.remote.webelement.WebElement (session=\"5d7d79d6bb3b33a375f7c92289d625a0\", element=\"585931d3-bb09-4a9b-8892-9b3c45cf7fe4\")>,\n",
       " <selenium.webdriver.remote.webelement.WebElement (session=\"5d7d79d6bb3b33a375f7c92289d625a0\", element=\"a7050315-c036-4e83-b678-229a2a3cd95b\")>]"
      ]
     },
     "execution_count": 97,
     "metadata": {},
     "output_type": "execute_result"
    }
   ],
   "source": [
    "company_tags=driver.find_elements_by_xpath(\"//a[@class='subTitle ellipsis fleft']\")\n",
    "company_tags"
   ]
  },
  {
   "cell_type": "code",
   "execution_count": 98,
   "metadata": {},
   "outputs": [
    {
     "data": {
      "text/plain": [
       "['Skillenable Fintech Private Limited',\n",
       " 'GABA Consultancy services',\n",
       " 'PROCESS NINE TECHNOLOGIES PVT.LTD.',\n",
       " 'Creative Hands HR Consultancy',\n",
       " 'GABA Consultancy services',\n",
       " 'CARS24',\n",
       " 'IDESLABS PRIVATE LIMITED',\n",
       " 'MOTHERSONSUMI INFOTECH & DESIGNS LIMITED',\n",
       " 'R Systems International Ltd.',\n",
       " 'Kusum Healthcare Pvt. Ltd.',\n",
       " 'Quikruit Consulting LLP',\n",
       " 'PY Consultancy',\n",
       " 'TalPro',\n",
       " 'Fractal Analytics',\n",
       " 'iHackers Inc',\n",
       " 'inVentiv International Pharma Services Pvt. Ltd.',\n",
       " 'Country Veggie',\n",
       " 'iNICU',\n",
       " 'IDS Infotech Ltd.',\n",
       " 'Sentieo']"
      ]
     },
     "execution_count": 98,
     "metadata": {},
     "output_type": "execute_result"
    }
   ],
   "source": [
    "company_name=[]\n",
    "for i in company_tags:\n",
    "    company_name.append(i.text)\n",
    "company_name"
   ]
  },
  {
   "cell_type": "code",
   "execution_count": 99,
   "metadata": {},
   "outputs": [
    {
     "data": {
      "text/plain": [
       "[<selenium.webdriver.remote.webelement.WebElement (session=\"5d7d79d6bb3b33a375f7c92289d625a0\", element=\"7f8acedc-f6ff-44a6-bb3f-9c61269113fe\")>,\n",
       " <selenium.webdriver.remote.webelement.WebElement (session=\"5d7d79d6bb3b33a375f7c92289d625a0\", element=\"c1b8e7f7-0973-44d6-91ee-6f06ed54b487\")>,\n",
       " <selenium.webdriver.remote.webelement.WebElement (session=\"5d7d79d6bb3b33a375f7c92289d625a0\", element=\"d21f942e-721b-474a-b9bd-9fdad4b2c29a\")>,\n",
       " <selenium.webdriver.remote.webelement.WebElement (session=\"5d7d79d6bb3b33a375f7c92289d625a0\", element=\"fdf0821c-6d2a-4e31-8a98-267a44ebcf8f\")>,\n",
       " <selenium.webdriver.remote.webelement.WebElement (session=\"5d7d79d6bb3b33a375f7c92289d625a0\", element=\"a1faf822-8e79-4660-9dff-d5cbc434eca1\")>,\n",
       " <selenium.webdriver.remote.webelement.WebElement (session=\"5d7d79d6bb3b33a375f7c92289d625a0\", element=\"11bafa31-b1cd-4ac8-900b-3eff9f81ba8b\")>,\n",
       " <selenium.webdriver.remote.webelement.WebElement (session=\"5d7d79d6bb3b33a375f7c92289d625a0\", element=\"90fef497-d770-4576-93ce-dc9f2a04aada\")>,\n",
       " <selenium.webdriver.remote.webelement.WebElement (session=\"5d7d79d6bb3b33a375f7c92289d625a0\", element=\"f647e4cd-264b-42e3-aed0-cc23099c9de7\")>,\n",
       " <selenium.webdriver.remote.webelement.WebElement (session=\"5d7d79d6bb3b33a375f7c92289d625a0\", element=\"fb1d6da9-e575-4d01-9491-1bb14b455259\")>,\n",
       " <selenium.webdriver.remote.webelement.WebElement (session=\"5d7d79d6bb3b33a375f7c92289d625a0\", element=\"561004fb-fdd4-4296-a010-0559736e6b85\")>,\n",
       " <selenium.webdriver.remote.webelement.WebElement (session=\"5d7d79d6bb3b33a375f7c92289d625a0\", element=\"7f3f501e-95a0-470d-9412-2ea261380f61\")>,\n",
       " <selenium.webdriver.remote.webelement.WebElement (session=\"5d7d79d6bb3b33a375f7c92289d625a0\", element=\"f12f7a36-8251-4d08-bc0c-53e2f2170eff\")>,\n",
       " <selenium.webdriver.remote.webelement.WebElement (session=\"5d7d79d6bb3b33a375f7c92289d625a0\", element=\"84f9e2bb-c56d-4475-a4e8-4e36947fd6d3\")>,\n",
       " <selenium.webdriver.remote.webelement.WebElement (session=\"5d7d79d6bb3b33a375f7c92289d625a0\", element=\"8a526344-62b4-4575-9473-68d174350e76\")>,\n",
       " <selenium.webdriver.remote.webelement.WebElement (session=\"5d7d79d6bb3b33a375f7c92289d625a0\", element=\"b6ca40e3-562c-4859-9b18-d412ea62c87f\")>,\n",
       " <selenium.webdriver.remote.webelement.WebElement (session=\"5d7d79d6bb3b33a375f7c92289d625a0\", element=\"a3808db0-17da-462a-b3a5-1915de5e092a\")>,\n",
       " <selenium.webdriver.remote.webelement.WebElement (session=\"5d7d79d6bb3b33a375f7c92289d625a0\", element=\"fff8f982-3c1c-4cf9-afea-023b9bfb5955\")>,\n",
       " <selenium.webdriver.remote.webelement.WebElement (session=\"5d7d79d6bb3b33a375f7c92289d625a0\", element=\"e8a0883f-2b7f-42c2-bdb5-40a08df06c7b\")>,\n",
       " <selenium.webdriver.remote.webelement.WebElement (session=\"5d7d79d6bb3b33a375f7c92289d625a0\", element=\"984a592c-2b05-48d6-8702-1fe26cd5285b\")>,\n",
       " <selenium.webdriver.remote.webelement.WebElement (session=\"5d7d79d6bb3b33a375f7c92289d625a0\", element=\"44121139-4a20-4ee5-8848-953548f07c98\")>]"
      ]
     },
     "execution_count": 99,
     "metadata": {},
     "output_type": "execute_result"
    }
   ],
   "source": [
    "experience_tags = driver.find_elements_by_xpath(\"//li[@class='fleft grey-text br2 placeHolderLi experience']//span\")\n",
    "experience_tags"
   ]
  },
  {
   "cell_type": "code",
   "execution_count": 100,
   "metadata": {},
   "outputs": [
    {
     "data": {
      "text/plain": [
       "['2-5 Yrs',\n",
       " '0-0 Yrs',\n",
       " '1-3 Yrs',\n",
       " '0-0 Yrs',\n",
       " '0-0 Yrs',\n",
       " '1-5 Yrs',\n",
       " '5-10 Yrs',\n",
       " '3-7 Yrs',\n",
       " '3-6 Yrs',\n",
       " '4-6 Yrs',\n",
       " '2-5 Yrs',\n",
       " '0-3 Yrs',\n",
       " '2-6 Yrs',\n",
       " '3-7 Yrs',\n",
       " '0-1 Yrs',\n",
       " '3-6 Yrs',\n",
       " '1-3 Yrs',\n",
       " '1-5 Yrs',\n",
       " '5-10 Yrs',\n",
       " '2-7 Yrs']"
      ]
     },
     "execution_count": 100,
     "metadata": {},
     "output_type": "execute_result"
    }
   ],
   "source": [
    "experience_required=[]\n",
    "for i in experience_tags:\n",
    "    experience_required.append(i.text)\n",
    "experience_required   "
   ]
  },
  {
   "cell_type": "code",
   "execution_count": 101,
   "metadata": {},
   "outputs": [
    {
     "name": "stdout",
     "output_type": "stream",
     "text": [
      "20 20 20 20\n"
     ]
    }
   ],
   "source": [
    "print(len(company_name),len(job_location),len(job_titles),len(experience_required))"
   ]
  },
  {
   "cell_type": "code",
   "execution_count": 102,
   "metadata": {},
   "outputs": [],
   "source": [
    "job=pd.DataFrame({})\n",
    "job['Job Title']=job_titles[:10]\n",
    "job['Job Location']=job_location[:10]\n",
    "job['Comapny Name']=company_name[:10]\n",
    "job['Experience Requried']=experience_required[:10]"
   ]
  },
  {
   "cell_type": "code",
   "execution_count": 103,
   "metadata": {},
   "outputs": [
    {
     "data": {
      "text/html": [
       "<div>\n",
       "<style scoped>\n",
       "    .dataframe tbody tr th:only-of-type {\n",
       "        vertical-align: middle;\n",
       "    }\n",
       "\n",
       "    .dataframe tbody tr th {\n",
       "        vertical-align: top;\n",
       "    }\n",
       "\n",
       "    .dataframe thead th {\n",
       "        text-align: right;\n",
       "    }\n",
       "</style>\n",
       "<table border=\"1\" class=\"dataframe\">\n",
       "  <thead>\n",
       "    <tr style=\"text-align: right;\">\n",
       "      <th></th>\n",
       "      <th>Job Title</th>\n",
       "      <th>Job Location</th>\n",
       "      <th>Comapny Name</th>\n",
       "      <th>Experience Requried</th>\n",
       "    </tr>\n",
       "  </thead>\n",
       "  <tbody>\n",
       "    <tr>\n",
       "      <th>0</th>\n",
       "      <td>Data Analyst/Data Scientist</td>\n",
       "      <td>Bangalore/Bengaluru, Delhi / NCR, Mumbai (All ...</td>\n",
       "      <td>Skillenable Fintech Private Limited</td>\n",
       "      <td>2-5 Yrs</td>\n",
       "    </tr>\n",
       "    <tr>\n",
       "      <th>1</th>\n",
       "      <td>Only Fresher / Data Scientist / Data Analyst /...</td>\n",
       "      <td>Noida, Gurgaon/Gurugram, Delhi / NCR</td>\n",
       "      <td>GABA Consultancy services</td>\n",
       "      <td>0-0 Yrs</td>\n",
       "    </tr>\n",
       "    <tr>\n",
       "      <th>2</th>\n",
       "      <td>Data Scientist</td>\n",
       "      <td>Gurgaon/Gurugram\\n(WFH during Covid)</td>\n",
       "      <td>PROCESS NINE TECHNOLOGIES PVT.LTD.</td>\n",
       "      <td>1-3 Yrs</td>\n",
       "    </tr>\n",
       "    <tr>\n",
       "      <th>3</th>\n",
       "      <td>Data Scientist/ Machine Learning Engineer</td>\n",
       "      <td>Mohali/SAS Nagar, Hyderabad/Secunderabad, Ahme...</td>\n",
       "      <td>Creative Hands HR Consultancy</td>\n",
       "      <td>0-0 Yrs</td>\n",
       "    </tr>\n",
       "    <tr>\n",
       "      <th>4</th>\n",
       "      <td>Data Scientist / Data Analyst / Business Analy...</td>\n",
       "      <td>Noida, New Delhi, Gurgaon/Gurugram</td>\n",
       "      <td>GABA Consultancy services</td>\n",
       "      <td>0-0 Yrs</td>\n",
       "    </tr>\n",
       "    <tr>\n",
       "      <th>5</th>\n",
       "      <td>Data Scientist / Data Analyst</td>\n",
       "      <td>Gurgaon/Gurugram</td>\n",
       "      <td>CARS24</td>\n",
       "      <td>1-5 Yrs</td>\n",
       "    </tr>\n",
       "    <tr>\n",
       "      <th>6</th>\n",
       "      <td>Immediate Openings For Data Scientist For Wipr...</td>\n",
       "      <td>Gurgaon/Gurugram</td>\n",
       "      <td>IDESLABS PRIVATE LIMITED</td>\n",
       "      <td>5-10 Yrs</td>\n",
       "    </tr>\n",
       "    <tr>\n",
       "      <th>7</th>\n",
       "      <td>Data Scientist - WFH - MIND Infotech</td>\n",
       "      <td>Pune, Chennai, Bangalore/Bengaluru, Delhi / NC...</td>\n",
       "      <td>MOTHERSONSUMI INFOTECH &amp; DESIGNS LIMITED</td>\n",
       "      <td>3-7 Yrs</td>\n",
       "    </tr>\n",
       "    <tr>\n",
       "      <th>8</th>\n",
       "      <td>Data Scientist</td>\n",
       "      <td>Noida\\n(WFH during Covid)</td>\n",
       "      <td>R Systems International Ltd.</td>\n",
       "      <td>3-6 Yrs</td>\n",
       "    </tr>\n",
       "    <tr>\n",
       "      <th>9</th>\n",
       "      <td>Data Scientist</td>\n",
       "      <td>Delhi / NCR(Okhla)</td>\n",
       "      <td>Kusum Healthcare Pvt. Ltd.</td>\n",
       "      <td>4-6 Yrs</td>\n",
       "    </tr>\n",
       "  </tbody>\n",
       "</table>\n",
       "</div>"
      ],
      "text/plain": [
       "                                           Job Title  \\\n",
       "0                        Data Analyst/Data Scientist   \n",
       "1  Only Fresher / Data Scientist / Data Analyst /...   \n",
       "2                                     Data Scientist   \n",
       "3          Data Scientist/ Machine Learning Engineer   \n",
       "4  Data Scientist / Data Analyst / Business Analy...   \n",
       "5                      Data Scientist / Data Analyst   \n",
       "6  Immediate Openings For Data Scientist For Wipr...   \n",
       "7               Data Scientist - WFH - MIND Infotech   \n",
       "8                                     Data Scientist   \n",
       "9                                     Data Scientist   \n",
       "\n",
       "                                        Job Location  \\\n",
       "0  Bangalore/Bengaluru, Delhi / NCR, Mumbai (All ...   \n",
       "1               Noida, Gurgaon/Gurugram, Delhi / NCR   \n",
       "2               Gurgaon/Gurugram\\n(WFH during Covid)   \n",
       "3  Mohali/SAS Nagar, Hyderabad/Secunderabad, Ahme...   \n",
       "4                 Noida, New Delhi, Gurgaon/Gurugram   \n",
       "5                                   Gurgaon/Gurugram   \n",
       "6                                   Gurgaon/Gurugram   \n",
       "7  Pune, Chennai, Bangalore/Bengaluru, Delhi / NC...   \n",
       "8                          Noida\\n(WFH during Covid)   \n",
       "9                                 Delhi / NCR(Okhla)   \n",
       "\n",
       "                               Comapny Name Experience Requried  \n",
       "0       Skillenable Fintech Private Limited             2-5 Yrs  \n",
       "1                 GABA Consultancy services             0-0 Yrs  \n",
       "2        PROCESS NINE TECHNOLOGIES PVT.LTD.             1-3 Yrs  \n",
       "3             Creative Hands HR Consultancy             0-0 Yrs  \n",
       "4                 GABA Consultancy services             0-0 Yrs  \n",
       "5                                    CARS24             1-5 Yrs  \n",
       "6                  IDESLABS PRIVATE LIMITED            5-10 Yrs  \n",
       "7  MOTHERSONSUMI INFOTECH & DESIGNS LIMITED             3-7 Yrs  \n",
       "8              R Systems International Ltd.             3-6 Yrs  \n",
       "9                Kusum Healthcare Pvt. Ltd.             4-6 Yrs  "
      ]
     },
     "execution_count": 103,
     "metadata": {},
     "output_type": "execute_result"
    }
   ],
   "source": [
    "job"
   ]
  },
  {
   "cell_type": "code",
   "execution_count": null,
   "metadata": {},
   "outputs": [],
   "source": []
  },
  {
   "cell_type": "raw",
   "metadata": {},
   "source": [
    "Q4: Write a python program to scrape data for first 10 job results for Data scientist\n",
    "Designation in Noida location. You have to scrape company_name, No. of days\n",
    "ago when job was posted, Rating of the company.\n",
    "This task will be done in following steps:\n",
    "1. first get the webpage https://www.glassdoor.co.in/index.html\n",
    "2. Enter “Data Scientist” in “Job Title,Keyword,Company” field and enter “Noida”\n",
    "in “location” field.\n",
    "3. Then click the search button. You will land up in the below page:\n",
    "4. Then scrape the data for the first 10 jobs results you get in the above shown\n",
    "page.\n",
    "5. Finally create a dataframe of the scraped data.\n",
    "Note- All of the above steps have to be done in code. No step is to be done\n",
    "manually."
   ]
  },
  {
   "cell_type": "code",
   "execution_count": 207,
   "metadata": {},
   "outputs": [],
   "source": [
    "driver = webdriver.Chrome(\"chromedriver.exe\")"
   ]
  },
  {
   "cell_type": "code",
   "execution_count": 208,
   "metadata": {},
   "outputs": [],
   "source": [
    "url =\"https://www.glassdoor.co.in/index.html\"\n",
    "driver.get(url)"
   ]
  },
  {
   "cell_type": "code",
   "execution_count": 209,
   "metadata": {},
   "outputs": [
    {
     "data": {
      "text/plain": [
       "<selenium.webdriver.remote.webelement.WebElement (session=\"deae88121df913ebdac60a8ec2fb4c0c\", element=\"69d8e6cf-f586-4c1b-8c33-6a97d27e0149\")>"
      ]
     },
     "execution_count": 209,
     "metadata": {},
     "output_type": "execute_result"
    }
   ],
   "source": [
    "search_job=driver.find_element_by_id(\"sc.keyword\")\n",
    "\n",
    "search_job"
   ]
  },
  {
   "cell_type": "code",
   "execution_count": 210,
   "metadata": {},
   "outputs": [],
   "source": [
    "search_job.send_keys(\"Data Scientist\")"
   ]
  },
  {
   "cell_type": "code",
   "execution_count": 211,
   "metadata": {},
   "outputs": [
    {
     "data": {
      "text/plain": [
       "<selenium.webdriver.remote.webelement.WebElement (session=\"deae88121df913ebdac60a8ec2fb4c0c\", element=\"ccde1266-98c2-4040-ab7e-2a87787049f0\")>"
      ]
     },
     "execution_count": 211,
     "metadata": {},
     "output_type": "execute_result"
    }
   ],
   "source": [
    "search_loc=driver.find_element_by_id(\"sc.location\")\n",
    "\n",
    "search_loc"
   ]
  },
  {
   "cell_type": "code",
   "execution_count": 212,
   "metadata": {},
   "outputs": [],
   "source": [
    "search_loc.send_keys(\"Noida\")"
   ]
  },
  {
   "cell_type": "code",
   "execution_count": 213,
   "metadata": {},
   "outputs": [],
   "source": [
    "search_btn=driver.find_element_by_xpath(\"//span[@class='css-8zxfjs']\")\n",
    "search_btn.click()"
   ]
  },
  {
   "cell_type": "code",
   "execution_count": 214,
   "metadata": {},
   "outputs": [],
   "source": [
    "company_name=[]\n",
    "number_of_days_ago=[]\n",
    "ratings=[]"
   ]
  },
  {
   "cell_type": "code",
   "execution_count": 215,
   "metadata": {},
   "outputs": [
    {
     "data": {
      "text/plain": [
       "[<selenium.webdriver.remote.webelement.WebElement (session=\"deae88121df913ebdac60a8ec2fb4c0c\", element=\"a803dde8-b750-4121-a9c6-16e3fd6ed136\")>,\n",
       " <selenium.webdriver.remote.webelement.WebElement (session=\"deae88121df913ebdac60a8ec2fb4c0c\", element=\"be7a11a6-8091-410a-a0fe-59f157d1a576\")>,\n",
       " <selenium.webdriver.remote.webelement.WebElement (session=\"deae88121df913ebdac60a8ec2fb4c0c\", element=\"e11110f9-57fa-4b1e-a507-245829755bb5\")>,\n",
       " <selenium.webdriver.remote.webelement.WebElement (session=\"deae88121df913ebdac60a8ec2fb4c0c\", element=\"f1c57075-ff6c-400c-a2d9-b038e41e0874\")>,\n",
       " <selenium.webdriver.remote.webelement.WebElement (session=\"deae88121df913ebdac60a8ec2fb4c0c\", element=\"3a4f7da1-2b15-4b3c-b036-2561e4df5f05\")>,\n",
       " <selenium.webdriver.remote.webelement.WebElement (session=\"deae88121df913ebdac60a8ec2fb4c0c\", element=\"f7591e0f-7c7e-4bba-8e14-bf88ca04fe9e\")>,\n",
       " <selenium.webdriver.remote.webelement.WebElement (session=\"deae88121df913ebdac60a8ec2fb4c0c\", element=\"a3e785ed-b6e5-4c56-94a7-b882fcc374d6\")>,\n",
       " <selenium.webdriver.remote.webelement.WebElement (session=\"deae88121df913ebdac60a8ec2fb4c0c\", element=\"5d6bbd00-33fc-4dbe-98ea-01a983f27e39\")>,\n",
       " <selenium.webdriver.remote.webelement.WebElement (session=\"deae88121df913ebdac60a8ec2fb4c0c\", element=\"a5663819-060f-4eb3-adc7-9535cfac76bf\")>,\n",
       " <selenium.webdriver.remote.webelement.WebElement (session=\"deae88121df913ebdac60a8ec2fb4c0c\", element=\"08cfcd7b-78cc-4fec-98a6-bd76764f6221\")>,\n",
       " <selenium.webdriver.remote.webelement.WebElement (session=\"deae88121df913ebdac60a8ec2fb4c0c\", element=\"db3c7686-23e1-40dd-a2a5-590b765a89c3\")>,\n",
       " <selenium.webdriver.remote.webelement.WebElement (session=\"deae88121df913ebdac60a8ec2fb4c0c\", element=\"823251f1-d144-4b17-bd5d-a970bd8c1469\")>,\n",
       " <selenium.webdriver.remote.webelement.WebElement (session=\"deae88121df913ebdac60a8ec2fb4c0c\", element=\"2980d593-2396-4e94-a993-e7a7f6095a6b\")>,\n",
       " <selenium.webdriver.remote.webelement.WebElement (session=\"deae88121df913ebdac60a8ec2fb4c0c\", element=\"72cedcf7-cd4c-4cee-9020-fccf6b6fc996\")>,\n",
       " <selenium.webdriver.remote.webelement.WebElement (session=\"deae88121df913ebdac60a8ec2fb4c0c\", element=\"4d0f1e73-6970-46e2-92f5-6ff009b23fc9\")>,\n",
       " <selenium.webdriver.remote.webelement.WebElement (session=\"deae88121df913ebdac60a8ec2fb4c0c\", element=\"cb5cf5f0-9245-4089-8869-c5c4f5c78749\")>,\n",
       " <selenium.webdriver.remote.webelement.WebElement (session=\"deae88121df913ebdac60a8ec2fb4c0c\", element=\"57306f0f-7cc0-49d5-8f22-1b8f4ae0dc67\")>,\n",
       " <selenium.webdriver.remote.webelement.WebElement (session=\"deae88121df913ebdac60a8ec2fb4c0c\", element=\"5edba61c-2569-498f-bfcd-6a17673968fa\")>,\n",
       " <selenium.webdriver.remote.webelement.WebElement (session=\"deae88121df913ebdac60a8ec2fb4c0c\", element=\"b9f802f9-8e65-4a67-b152-5eed698b5e37\")>,\n",
       " <selenium.webdriver.remote.webelement.WebElement (session=\"deae88121df913ebdac60a8ec2fb4c0c\", element=\"f6426c54-8dc7-4bf6-b2e0-efed4846d464\")>,\n",
       " <selenium.webdriver.remote.webelement.WebElement (session=\"deae88121df913ebdac60a8ec2fb4c0c\", element=\"caa83997-9c02-49ce-92e8-67bfcba1f687\")>,\n",
       " <selenium.webdriver.remote.webelement.WebElement (session=\"deae88121df913ebdac60a8ec2fb4c0c\", element=\"8fbe85b4-cc55-4912-afa8-d15a0cdb443f\")>,\n",
       " <selenium.webdriver.remote.webelement.WebElement (session=\"deae88121df913ebdac60a8ec2fb4c0c\", element=\"de2dce65-cd57-484c-ac6b-4faa0e5b72b6\")>,\n",
       " <selenium.webdriver.remote.webelement.WebElement (session=\"deae88121df913ebdac60a8ec2fb4c0c\", element=\"a8745828-a11f-4747-9b48-90b218808cdc\")>,\n",
       " <selenium.webdriver.remote.webelement.WebElement (session=\"deae88121df913ebdac60a8ec2fb4c0c\", element=\"d48e4a23-7849-4a3b-a225-a558ed785de6\")>,\n",
       " <selenium.webdriver.remote.webelement.WebElement (session=\"deae88121df913ebdac60a8ec2fb4c0c\", element=\"5ee0a2b9-97e4-4ad0-a9f2-3004650cab5a\")>,\n",
       " <selenium.webdriver.remote.webelement.WebElement (session=\"deae88121df913ebdac60a8ec2fb4c0c\", element=\"50a866ca-44e7-4ddf-b311-f54750363b7b\")>,\n",
       " <selenium.webdriver.remote.webelement.WebElement (session=\"deae88121df913ebdac60a8ec2fb4c0c\", element=\"dfdf513e-25a4-480c-b0cf-0f6f7baa2c3f\")>,\n",
       " <selenium.webdriver.remote.webelement.WebElement (session=\"deae88121df913ebdac60a8ec2fb4c0c\", element=\"99ad7cd1-b167-4554-b220-cd8053bed726\")>,\n",
       " <selenium.webdriver.remote.webelement.WebElement (session=\"deae88121df913ebdac60a8ec2fb4c0c\", element=\"062bbbf4-1563-4214-ad36-9b0dc36fa488\")>]"
      ]
     },
     "execution_count": 215,
     "metadata": {},
     "output_type": "execute_result"
    }
   ],
   "source": [
    "comp = driver.find_elements_by_xpath(\"//div[@class='d-flex justify-content-between align-items-start']\")\n",
    "comp"
   ]
  },
  {
   "cell_type": "code",
   "execution_count": 216,
   "metadata": {},
   "outputs": [
    {
     "data": {
      "text/plain": [
       "['Liberin Technologies Private Limited',\n",
       " 'AlgoScale Technologies Private Limited',\n",
       " 'Salasar New Age Technologies',\n",
       " 'Grail Insights',\n",
       " 'Techlive',\n",
       " 'Noisy Lion',\n",
       " 'Grail Insights',\n",
       " 'Salasar New Age Technologies',\n",
       " 'IBM',\n",
       " 'Lenskart',\n",
       " 'Newgen Software',\n",
       " 'Biz2Credit Inc',\n",
       " 'SearchUrCollege',\n",
       " 'Ericsson',\n",
       " 'Ishatva Management Solutions',\n",
       " 'limeroad.com',\n",
       " 'ING',\n",
       " 'NEC Opportunities',\n",
       " 'Saishaa Services',\n",
       " 'Crowe',\n",
       " 'xtLytics',\n",
       " 'Airtel India',\n",
       " 'WishFin',\n",
       " 'Emerging India Group',\n",
       " 'CSTEP',\n",
       " 'Crypto Mize',\n",
       " 'Monotype',\n",
       " '2COMs',\n",
       " 'Priority Vendor',\n",
       " 'Badatya Private Limited']"
      ]
     },
     "execution_count": 216,
     "metadata": {},
     "output_type": "execute_result"
    }
   ],
   "source": [
    "for i in comp:\n",
    "    company_name.append(i.text)\n",
    "company_name    "
   ]
  },
  {
   "cell_type": "code",
   "execution_count": 217,
   "metadata": {},
   "outputs": [
    {
     "data": {
      "text/plain": [
       "[<selenium.webdriver.remote.webelement.WebElement (session=\"deae88121df913ebdac60a8ec2fb4c0c\", element=\"17662a27-2c40-467b-ac77-5ae084986e87\")>,\n",
       " <selenium.webdriver.remote.webelement.WebElement (session=\"deae88121df913ebdac60a8ec2fb4c0c\", element=\"1abbe56a-b1d1-4a36-8fc1-4ca407457146\")>,\n",
       " <selenium.webdriver.remote.webelement.WebElement (session=\"deae88121df913ebdac60a8ec2fb4c0c\", element=\"62181d7d-fa79-4b4d-a9e7-e5dddf0d5452\")>,\n",
       " <selenium.webdriver.remote.webelement.WebElement (session=\"deae88121df913ebdac60a8ec2fb4c0c\", element=\"d90951d2-8f42-40a0-a17e-568867e9b762\")>,\n",
       " <selenium.webdriver.remote.webelement.WebElement (session=\"deae88121df913ebdac60a8ec2fb4c0c\", element=\"63f7cc5d-52a0-47de-855d-2a1327f16c1f\")>,\n",
       " <selenium.webdriver.remote.webelement.WebElement (session=\"deae88121df913ebdac60a8ec2fb4c0c\", element=\"7db7ead0-b66a-4c1e-8112-cc64711c0c84\")>,\n",
       " <selenium.webdriver.remote.webelement.WebElement (session=\"deae88121df913ebdac60a8ec2fb4c0c\", element=\"01253c70-38b1-4e61-9c8b-d0e19c972632\")>,\n",
       " <selenium.webdriver.remote.webelement.WebElement (session=\"deae88121df913ebdac60a8ec2fb4c0c\", element=\"2fb75818-3db0-4088-840e-291471e6acdb\")>,\n",
       " <selenium.webdriver.remote.webelement.WebElement (session=\"deae88121df913ebdac60a8ec2fb4c0c\", element=\"2b01127f-a5a0-4c7f-8a80-ecd9869d7c4b\")>,\n",
       " <selenium.webdriver.remote.webelement.WebElement (session=\"deae88121df913ebdac60a8ec2fb4c0c\", element=\"0a075f86-30f2-4c10-9eb8-ab6d14569900\")>,\n",
       " <selenium.webdriver.remote.webelement.WebElement (session=\"deae88121df913ebdac60a8ec2fb4c0c\", element=\"220fbb34-9974-4fe2-8b29-0dadb1e6b547\")>,\n",
       " <selenium.webdriver.remote.webelement.WebElement (session=\"deae88121df913ebdac60a8ec2fb4c0c\", element=\"de59e4b1-99c0-4245-b449-76216d5d45dc\")>,\n",
       " <selenium.webdriver.remote.webelement.WebElement (session=\"deae88121df913ebdac60a8ec2fb4c0c\", element=\"feedc73a-edd8-4f70-997e-ec6ef870cb92\")>,\n",
       " <selenium.webdriver.remote.webelement.WebElement (session=\"deae88121df913ebdac60a8ec2fb4c0c\", element=\"0079887c-8778-46c7-ae8f-dff21adebe49\")>,\n",
       " <selenium.webdriver.remote.webelement.WebElement (session=\"deae88121df913ebdac60a8ec2fb4c0c\", element=\"0cc4b1a2-1d62-4875-89db-1d365c6b37cf\")>,\n",
       " <selenium.webdriver.remote.webelement.WebElement (session=\"deae88121df913ebdac60a8ec2fb4c0c\", element=\"a37e040e-8a0f-4c32-8a52-a7e0a726575c\")>,\n",
       " <selenium.webdriver.remote.webelement.WebElement (session=\"deae88121df913ebdac60a8ec2fb4c0c\", element=\"9a51c385-014e-44e0-b123-42bdb0aba694\")>,\n",
       " <selenium.webdriver.remote.webelement.WebElement (session=\"deae88121df913ebdac60a8ec2fb4c0c\", element=\"a25de881-0d09-4dbb-a6c2-c67d8cea78a0\")>,\n",
       " <selenium.webdriver.remote.webelement.WebElement (session=\"deae88121df913ebdac60a8ec2fb4c0c\", element=\"1436cd7d-330b-46b0-ab93-ac9203e7056a\")>,\n",
       " <selenium.webdriver.remote.webelement.WebElement (session=\"deae88121df913ebdac60a8ec2fb4c0c\", element=\"c98b3c4c-05dc-4a53-b07a-661b211cc215\")>]"
      ]
     },
     "execution_count": 217,
     "metadata": {},
     "output_type": "execute_result"
    }
   ],
   "source": [
    "rating = driver.find_elements_by_xpath(\"//span[@class=' job-search-key-srfzj0 e1cjmv6j0']\")\n",
    "rating"
   ]
  },
  {
   "cell_type": "code",
   "execution_count": 218,
   "metadata": {},
   "outputs": [
    {
     "data": {
      "text/plain": [
       "['',\n",
       " '3.9',\n",
       " '3.5',\n",
       " '3.9',\n",
       " '3.6',\n",
       " '3.3',\n",
       " '4.2',\n",
       " '4.1',\n",
       " '4.0',\n",
       " '3.8',\n",
       " '3.0',\n",
       " '3.8',\n",
       " '3.8',\n",
       " '2.4',\n",
       " '3.2',\n",
       " '5.0',\n",
       " '3.9',\n",
       " '3.8',\n",
       " '3.7',\n",
       " '4.5']"
      ]
     },
     "execution_count": 218,
     "metadata": {},
     "output_type": "execute_result"
    }
   ],
   "source": [
    "for i in rating:\n",
    "    ratings.append(i.text)\n",
    "ratings   "
   ]
  },
  {
   "cell_type": "code",
   "execution_count": 221,
   "metadata": {},
   "outputs": [
    {
     "data": {
      "text/plain": [
       "[<selenium.webdriver.remote.webelement.WebElement (session=\"deae88121df913ebdac60a8ec2fb4c0c\", element=\"7526edd7-9615-42ac-ba66-2a51aab7fed3\")>,\n",
       " <selenium.webdriver.remote.webelement.WebElement (session=\"deae88121df913ebdac60a8ec2fb4c0c\", element=\"ae6c5f49-7efc-41c4-aa6c-942a175467c0\")>,\n",
       " <selenium.webdriver.remote.webelement.WebElement (session=\"deae88121df913ebdac60a8ec2fb4c0c\", element=\"2c2db909-dd29-477f-903b-ec17f72afa2c\")>,\n",
       " <selenium.webdriver.remote.webelement.WebElement (session=\"deae88121df913ebdac60a8ec2fb4c0c\", element=\"1e474a97-8b68-4cb4-b9d8-9ac41612c7cc\")>,\n",
       " <selenium.webdriver.remote.webelement.WebElement (session=\"deae88121df913ebdac60a8ec2fb4c0c\", element=\"f474c7b8-3e9b-473c-ba1a-995804b24cde\")>,\n",
       " <selenium.webdriver.remote.webelement.WebElement (session=\"deae88121df913ebdac60a8ec2fb4c0c\", element=\"31a4e036-8919-4dcc-89ca-b9b668665919\")>,\n",
       " <selenium.webdriver.remote.webelement.WebElement (session=\"deae88121df913ebdac60a8ec2fb4c0c\", element=\"685444cf-a6f7-49ba-b436-13a4867d2872\")>,\n",
       " <selenium.webdriver.remote.webelement.WebElement (session=\"deae88121df913ebdac60a8ec2fb4c0c\", element=\"b1bc2bee-6633-49f2-bb1b-9cb6958ba957\")>,\n",
       " <selenium.webdriver.remote.webelement.WebElement (session=\"deae88121df913ebdac60a8ec2fb4c0c\", element=\"254f6d12-5d74-4a23-8356-fec25e5990de\")>,\n",
       " <selenium.webdriver.remote.webelement.WebElement (session=\"deae88121df913ebdac60a8ec2fb4c0c\", element=\"a6baac79-75b1-4ba3-99f4-1a8a12f445ca\")>,\n",
       " <selenium.webdriver.remote.webelement.WebElement (session=\"deae88121df913ebdac60a8ec2fb4c0c\", element=\"322492d7-f55a-479f-811f-43eb59a0180d\")>,\n",
       " <selenium.webdriver.remote.webelement.WebElement (session=\"deae88121df913ebdac60a8ec2fb4c0c\", element=\"cbebf661-f67e-428b-9ce6-df1b93924ffd\")>,\n",
       " <selenium.webdriver.remote.webelement.WebElement (session=\"deae88121df913ebdac60a8ec2fb4c0c\", element=\"70c4c4e3-1d37-4432-98f9-b30a9b7f96bb\")>,\n",
       " <selenium.webdriver.remote.webelement.WebElement (session=\"deae88121df913ebdac60a8ec2fb4c0c\", element=\"77b074a6-0249-4e92-82db-d3a6ef2a2e34\")>,\n",
       " <selenium.webdriver.remote.webelement.WebElement (session=\"deae88121df913ebdac60a8ec2fb4c0c\", element=\"fe14a7ae-28b8-49e9-8fcb-fad1d038e654\")>,\n",
       " <selenium.webdriver.remote.webelement.WebElement (session=\"deae88121df913ebdac60a8ec2fb4c0c\", element=\"7e781253-2e06-46e1-a6cb-e316fca2f0fd\")>,\n",
       " <selenium.webdriver.remote.webelement.WebElement (session=\"deae88121df913ebdac60a8ec2fb4c0c\", element=\"74aebde0-c9e2-48bd-ab65-eaa19e239ae4\")>,\n",
       " <selenium.webdriver.remote.webelement.WebElement (session=\"deae88121df913ebdac60a8ec2fb4c0c\", element=\"55508c00-c465-45e4-92f0-b6c5820f761e\")>,\n",
       " <selenium.webdriver.remote.webelement.WebElement (session=\"deae88121df913ebdac60a8ec2fb4c0c\", element=\"399dabeb-ed99-439f-8c8f-0316a2ee6487\")>,\n",
       " <selenium.webdriver.remote.webelement.WebElement (session=\"deae88121df913ebdac60a8ec2fb4c0c\", element=\"0de0460b-f677-403a-8760-8e6cbeb1141c\")>,\n",
       " <selenium.webdriver.remote.webelement.WebElement (session=\"deae88121df913ebdac60a8ec2fb4c0c\", element=\"b23e86a5-32b2-4d4c-91ca-9ccd7bc6fe2f\")>,\n",
       " <selenium.webdriver.remote.webelement.WebElement (session=\"deae88121df913ebdac60a8ec2fb4c0c\", element=\"9f23755e-ef49-4e07-9937-f91a0965e5ac\")>,\n",
       " <selenium.webdriver.remote.webelement.WebElement (session=\"deae88121df913ebdac60a8ec2fb4c0c\", element=\"a2b4615b-2d72-4c80-9a61-dab99830fdc8\")>,\n",
       " <selenium.webdriver.remote.webelement.WebElement (session=\"deae88121df913ebdac60a8ec2fb4c0c\", element=\"aba29a1b-cbfb-4bd9-851f-84920cc1acf9\")>,\n",
       " <selenium.webdriver.remote.webelement.WebElement (session=\"deae88121df913ebdac60a8ec2fb4c0c\", element=\"22a5cc02-c3dc-46de-a7fe-e9f93b25b578\")>,\n",
       " <selenium.webdriver.remote.webelement.WebElement (session=\"deae88121df913ebdac60a8ec2fb4c0c\", element=\"604d7b45-3e9d-4410-8f1d-3a23726101bd\")>,\n",
       " <selenium.webdriver.remote.webelement.WebElement (session=\"deae88121df913ebdac60a8ec2fb4c0c\", element=\"59769285-6df1-4729-8314-fd304ceae11d\")>,\n",
       " <selenium.webdriver.remote.webelement.WebElement (session=\"deae88121df913ebdac60a8ec2fb4c0c\", element=\"78fd6863-66c0-45fe-9464-416d278f6505\")>,\n",
       " <selenium.webdriver.remote.webelement.WebElement (session=\"deae88121df913ebdac60a8ec2fb4c0c\", element=\"7729d073-bcb1-40bd-ad6a-7d402dc6a133\")>,\n",
       " <selenium.webdriver.remote.webelement.WebElement (session=\"deae88121df913ebdac60a8ec2fb4c0c\", element=\"e82c1a3f-6805-4f02-b5be-064eb4f23fac\")>]"
      ]
     },
     "execution_count": 221,
     "metadata": {},
     "output_type": "execute_result"
    }
   ],
   "source": [
    "days=driver.find_elements_by_xpath(\"//div[@class='d-flex justify-content-between css-pa6dqi']\")\n",
    "days"
   ]
  },
  {
   "cell_type": "code",
   "execution_count": 222,
   "metadata": {},
   "outputs": [
    {
     "data": {
      "text/plain": [
       "['Easy Apply\\n30d+',\n",
       " 'Easy Apply\\n18d',\n",
       " '30d+',\n",
       " '',\n",
       " '30d+',\n",
       " 'New\\n3d',\n",
       " '4d',\n",
       " '30d+',\n",
       " 'New\\n1d',\n",
       " 'Easy Apply\\n6d',\n",
       " '30d+',\n",
       " 'Easy Apply\\n30d+',\n",
       " '30d+',\n",
       " '11d',\n",
       " 'Easy Apply\\n13d',\n",
       " 'Easy Apply\\n18d',\n",
       " '9d',\n",
       " '25d',\n",
       " 'Easy Apply\\n20d',\n",
       " '30d+',\n",
       " '30d+',\n",
       " '23d',\n",
       " '30d+',\n",
       " '30d+',\n",
       " '30d+',\n",
       " '26d',\n",
       " 'New\\n3d',\n",
       " '20d',\n",
       " '30d+',\n",
       " 'Easy Apply\\n15d']"
      ]
     },
     "execution_count": 222,
     "metadata": {},
     "output_type": "execute_result"
    }
   ],
   "source": [
    "for i in days:\n",
    "    number_of_days_ago.append(i.text)\n",
    "number_of_days_ago  "
   ]
  },
  {
   "cell_type": "code",
   "execution_count": 223,
   "metadata": {},
   "outputs": [
    {
     "name": "stdout",
     "output_type": "stream",
     "text": [
      "30 30 20\n"
     ]
    }
   ],
   "source": [
    "print(len(company_name),len(number_of_days_ago),len(ratings))"
   ]
  },
  {
   "cell_type": "code",
   "execution_count": 224,
   "metadata": {},
   "outputs": [],
   "source": [
    "jobs=pd.DataFrame({})\n",
    "jobs['Company Name']=company_name[:10]\n",
    "jobs['Number Of Days Ago']=number_of_days_ago[:10]\n",
    "jobs['Ratings']=ratings[:10]"
   ]
  },
  {
   "cell_type": "code",
   "execution_count": 225,
   "metadata": {},
   "outputs": [
    {
     "data": {
      "text/html": [
       "<div>\n",
       "<style scoped>\n",
       "    .dataframe tbody tr th:only-of-type {\n",
       "        vertical-align: middle;\n",
       "    }\n",
       "\n",
       "    .dataframe tbody tr th {\n",
       "        vertical-align: top;\n",
       "    }\n",
       "\n",
       "    .dataframe thead th {\n",
       "        text-align: right;\n",
       "    }\n",
       "</style>\n",
       "<table border=\"1\" class=\"dataframe\">\n",
       "  <thead>\n",
       "    <tr style=\"text-align: right;\">\n",
       "      <th></th>\n",
       "      <th>Company Name</th>\n",
       "      <th>Number Of Days Ago</th>\n",
       "      <th>Ratings</th>\n",
       "    </tr>\n",
       "  </thead>\n",
       "  <tbody>\n",
       "    <tr>\n",
       "      <th>0</th>\n",
       "      <td>Liberin Technologies Private Limited</td>\n",
       "      <td>Easy Apply\\n30d+</td>\n",
       "      <td></td>\n",
       "    </tr>\n",
       "    <tr>\n",
       "      <th>1</th>\n",
       "      <td>AlgoScale Technologies Private Limited</td>\n",
       "      <td>Easy Apply\\n18d</td>\n",
       "      <td>3.9</td>\n",
       "    </tr>\n",
       "    <tr>\n",
       "      <th>2</th>\n",
       "      <td>Salasar New Age Technologies</td>\n",
       "      <td>30d+</td>\n",
       "      <td>3.5</td>\n",
       "    </tr>\n",
       "    <tr>\n",
       "      <th>3</th>\n",
       "      <td>Grail Insights</td>\n",
       "      <td></td>\n",
       "      <td>3.9</td>\n",
       "    </tr>\n",
       "    <tr>\n",
       "      <th>4</th>\n",
       "      <td>Techlive</td>\n",
       "      <td>30d+</td>\n",
       "      <td>3.6</td>\n",
       "    </tr>\n",
       "    <tr>\n",
       "      <th>5</th>\n",
       "      <td>Noisy Lion</td>\n",
       "      <td>New\\n3d</td>\n",
       "      <td>3.3</td>\n",
       "    </tr>\n",
       "    <tr>\n",
       "      <th>6</th>\n",
       "      <td>Grail Insights</td>\n",
       "      <td>4d</td>\n",
       "      <td>4.2</td>\n",
       "    </tr>\n",
       "    <tr>\n",
       "      <th>7</th>\n",
       "      <td>Salasar New Age Technologies</td>\n",
       "      <td>30d+</td>\n",
       "      <td>4.1</td>\n",
       "    </tr>\n",
       "    <tr>\n",
       "      <th>8</th>\n",
       "      <td>IBM</td>\n",
       "      <td>New\\n1d</td>\n",
       "      <td>4.0</td>\n",
       "    </tr>\n",
       "    <tr>\n",
       "      <th>9</th>\n",
       "      <td>Lenskart</td>\n",
       "      <td>Easy Apply\\n6d</td>\n",
       "      <td>3.8</td>\n",
       "    </tr>\n",
       "  </tbody>\n",
       "</table>\n",
       "</div>"
      ],
      "text/plain": [
       "                             Company Name Number Of Days Ago Ratings\n",
       "0    Liberin Technologies Private Limited   Easy Apply\\n30d+        \n",
       "1  AlgoScale Technologies Private Limited    Easy Apply\\n18d     3.9\n",
       "2            Salasar New Age Technologies               30d+     3.5\n",
       "3                          Grail Insights                        3.9\n",
       "4                                Techlive               30d+     3.6\n",
       "5                              Noisy Lion            New\\n3d     3.3\n",
       "6                          Grail Insights                 4d     4.2\n",
       "7            Salasar New Age Technologies               30d+     4.1\n",
       "8                                     IBM            New\\n1d     4.0\n",
       "9                                Lenskart     Easy Apply\\n6d     3.8"
      ]
     },
     "execution_count": 225,
     "metadata": {},
     "output_type": "execute_result"
    }
   ],
   "source": [
    "jobs"
   ]
  },
  {
   "cell_type": "code",
   "execution_count": null,
   "metadata": {},
   "outputs": [],
   "source": []
  },
  {
   "cell_type": "raw",
   "metadata": {},
   "source": [
    "Q5: Write a python program to scrape the salary data for Data Scientist designation\n",
    "in Noida location.\n",
    "You have to scrape Company name, Number of salaries, Average salary, Min\n",
    "salary, Max Salary.\n",
    "The above task will be, done as shown in the below steps:\n",
    "1. first get the webpage https://www.glassdoor.co.in/Salaries/index.htm\n",
    "2. Enter “Data Scientist” in Job title field and “Noida” in location field.\n",
    "3. Click the search button.\n",
    "4. After that you will land on the below page\n",
    "You have to scrape whole data from this webpage\n",
    "5. Scrape data for first 10 companies. Scrape the min salary, max salary, company\n",
    "name, Average salary and rating of the company.\n",
    "6.Store the data in a dataframe.\n",
    "Note that all of the above steps have to be done by coding only and not manually."
   ]
  },
  {
   "cell_type": "code",
   "execution_count": 165,
   "metadata": {},
   "outputs": [],
   "source": [
    "\n",
    "driver=webdriver.Chrome('chromedriver.exe')"
   ]
  },
  {
   "cell_type": "code",
   "execution_count": 166,
   "metadata": {},
   "outputs": [],
   "source": [
    "url=\"https://www.glassdoor.co.in/Salaries/index.htm\"\n",
    "driver.get(url)"
   ]
  },
  {
   "cell_type": "code",
   "execution_count": 172,
   "metadata": {},
   "outputs": [
    {
     "data": {
      "text/plain": [
       "<selenium.webdriver.remote.webelement.WebElement (session=\"6d1c1af983bb100606395f71501273ed\", element=\"76a85245-b74f-4bc7-b8cd-c0c74dc465c9\")>"
      ]
     },
     "execution_count": 172,
     "metadata": {},
     "output_type": "execute_result"
    }
   ],
   "source": [
    "search_job = driver.find_element_by_id(\"KeywordSearch\")\n",
    "search_job"
   ]
  },
  {
   "cell_type": "code",
   "execution_count": 173,
   "metadata": {},
   "outputs": [],
   "source": [
    "search_job.send_keys(\"Data Scientist\")"
   ]
  },
  {
   "cell_type": "code",
   "execution_count": 174,
   "metadata": {},
   "outputs": [
    {
     "data": {
      "text/plain": [
       "<selenium.webdriver.remote.webelement.WebElement (session=\"6d1c1af983bb100606395f71501273ed\", element=\"f2d2ee2b-595a-47b8-acbd-c4cd17eb93f6\")>"
      ]
     },
     "execution_count": 174,
     "metadata": {},
     "output_type": "execute_result"
    }
   ],
   "source": [
    "search_loc = driver.find_element_by_id(\"LocationSearch\")\n",
    "search_loc"
   ]
  },
  {
   "cell_type": "code",
   "execution_count": 175,
   "metadata": {},
   "outputs": [],
   "source": [
    "search_loc.send_keys(\"Noida\")"
   ]
  },
  {
   "cell_type": "code",
   "execution_count": 176,
   "metadata": {},
   "outputs": [],
   "source": [
    "search_btn=driver.find_element_by_xpath(\"//button[@class='gd-btn-mkt']\")\n",
    "search_btn.click()"
   ]
  },
  {
   "cell_type": "code",
   "execution_count": 188,
   "metadata": {},
   "outputs": [
    {
     "data": {
      "text/plain": [
       "[<selenium.webdriver.remote.webelement.WebElement (session=\"6d1c1af983bb100606395f71501273ed\", element=\"4a7ec7a7-fde2-42d5-8d75-e392e043aec5\")>,\n",
       " <selenium.webdriver.remote.webelement.WebElement (session=\"6d1c1af983bb100606395f71501273ed\", element=\"0b4de013-bd78-4127-958d-90dff44d39fc\")>,\n",
       " <selenium.webdriver.remote.webelement.WebElement (session=\"6d1c1af983bb100606395f71501273ed\", element=\"99027334-16b9-4b21-99ed-44da65f53b96\")>,\n",
       " <selenium.webdriver.remote.webelement.WebElement (session=\"6d1c1af983bb100606395f71501273ed\", element=\"2babbdc1-6315-4a52-89b3-1aaa119dca36\")>,\n",
       " <selenium.webdriver.remote.webelement.WebElement (session=\"6d1c1af983bb100606395f71501273ed\", element=\"7f26028f-e7ac-481d-be1b-d5817df27552\")>,\n",
       " <selenium.webdriver.remote.webelement.WebElement (session=\"6d1c1af983bb100606395f71501273ed\", element=\"5dca59b3-2767-4780-b71a-cab3880c885a\")>,\n",
       " <selenium.webdriver.remote.webelement.WebElement (session=\"6d1c1af983bb100606395f71501273ed\", element=\"cd5f84fc-26cb-41d9-b9cd-4aa3d71a3135\")>,\n",
       " <selenium.webdriver.remote.webelement.WebElement (session=\"6d1c1af983bb100606395f71501273ed\", element=\"d43be70e-29a3-4282-a6bf-bddd8f636481\")>,\n",
       " <selenium.webdriver.remote.webelement.WebElement (session=\"6d1c1af983bb100606395f71501273ed\", element=\"ff317bbd-ec79-4ae1-8683-667b62732df0\")>,\n",
       " <selenium.webdriver.remote.webelement.WebElement (session=\"6d1c1af983bb100606395f71501273ed\", element=\"4373ac9b-1117-470f-9ab0-847ad5ede654\")>,\n",
       " <selenium.webdriver.remote.webelement.WebElement (session=\"6d1c1af983bb100606395f71501273ed\", element=\"226c1856-9074-4cfe-833b-6e235d4e55c5\")>,\n",
       " <selenium.webdriver.remote.webelement.WebElement (session=\"6d1c1af983bb100606395f71501273ed\", element=\"ef07f1fd-a738-43bb-a697-a591ea6910e5\")>,\n",
       " <selenium.webdriver.remote.webelement.WebElement (session=\"6d1c1af983bb100606395f71501273ed\", element=\"28791421-7806-4a56-b229-91cae9fae294\")>,\n",
       " <selenium.webdriver.remote.webelement.WebElement (session=\"6d1c1af983bb100606395f71501273ed\", element=\"24ab3245-d6a7-4601-bac1-c890030dbd6f\")>,\n",
       " <selenium.webdriver.remote.webelement.WebElement (session=\"6d1c1af983bb100606395f71501273ed\", element=\"96e93ac1-b9cd-4677-ad98-df11f0c5adfc\")>,\n",
       " <selenium.webdriver.remote.webelement.WebElement (session=\"6d1c1af983bb100606395f71501273ed\", element=\"e3059e39-78bc-4697-9228-5b8f2e1addca\")>,\n",
       " <selenium.webdriver.remote.webelement.WebElement (session=\"6d1c1af983bb100606395f71501273ed\", element=\"0c327659-ed01-400b-b68a-28800f4c2b76\")>,\n",
       " <selenium.webdriver.remote.webelement.WebElement (session=\"6d1c1af983bb100606395f71501273ed\", element=\"d2f1dfdf-7635-4ea2-a61c-44d9a86922f3\")>,\n",
       " <selenium.webdriver.remote.webelement.WebElement (session=\"6d1c1af983bb100606395f71501273ed\", element=\"acd4e3c6-f907-422d-a007-252ffdeb2c3b\")>,\n",
       " <selenium.webdriver.remote.webelement.WebElement (session=\"6d1c1af983bb100606395f71501273ed\", element=\"78f504d8-129f-478d-b27d-63e20e014d07\")>]"
      ]
     },
     "execution_count": 188,
     "metadata": {},
     "output_type": "execute_result"
    }
   ],
   "source": [
    "company_tags=driver.find_elements_by_xpath(\"//a[@class='css-f3vw95 e1aj7ssy3']\")\n",
    "company_tags"
   ]
  },
  {
   "cell_type": "code",
   "execution_count": 189,
   "metadata": {},
   "outputs": [
    {
     "data": {
      "text/plain": [
       "['Tata Consultancy Services',\n",
       " 'IBM',\n",
       " 'Accenture',\n",
       " 'Delhivery',\n",
       " 'Ericsson-Worldwide',\n",
       " 'UnitedHealth Group',\n",
       " 'Optum',\n",
       " 'Optum Global Solutions',\n",
       " 'Valiance Solutions',\n",
       " 'EXL Service',\n",
       " 'Cognizant Technology Solutions',\n",
       " 'ZS Associates',\n",
       " 'Nagarro',\n",
       " 'Innovaccer',\n",
       " 'OYO',\n",
       " 'dunnhumby',\n",
       " 'Amazon',\n",
       " 'Fresher',\n",
       " 'CARS24.com',\n",
       " 'Vidooly Media Tech']"
      ]
     },
     "execution_count": 189,
     "metadata": {},
     "output_type": "execute_result"
    }
   ],
   "source": [
    "company_name=[]\n",
    "for i in company_tags:\n",
    "    company_name.append(i.text)\n",
    "company_name  "
   ]
  },
  {
   "cell_type": "code",
   "execution_count": 190,
   "metadata": {},
   "outputs": [
    {
     "data": {
      "text/plain": [
       "[<selenium.webdriver.remote.webelement.WebElement (session=\"6d1c1af983bb100606395f71501273ed\", element=\"d39893f6-c8b4-4247-ba14-9ef0aeb40c1d\")>,\n",
       " <selenium.webdriver.remote.webelement.WebElement (session=\"6d1c1af983bb100606395f71501273ed\", element=\"37142109-8977-4f7c-a2c1-0c08746bf349\")>,\n",
       " <selenium.webdriver.remote.webelement.WebElement (session=\"6d1c1af983bb100606395f71501273ed\", element=\"af0f3c65-1eea-4b2e-a9c9-fdf72ddae32e\")>,\n",
       " <selenium.webdriver.remote.webelement.WebElement (session=\"6d1c1af983bb100606395f71501273ed\", element=\"b8f26c09-d19c-4ba0-b2a7-f63146e40182\")>,\n",
       " <selenium.webdriver.remote.webelement.WebElement (session=\"6d1c1af983bb100606395f71501273ed\", element=\"66fb60f9-c5bb-41a5-b26f-f9eb20ff1d20\")>,\n",
       " <selenium.webdriver.remote.webelement.WebElement (session=\"6d1c1af983bb100606395f71501273ed\", element=\"fa62c2c9-4f61-47f1-aa2f-cc658fda257f\")>,\n",
       " <selenium.webdriver.remote.webelement.WebElement (session=\"6d1c1af983bb100606395f71501273ed\", element=\"ac362f7f-1734-4a9a-8203-3d0090dfa20f\")>,\n",
       " <selenium.webdriver.remote.webelement.WebElement (session=\"6d1c1af983bb100606395f71501273ed\", element=\"b896812f-7436-444d-a97b-cd7c07c76d19\")>,\n",
       " <selenium.webdriver.remote.webelement.WebElement (session=\"6d1c1af983bb100606395f71501273ed\", element=\"77c2d219-08dc-4260-b835-c798932a2b4c\")>,\n",
       " <selenium.webdriver.remote.webelement.WebElement (session=\"6d1c1af983bb100606395f71501273ed\", element=\"a31ec666-13ea-4112-81c9-7b9e4a06d6c5\")>,\n",
       " <selenium.webdriver.remote.webelement.WebElement (session=\"6d1c1af983bb100606395f71501273ed\", element=\"42a09c45-b459-4c87-8418-27aa1920239e\")>,\n",
       " <selenium.webdriver.remote.webelement.WebElement (session=\"6d1c1af983bb100606395f71501273ed\", element=\"c8e54c25-9352-47c5-a96a-077991b9b422\")>,\n",
       " <selenium.webdriver.remote.webelement.WebElement (session=\"6d1c1af983bb100606395f71501273ed\", element=\"7751c1d4-5cde-49fe-98b6-b7670462b56f\")>,\n",
       " <selenium.webdriver.remote.webelement.WebElement (session=\"6d1c1af983bb100606395f71501273ed\", element=\"cfe761c2-4c64-4ed0-b74d-272625fe473a\")>,\n",
       " <selenium.webdriver.remote.webelement.WebElement (session=\"6d1c1af983bb100606395f71501273ed\", element=\"98532467-ddeb-4f49-9d10-0e4810b319c4\")>,\n",
       " <selenium.webdriver.remote.webelement.WebElement (session=\"6d1c1af983bb100606395f71501273ed\", element=\"b515990b-3268-4cf7-9b7e-2e913d84c258\")>,\n",
       " <selenium.webdriver.remote.webelement.WebElement (session=\"6d1c1af983bb100606395f71501273ed\", element=\"913d1006-0182-4d2d-8be7-8dc20a1a3b29\")>,\n",
       " <selenium.webdriver.remote.webelement.WebElement (session=\"6d1c1af983bb100606395f71501273ed\", element=\"30d173ae-e031-417b-8a15-d21fd65889c5\")>,\n",
       " <selenium.webdriver.remote.webelement.WebElement (session=\"6d1c1af983bb100606395f71501273ed\", element=\"0242e3af-64ae-4bc1-b839-01a7f991b14e\")>,\n",
       " <selenium.webdriver.remote.webelement.WebElement (session=\"6d1c1af983bb100606395f71501273ed\", element=\"f4b380c7-9051-4243-85c6-5ca1f0bcbdf0\")>]"
      ]
     },
     "execution_count": 190,
     "metadata": {},
     "output_type": "execute_result"
    }
   ],
   "source": [
    "salary_tags=driver.find_elements_by_xpath(\"//div[@class='col-12 col-lg-4 px-lg-0 d-flex align-items-baseline']//h3\")\n",
    "salary_tags"
   ]
  },
  {
   "cell_type": "code",
   "execution_count": 191,
   "metadata": {},
   "outputs": [
    {
     "data": {
      "text/plain": [
       "['₹6,28,021',\n",
       " '₹9,08,246',\n",
       " '₹11,93,390',\n",
       " '₹12,49,716',\n",
       " '₹7,58,335',\n",
       " '₹12,80,000',\n",
       " '₹13,55,086',\n",
       " '₹14,55,430',\n",
       " '₹8,86,064',\n",
       " '₹11,10,000',\n",
       " '₹9,62,227',\n",
       " '₹11,71,868',\n",
       " '₹11,01,815',\n",
       " '₹12,40,275',\n",
       " '₹14,51,902',\n",
       " '₹11,30,374',\n",
       " '₹20,63,782',\n",
       " '₹61,566',\n",
       " '₹10,80,727',\n",
       " '₹35,040']"
      ]
     },
     "execution_count": 191,
     "metadata": {},
     "output_type": "execute_result"
    }
   ],
   "source": [
    "avg_salary=[]\n",
    "for i in salary_tags:\n",
    "    avg_salary.append(i.text)\n",
    "avg_salary "
   ]
  },
  {
   "cell_type": "code",
   "execution_count": 192,
   "metadata": {},
   "outputs": [
    {
     "data": {
      "text/plain": [
       "[<selenium.webdriver.remote.webelement.WebElement (session=\"6d1c1af983bb100606395f71501273ed\", element=\"8cdf2e61-6e97-4305-b976-ec7f8ad52490\")>,\n",
       " <selenium.webdriver.remote.webelement.WebElement (session=\"6d1c1af983bb100606395f71501273ed\", element=\"483cce8d-8505-4c41-9749-b5b21f904761\")>,\n",
       " <selenium.webdriver.remote.webelement.WebElement (session=\"6d1c1af983bb100606395f71501273ed\", element=\"99fcefde-35c1-44f7-898b-af41a28646b2\")>,\n",
       " <selenium.webdriver.remote.webelement.WebElement (session=\"6d1c1af983bb100606395f71501273ed\", element=\"125f6311-40fa-4df8-be39-b73486056d76\")>,\n",
       " <selenium.webdriver.remote.webelement.WebElement (session=\"6d1c1af983bb100606395f71501273ed\", element=\"0f253380-f4c8-4f87-a632-4d64b2e3b0f9\")>,\n",
       " <selenium.webdriver.remote.webelement.WebElement (session=\"6d1c1af983bb100606395f71501273ed\", element=\"821216b7-f512-4f54-9626-b545b57f3cc5\")>,\n",
       " <selenium.webdriver.remote.webelement.WebElement (session=\"6d1c1af983bb100606395f71501273ed\", element=\"66fe40bd-6d28-45e6-b7ac-4f2741376a40\")>,\n",
       " <selenium.webdriver.remote.webelement.WebElement (session=\"6d1c1af983bb100606395f71501273ed\", element=\"31ef92f1-75f5-4aee-8537-7778c75b302a\")>,\n",
       " <selenium.webdriver.remote.webelement.WebElement (session=\"6d1c1af983bb100606395f71501273ed\", element=\"6f9046b5-c91a-4f6a-8918-38da195c1986\")>,\n",
       " <selenium.webdriver.remote.webelement.WebElement (session=\"6d1c1af983bb100606395f71501273ed\", element=\"e5507cd5-4455-4d87-9731-5e6b27d80358\")>,\n",
       " <selenium.webdriver.remote.webelement.WebElement (session=\"6d1c1af983bb100606395f71501273ed\", element=\"1bf107fa-01bb-48e7-81db-cb4b59e24d35\")>,\n",
       " <selenium.webdriver.remote.webelement.WebElement (session=\"6d1c1af983bb100606395f71501273ed\", element=\"d50477c5-612a-4f1a-8f02-2576921f955f\")>,\n",
       " <selenium.webdriver.remote.webelement.WebElement (session=\"6d1c1af983bb100606395f71501273ed\", element=\"2ef00b37-e5de-4a6e-bad2-64320d20db23\")>,\n",
       " <selenium.webdriver.remote.webelement.WebElement (session=\"6d1c1af983bb100606395f71501273ed\", element=\"19f7d2df-e6d4-41e3-bf42-e2618231b2b6\")>,\n",
       " <selenium.webdriver.remote.webelement.WebElement (session=\"6d1c1af983bb100606395f71501273ed\", element=\"6d249372-0c49-480d-8ce2-ade1c2d5e80e\")>,\n",
       " <selenium.webdriver.remote.webelement.WebElement (session=\"6d1c1af983bb100606395f71501273ed\", element=\"551d9906-7c78-494d-a4c0-07ca27f9dc8c\")>,\n",
       " <selenium.webdriver.remote.webelement.WebElement (session=\"6d1c1af983bb100606395f71501273ed\", element=\"5efc1a73-342c-4148-91b9-1fbce82967f7\")>,\n",
       " <selenium.webdriver.remote.webelement.WebElement (session=\"6d1c1af983bb100606395f71501273ed\", element=\"6fd2458e-9ce6-484f-bba8-2f5f09e8690a\")>,\n",
       " <selenium.webdriver.remote.webelement.WebElement (session=\"6d1c1af983bb100606395f71501273ed\", element=\"8d09c1c7-df90-4bdf-bfa7-ea1a1f95c353\")>,\n",
       " <selenium.webdriver.remote.webelement.WebElement (session=\"6d1c1af983bb100606395f71501273ed\", element=\"6e7fbc79-6a4a-4abb-9128-c3c06bf25534\")>,\n",
       " <selenium.webdriver.remote.webelement.WebElement (session=\"6d1c1af983bb100606395f71501273ed\", element=\"892290ed-f592-46d4-9336-ef4591bf3956\")>,\n",
       " <selenium.webdriver.remote.webelement.WebElement (session=\"6d1c1af983bb100606395f71501273ed\", element=\"1bb97aee-8983-4ee9-a32e-4f621a6c4ff4\")>]"
      ]
     },
     "execution_count": 192,
     "metadata": {},
     "output_type": "execute_result"
    }
   ],
   "source": [
    "salaries_tags=driver.find_elements_by_xpath(\"//span[@class='m-0 css-1b6bxoo']\")\n",
    "salaries_tags"
   ]
  },
  {
   "cell_type": "code",
   "execution_count": 193,
   "metadata": {},
   "outputs": [
    {
     "data": {
      "text/plain": [
       "['Average',\n",
       " '₹50,183 - ₹3,09,311',\n",
       " '22 salaries',\n",
       " '20 salaries',\n",
       " '15 salaries',\n",
       " '15 salaries',\n",
       " '14 salaries',\n",
       " '14 salaries',\n",
       " '10 salaries',\n",
       " '10 salaries',\n",
       " '10 salaries',\n",
       " '9 salaries',\n",
       " '8 salaries',\n",
       " '8 salaries',\n",
       " '8 salaries',\n",
       " '8 salaries',\n",
       " '7 salaries',\n",
       " '7 salaries',\n",
       " '6 salaries',\n",
       " '6 salaries',\n",
       " '6 salaries',\n",
       " '6 salaries']"
      ]
     },
     "execution_count": 193,
     "metadata": {},
     "output_type": "execute_result"
    }
   ],
   "source": [
    "number_of_salaries=[]\n",
    "for i in salaries_tags:\n",
    "    number_of_salaries.append(i.text)\n",
    "number_of_salaries"
   ]
  },
  {
   "cell_type": "code",
   "execution_count": 194,
   "metadata": {},
   "outputs": [],
   "source": [
    "number_of_salaries=number_of_salaries[2::]"
   ]
  },
  {
   "cell_type": "code",
   "execution_count": 195,
   "metadata": {},
   "outputs": [
    {
     "data": {
      "text/plain": [
       "['22 salaries',\n",
       " '20 salaries',\n",
       " '15 salaries',\n",
       " '15 salaries',\n",
       " '14 salaries',\n",
       " '14 salaries',\n",
       " '10 salaries',\n",
       " '10 salaries',\n",
       " '10 salaries',\n",
       " '9 salaries',\n",
       " '8 salaries',\n",
       " '8 salaries',\n",
       " '8 salaries',\n",
       " '8 salaries',\n",
       " '7 salaries',\n",
       " '7 salaries',\n",
       " '6 salaries',\n",
       " '6 salaries',\n",
       " '6 salaries',\n",
       " '6 salaries']"
      ]
     },
     "execution_count": 195,
     "metadata": {},
     "output_type": "execute_result"
    }
   ],
   "source": [
    "number_of_salaries"
   ]
  },
  {
   "cell_type": "code",
   "execution_count": 196,
   "metadata": {},
   "outputs": [
    {
     "data": {
      "text/plain": [
       "[<selenium.webdriver.remote.webelement.WebElement (session=\"6d1c1af983bb100606395f71501273ed\", element=\"ea15985f-e7c9-48ca-a112-de838eaf6413\")>,\n",
       " <selenium.webdriver.remote.webelement.WebElement (session=\"6d1c1af983bb100606395f71501273ed\", element=\"fbf1c4a8-e05e-4eef-a784-ad99a992cdd7\")>,\n",
       " <selenium.webdriver.remote.webelement.WebElement (session=\"6d1c1af983bb100606395f71501273ed\", element=\"c417b185-8bf4-45c5-a9cd-5c81772b008e\")>,\n",
       " <selenium.webdriver.remote.webelement.WebElement (session=\"6d1c1af983bb100606395f71501273ed\", element=\"e6040afc-0019-464b-9904-d407108065a0\")>,\n",
       " <selenium.webdriver.remote.webelement.WebElement (session=\"6d1c1af983bb100606395f71501273ed\", element=\"bbcd0048-ca84-4c25-abfe-43838cb2bd10\")>,\n",
       " <selenium.webdriver.remote.webelement.WebElement (session=\"6d1c1af983bb100606395f71501273ed\", element=\"784d69ab-0599-425e-8b67-f5267b694e63\")>,\n",
       " <selenium.webdriver.remote.webelement.WebElement (session=\"6d1c1af983bb100606395f71501273ed\", element=\"566d6b53-3740-49d8-a19d-98527e7a0a4f\")>,\n",
       " <selenium.webdriver.remote.webelement.WebElement (session=\"6d1c1af983bb100606395f71501273ed\", element=\"556cb9d8-1566-4eb0-8761-ecdffc75e94c\")>,\n",
       " <selenium.webdriver.remote.webelement.WebElement (session=\"6d1c1af983bb100606395f71501273ed\", element=\"7fb67524-5e39-4ded-8aab-ec7274b55f2e\")>,\n",
       " <selenium.webdriver.remote.webelement.WebElement (session=\"6d1c1af983bb100606395f71501273ed\", element=\"0b8cc314-a58d-4d9b-86fa-5891fc9d87dc\")>,\n",
       " <selenium.webdriver.remote.webelement.WebElement (session=\"6d1c1af983bb100606395f71501273ed\", element=\"c03b032c-d9ce-4a69-a584-4e27ccd91deb\")>,\n",
       " <selenium.webdriver.remote.webelement.WebElement (session=\"6d1c1af983bb100606395f71501273ed\", element=\"0cdb8598-4cec-4bb4-b3e3-ae922d8ce374\")>,\n",
       " <selenium.webdriver.remote.webelement.WebElement (session=\"6d1c1af983bb100606395f71501273ed\", element=\"2ec695a0-d29b-4865-8f23-716502fe44d3\")>,\n",
       " <selenium.webdriver.remote.webelement.WebElement (session=\"6d1c1af983bb100606395f71501273ed\", element=\"2f442232-23cb-4d4c-81d8-66a1f3a1c601\")>,\n",
       " <selenium.webdriver.remote.webelement.WebElement (session=\"6d1c1af983bb100606395f71501273ed\", element=\"d7efaf82-fc2c-4f2b-a3fe-c03e97ea127d\")>,\n",
       " <selenium.webdriver.remote.webelement.WebElement (session=\"6d1c1af983bb100606395f71501273ed\", element=\"74185521-85fa-4901-9474-311be179a82d\")>,\n",
       " <selenium.webdriver.remote.webelement.WebElement (session=\"6d1c1af983bb100606395f71501273ed\", element=\"e23425df-219c-41a5-ad66-7f7161abdf01\")>,\n",
       " <selenium.webdriver.remote.webelement.WebElement (session=\"6d1c1af983bb100606395f71501273ed\", element=\"747d763c-91eb-45d0-8318-a67cb2e6c1e3\")>,\n",
       " <selenium.webdriver.remote.webelement.WebElement (session=\"6d1c1af983bb100606395f71501273ed\", element=\"33feee70-ea47-49b5-b0fa-2dc4d876d78a\")>,\n",
       " <selenium.webdriver.remote.webelement.WebElement (session=\"6d1c1af983bb100606395f71501273ed\", element=\"cb8a32dd-2985-43c8-9a7c-f7a12b680fb4\")>,\n",
       " <selenium.webdriver.remote.webelement.WebElement (session=\"6d1c1af983bb100606395f71501273ed\", element=\"ceb94c5c-8c6a-47b0-a476-34941389c1fa\")>,\n",
       " <selenium.webdriver.remote.webelement.WebElement (session=\"6d1c1af983bb100606395f71501273ed\", element=\"b56aa77e-5340-4e3b-8ade-63ce65d9da6c\")>,\n",
       " <selenium.webdriver.remote.webelement.WebElement (session=\"6d1c1af983bb100606395f71501273ed\", element=\"5624ceec-5fa3-435e-aac6-3b2ebe5bed45\")>,\n",
       " <selenium.webdriver.remote.webelement.WebElement (session=\"6d1c1af983bb100606395f71501273ed\", element=\"53df7e8c-db81-47c2-bc2d-7a4b73ac6183\")>,\n",
       " <selenium.webdriver.remote.webelement.WebElement (session=\"6d1c1af983bb100606395f71501273ed\", element=\"064b85a9-771d-43ae-9a99-f3e3f29c6fc5\")>,\n",
       " <selenium.webdriver.remote.webelement.WebElement (session=\"6d1c1af983bb100606395f71501273ed\", element=\"3c580543-6fc0-4e11-a464-de55757f89d9\")>,\n",
       " <selenium.webdriver.remote.webelement.WebElement (session=\"6d1c1af983bb100606395f71501273ed\", element=\"d5554d36-6597-4bca-a238-4ce787f9e638\")>,\n",
       " <selenium.webdriver.remote.webelement.WebElement (session=\"6d1c1af983bb100606395f71501273ed\", element=\"471a130e-8c96-4921-99d4-f603fa7a9091\")>,\n",
       " <selenium.webdriver.remote.webelement.WebElement (session=\"6d1c1af983bb100606395f71501273ed\", element=\"9af014b1-04d6-419d-8325-e6f71efbe45d\")>,\n",
       " <selenium.webdriver.remote.webelement.WebElement (session=\"6d1c1af983bb100606395f71501273ed\", element=\"b3437ff0-d914-490b-9fdc-e172ef8c9c66\")>,\n",
       " <selenium.webdriver.remote.webelement.WebElement (session=\"6d1c1af983bb100606395f71501273ed\", element=\"422ea62f-de50-4fa8-851a-d089fd7bf4c4\")>,\n",
       " <selenium.webdriver.remote.webelement.WebElement (session=\"6d1c1af983bb100606395f71501273ed\", element=\"d7634c75-4605-4f1b-94d1-dcaab77fda7a\")>,\n",
       " <selenium.webdriver.remote.webelement.WebElement (session=\"6d1c1af983bb100606395f71501273ed\", element=\"e2cffa10-26b3-4d65-865c-d6652ffb9510\")>,\n",
       " <selenium.webdriver.remote.webelement.WebElement (session=\"6d1c1af983bb100606395f71501273ed\", element=\"a17ba966-b808-48a2-a0c4-86b8e60b2624\")>,\n",
       " <selenium.webdriver.remote.webelement.WebElement (session=\"6d1c1af983bb100606395f71501273ed\", element=\"e7b11f1e-5f3e-4cc2-aee2-025a800dcc77\")>,\n",
       " <selenium.webdriver.remote.webelement.WebElement (session=\"6d1c1af983bb100606395f71501273ed\", element=\"fc03cfbe-9c11-4b6f-9ca9-62cce87710dd\")>,\n",
       " <selenium.webdriver.remote.webelement.WebElement (session=\"6d1c1af983bb100606395f71501273ed\", element=\"c5b6630c-c4ff-4811-a8e2-06773245ce81\")>,\n",
       " <selenium.webdriver.remote.webelement.WebElement (session=\"6d1c1af983bb100606395f71501273ed\", element=\"569069a7-b4ae-47a0-82ba-e385c132edfa\")>,\n",
       " <selenium.webdriver.remote.webelement.WebElement (session=\"6d1c1af983bb100606395f71501273ed\", element=\"fe380af2-657a-4f85-bcd0-2205d91646d4\")>,\n",
       " <selenium.webdriver.remote.webelement.WebElement (session=\"6d1c1af983bb100606395f71501273ed\", element=\"7ca3a387-53b1-4d56-bdd7-6ffab7a34c24\")>]"
      ]
     },
     "execution_count": 196,
     "metadata": {},
     "output_type": "execute_result"
    }
   ],
   "source": [
    "min_sal_tags=driver.find_elements_by_xpath(\"//div[@class='d-flex mt-xxsm css-79elbk epuxyqn0']//p\")\n",
    "min_sal_tags"
   ]
  },
  {
   "cell_type": "code",
   "execution_count": 197,
   "metadata": {},
   "outputs": [
    {
     "data": {
      "text/plain": [
       "['₹4L',\n",
       " '₹13L',\n",
       " '₹1L',\n",
       " '₹28L',\n",
       " '₹6L',\n",
       " '₹23L',\n",
       " '₹5L',\n",
       " '₹1Cr',\n",
       " '₹4L',\n",
       " '₹17L',\n",
       " '₹8L',\n",
       " '₹16L',\n",
       " '₹8L',\n",
       " '₹20L',\n",
       " '₹10L',\n",
       " '₹18L',\n",
       " '₹5L',\n",
       " '₹15L',\n",
       " '₹6L',\n",
       " '₹16L',\n",
       " '₹4L',\n",
       " '₹13L',\n",
       " '₹2L',\n",
       " '₹19L',\n",
       " '₹4L',\n",
       " '₹21L',\n",
       " '₹6L',\n",
       " '₹17L',\n",
       " '₹10L',\n",
       " '₹21L',\n",
       " '₹8L',\n",
       " '₹21L',\n",
       " '₹10L',\n",
       " '₹30L',\n",
       " '₹25T',\n",
       " '₹1L',\n",
       " '₹9L',\n",
       " '₹15L',\n",
       " '₹12T',\n",
       " '₹64T']"
      ]
     },
     "execution_count": 197,
     "metadata": {},
     "output_type": "execute_result"
    }
   ],
   "source": [
    "min_sal = []\n",
    "for i in min_sal_tags:\n",
    "    min_sal.append(i.text)\n",
    "min_sal "
   ]
  },
  {
   "cell_type": "code",
   "execution_count": 198,
   "metadata": {},
   "outputs": [],
   "source": [
    "min_sal=min_sal[::2]"
   ]
  },
  {
   "cell_type": "code",
   "execution_count": 199,
   "metadata": {},
   "outputs": [
    {
     "data": {
      "text/plain": [
       "['₹4L',\n",
       " '₹1L',\n",
       " '₹6L',\n",
       " '₹5L',\n",
       " '₹4L',\n",
       " '₹8L',\n",
       " '₹8L',\n",
       " '₹10L',\n",
       " '₹5L',\n",
       " '₹6L',\n",
       " '₹4L',\n",
       " '₹2L',\n",
       " '₹4L',\n",
       " '₹6L',\n",
       " '₹10L',\n",
       " '₹8L',\n",
       " '₹10L',\n",
       " '₹25T',\n",
       " '₹9L',\n",
       " '₹12T']"
      ]
     },
     "execution_count": 199,
     "metadata": {},
     "output_type": "execute_result"
    }
   ],
   "source": [
    "min_sal"
   ]
  },
  {
   "cell_type": "code",
   "execution_count": 200,
   "metadata": {},
   "outputs": [
    {
     "data": {
      "text/plain": [
       "[<selenium.webdriver.remote.webelement.WebElement (session=\"6d1c1af983bb100606395f71501273ed\", element=\"ea15985f-e7c9-48ca-a112-de838eaf6413\")>,\n",
       " <selenium.webdriver.remote.webelement.WebElement (session=\"6d1c1af983bb100606395f71501273ed\", element=\"fbf1c4a8-e05e-4eef-a784-ad99a992cdd7\")>,\n",
       " <selenium.webdriver.remote.webelement.WebElement (session=\"6d1c1af983bb100606395f71501273ed\", element=\"c417b185-8bf4-45c5-a9cd-5c81772b008e\")>,\n",
       " <selenium.webdriver.remote.webelement.WebElement (session=\"6d1c1af983bb100606395f71501273ed\", element=\"e6040afc-0019-464b-9904-d407108065a0\")>,\n",
       " <selenium.webdriver.remote.webelement.WebElement (session=\"6d1c1af983bb100606395f71501273ed\", element=\"bbcd0048-ca84-4c25-abfe-43838cb2bd10\")>,\n",
       " <selenium.webdriver.remote.webelement.WebElement (session=\"6d1c1af983bb100606395f71501273ed\", element=\"784d69ab-0599-425e-8b67-f5267b694e63\")>,\n",
       " <selenium.webdriver.remote.webelement.WebElement (session=\"6d1c1af983bb100606395f71501273ed\", element=\"566d6b53-3740-49d8-a19d-98527e7a0a4f\")>,\n",
       " <selenium.webdriver.remote.webelement.WebElement (session=\"6d1c1af983bb100606395f71501273ed\", element=\"556cb9d8-1566-4eb0-8761-ecdffc75e94c\")>,\n",
       " <selenium.webdriver.remote.webelement.WebElement (session=\"6d1c1af983bb100606395f71501273ed\", element=\"7fb67524-5e39-4ded-8aab-ec7274b55f2e\")>,\n",
       " <selenium.webdriver.remote.webelement.WebElement (session=\"6d1c1af983bb100606395f71501273ed\", element=\"0b8cc314-a58d-4d9b-86fa-5891fc9d87dc\")>,\n",
       " <selenium.webdriver.remote.webelement.WebElement (session=\"6d1c1af983bb100606395f71501273ed\", element=\"c03b032c-d9ce-4a69-a584-4e27ccd91deb\")>,\n",
       " <selenium.webdriver.remote.webelement.WebElement (session=\"6d1c1af983bb100606395f71501273ed\", element=\"0cdb8598-4cec-4bb4-b3e3-ae922d8ce374\")>,\n",
       " <selenium.webdriver.remote.webelement.WebElement (session=\"6d1c1af983bb100606395f71501273ed\", element=\"2ec695a0-d29b-4865-8f23-716502fe44d3\")>,\n",
       " <selenium.webdriver.remote.webelement.WebElement (session=\"6d1c1af983bb100606395f71501273ed\", element=\"2f442232-23cb-4d4c-81d8-66a1f3a1c601\")>,\n",
       " <selenium.webdriver.remote.webelement.WebElement (session=\"6d1c1af983bb100606395f71501273ed\", element=\"d7efaf82-fc2c-4f2b-a3fe-c03e97ea127d\")>,\n",
       " <selenium.webdriver.remote.webelement.WebElement (session=\"6d1c1af983bb100606395f71501273ed\", element=\"74185521-85fa-4901-9474-311be179a82d\")>,\n",
       " <selenium.webdriver.remote.webelement.WebElement (session=\"6d1c1af983bb100606395f71501273ed\", element=\"e23425df-219c-41a5-ad66-7f7161abdf01\")>,\n",
       " <selenium.webdriver.remote.webelement.WebElement (session=\"6d1c1af983bb100606395f71501273ed\", element=\"747d763c-91eb-45d0-8318-a67cb2e6c1e3\")>,\n",
       " <selenium.webdriver.remote.webelement.WebElement (session=\"6d1c1af983bb100606395f71501273ed\", element=\"33feee70-ea47-49b5-b0fa-2dc4d876d78a\")>,\n",
       " <selenium.webdriver.remote.webelement.WebElement (session=\"6d1c1af983bb100606395f71501273ed\", element=\"cb8a32dd-2985-43c8-9a7c-f7a12b680fb4\")>,\n",
       " <selenium.webdriver.remote.webelement.WebElement (session=\"6d1c1af983bb100606395f71501273ed\", element=\"ceb94c5c-8c6a-47b0-a476-34941389c1fa\")>,\n",
       " <selenium.webdriver.remote.webelement.WebElement (session=\"6d1c1af983bb100606395f71501273ed\", element=\"b56aa77e-5340-4e3b-8ade-63ce65d9da6c\")>,\n",
       " <selenium.webdriver.remote.webelement.WebElement (session=\"6d1c1af983bb100606395f71501273ed\", element=\"5624ceec-5fa3-435e-aac6-3b2ebe5bed45\")>,\n",
       " <selenium.webdriver.remote.webelement.WebElement (session=\"6d1c1af983bb100606395f71501273ed\", element=\"53df7e8c-db81-47c2-bc2d-7a4b73ac6183\")>,\n",
       " <selenium.webdriver.remote.webelement.WebElement (session=\"6d1c1af983bb100606395f71501273ed\", element=\"064b85a9-771d-43ae-9a99-f3e3f29c6fc5\")>,\n",
       " <selenium.webdriver.remote.webelement.WebElement (session=\"6d1c1af983bb100606395f71501273ed\", element=\"3c580543-6fc0-4e11-a464-de55757f89d9\")>,\n",
       " <selenium.webdriver.remote.webelement.WebElement (session=\"6d1c1af983bb100606395f71501273ed\", element=\"d5554d36-6597-4bca-a238-4ce787f9e638\")>,\n",
       " <selenium.webdriver.remote.webelement.WebElement (session=\"6d1c1af983bb100606395f71501273ed\", element=\"471a130e-8c96-4921-99d4-f603fa7a9091\")>,\n",
       " <selenium.webdriver.remote.webelement.WebElement (session=\"6d1c1af983bb100606395f71501273ed\", element=\"9af014b1-04d6-419d-8325-e6f71efbe45d\")>,\n",
       " <selenium.webdriver.remote.webelement.WebElement (session=\"6d1c1af983bb100606395f71501273ed\", element=\"b3437ff0-d914-490b-9fdc-e172ef8c9c66\")>,\n",
       " <selenium.webdriver.remote.webelement.WebElement (session=\"6d1c1af983bb100606395f71501273ed\", element=\"422ea62f-de50-4fa8-851a-d089fd7bf4c4\")>,\n",
       " <selenium.webdriver.remote.webelement.WebElement (session=\"6d1c1af983bb100606395f71501273ed\", element=\"d7634c75-4605-4f1b-94d1-dcaab77fda7a\")>,\n",
       " <selenium.webdriver.remote.webelement.WebElement (session=\"6d1c1af983bb100606395f71501273ed\", element=\"e2cffa10-26b3-4d65-865c-d6652ffb9510\")>,\n",
       " <selenium.webdriver.remote.webelement.WebElement (session=\"6d1c1af983bb100606395f71501273ed\", element=\"a17ba966-b808-48a2-a0c4-86b8e60b2624\")>,\n",
       " <selenium.webdriver.remote.webelement.WebElement (session=\"6d1c1af983bb100606395f71501273ed\", element=\"e7b11f1e-5f3e-4cc2-aee2-025a800dcc77\")>,\n",
       " <selenium.webdriver.remote.webelement.WebElement (session=\"6d1c1af983bb100606395f71501273ed\", element=\"fc03cfbe-9c11-4b6f-9ca9-62cce87710dd\")>,\n",
       " <selenium.webdriver.remote.webelement.WebElement (session=\"6d1c1af983bb100606395f71501273ed\", element=\"c5b6630c-c4ff-4811-a8e2-06773245ce81\")>,\n",
       " <selenium.webdriver.remote.webelement.WebElement (session=\"6d1c1af983bb100606395f71501273ed\", element=\"569069a7-b4ae-47a0-82ba-e385c132edfa\")>,\n",
       " <selenium.webdriver.remote.webelement.WebElement (session=\"6d1c1af983bb100606395f71501273ed\", element=\"fe380af2-657a-4f85-bcd0-2205d91646d4\")>,\n",
       " <selenium.webdriver.remote.webelement.WebElement (session=\"6d1c1af983bb100606395f71501273ed\", element=\"7ca3a387-53b1-4d56-bdd7-6ffab7a34c24\")>]"
      ]
     },
     "execution_count": 200,
     "metadata": {},
     "output_type": "execute_result"
    }
   ],
   "source": [
    "max_sal_tags=driver.find_elements_by_xpath(\"//div[@class='d-flex mt-xxsm css-79elbk epuxyqn0']//p\")\n",
    "max_sal_tags"
   ]
  },
  {
   "cell_type": "code",
   "execution_count": 201,
   "metadata": {},
   "outputs": [
    {
     "data": {
      "text/plain": [
       "['₹4L',\n",
       " '₹13L',\n",
       " '₹1L',\n",
       " '₹28L',\n",
       " '₹6L',\n",
       " '₹23L',\n",
       " '₹5L',\n",
       " '₹1Cr',\n",
       " '₹4L',\n",
       " '₹17L',\n",
       " '₹8L',\n",
       " '₹16L',\n",
       " '₹8L',\n",
       " '₹20L',\n",
       " '₹10L',\n",
       " '₹18L',\n",
       " '₹5L',\n",
       " '₹15L',\n",
       " '₹6L',\n",
       " '₹16L',\n",
       " '₹4L',\n",
       " '₹13L',\n",
       " '₹2L',\n",
       " '₹19L',\n",
       " '₹4L',\n",
       " '₹21L',\n",
       " '₹6L',\n",
       " '₹17L',\n",
       " '₹10L',\n",
       " '₹21L',\n",
       " '₹8L',\n",
       " '₹21L',\n",
       " '₹10L',\n",
       " '₹30L',\n",
       " '₹25T',\n",
       " '₹1L',\n",
       " '₹9L',\n",
       " '₹15L',\n",
       " '₹12T',\n",
       " '₹64T']"
      ]
     },
     "execution_count": 201,
     "metadata": {},
     "output_type": "execute_result"
    }
   ],
   "source": [
    "max_sal=[]\n",
    "for i in max_sal_tags:\n",
    "    max_sal.append(i.text)\n",
    "max_sal"
   ]
  },
  {
   "cell_type": "code",
   "execution_count": 202,
   "metadata": {},
   "outputs": [],
   "source": [
    "max_sal=max_sal[1::2]"
   ]
  },
  {
   "cell_type": "code",
   "execution_count": 203,
   "metadata": {},
   "outputs": [
    {
     "data": {
      "text/plain": [
       "['₹13L',\n",
       " '₹28L',\n",
       " '₹23L',\n",
       " '₹1Cr',\n",
       " '₹17L',\n",
       " '₹16L',\n",
       " '₹20L',\n",
       " '₹18L',\n",
       " '₹15L',\n",
       " '₹16L',\n",
       " '₹13L',\n",
       " '₹19L',\n",
       " '₹21L',\n",
       " '₹17L',\n",
       " '₹21L',\n",
       " '₹21L',\n",
       " '₹30L',\n",
       " '₹1L',\n",
       " '₹15L',\n",
       " '₹64T']"
      ]
     },
     "execution_count": 203,
     "metadata": {},
     "output_type": "execute_result"
    }
   ],
   "source": [
    "max_sal"
   ]
  },
  {
   "cell_type": "code",
   "execution_count": 204,
   "metadata": {},
   "outputs": [
    {
     "name": "stdout",
     "output_type": "stream",
     "text": [
      "20 20 20 20 20\n"
     ]
    }
   ],
   "source": [
    "print(len(company_name),len(avg_salary),len(number_of_salaries),len(min_sal),len(max_sal))"
   ]
  },
  {
   "cell_type": "code",
   "execution_count": 205,
   "metadata": {},
   "outputs": [],
   "source": [
    "jobs=pd.DataFrame({})\n",
    "jobs['Company Name']=company_name[:10]\n",
    "jobs['Average Salary']=avg_salary[:10]\n",
    "jobs['Number of salaries']=number_of_salaries[:10]\n",
    "jobs['Minimum Salary']=min_sal[:10]\n",
    "jobs['Maximum Salary']=max_sal[:10]"
   ]
  },
  {
   "cell_type": "code",
   "execution_count": 206,
   "metadata": {},
   "outputs": [
    {
     "data": {
      "text/html": [
       "<div>\n",
       "<style scoped>\n",
       "    .dataframe tbody tr th:only-of-type {\n",
       "        vertical-align: middle;\n",
       "    }\n",
       "\n",
       "    .dataframe tbody tr th {\n",
       "        vertical-align: top;\n",
       "    }\n",
       "\n",
       "    .dataframe thead th {\n",
       "        text-align: right;\n",
       "    }\n",
       "</style>\n",
       "<table border=\"1\" class=\"dataframe\">\n",
       "  <thead>\n",
       "    <tr style=\"text-align: right;\">\n",
       "      <th></th>\n",
       "      <th>Company Name</th>\n",
       "      <th>Average Salary</th>\n",
       "      <th>Number of salaries</th>\n",
       "      <th>Minimum Salary</th>\n",
       "      <th>Maximum Salary</th>\n",
       "    </tr>\n",
       "  </thead>\n",
       "  <tbody>\n",
       "    <tr>\n",
       "      <th>0</th>\n",
       "      <td>Tata Consultancy Services</td>\n",
       "      <td>₹6,28,021</td>\n",
       "      <td>22 salaries</td>\n",
       "      <td>₹4L</td>\n",
       "      <td>₹13L</td>\n",
       "    </tr>\n",
       "    <tr>\n",
       "      <th>1</th>\n",
       "      <td>IBM</td>\n",
       "      <td>₹9,08,246</td>\n",
       "      <td>20 salaries</td>\n",
       "      <td>₹1L</td>\n",
       "      <td>₹28L</td>\n",
       "    </tr>\n",
       "    <tr>\n",
       "      <th>2</th>\n",
       "      <td>Accenture</td>\n",
       "      <td>₹11,93,390</td>\n",
       "      <td>15 salaries</td>\n",
       "      <td>₹6L</td>\n",
       "      <td>₹23L</td>\n",
       "    </tr>\n",
       "    <tr>\n",
       "      <th>3</th>\n",
       "      <td>Delhivery</td>\n",
       "      <td>₹12,49,716</td>\n",
       "      <td>15 salaries</td>\n",
       "      <td>₹5L</td>\n",
       "      <td>₹1Cr</td>\n",
       "    </tr>\n",
       "    <tr>\n",
       "      <th>4</th>\n",
       "      <td>Ericsson-Worldwide</td>\n",
       "      <td>₹7,58,335</td>\n",
       "      <td>14 salaries</td>\n",
       "      <td>₹4L</td>\n",
       "      <td>₹17L</td>\n",
       "    </tr>\n",
       "    <tr>\n",
       "      <th>5</th>\n",
       "      <td>UnitedHealth Group</td>\n",
       "      <td>₹12,80,000</td>\n",
       "      <td>14 salaries</td>\n",
       "      <td>₹8L</td>\n",
       "      <td>₹16L</td>\n",
       "    </tr>\n",
       "    <tr>\n",
       "      <th>6</th>\n",
       "      <td>Optum</td>\n",
       "      <td>₹13,55,086</td>\n",
       "      <td>10 salaries</td>\n",
       "      <td>₹8L</td>\n",
       "      <td>₹20L</td>\n",
       "    </tr>\n",
       "    <tr>\n",
       "      <th>7</th>\n",
       "      <td>Optum Global Solutions</td>\n",
       "      <td>₹14,55,430</td>\n",
       "      <td>10 salaries</td>\n",
       "      <td>₹10L</td>\n",
       "      <td>₹18L</td>\n",
       "    </tr>\n",
       "    <tr>\n",
       "      <th>8</th>\n",
       "      <td>Valiance Solutions</td>\n",
       "      <td>₹8,86,064</td>\n",
       "      <td>10 salaries</td>\n",
       "      <td>₹5L</td>\n",
       "      <td>₹15L</td>\n",
       "    </tr>\n",
       "    <tr>\n",
       "      <th>9</th>\n",
       "      <td>EXL Service</td>\n",
       "      <td>₹11,10,000</td>\n",
       "      <td>9 salaries</td>\n",
       "      <td>₹6L</td>\n",
       "      <td>₹16L</td>\n",
       "    </tr>\n",
       "  </tbody>\n",
       "</table>\n",
       "</div>"
      ],
      "text/plain": [
       "                Company Name Average Salary Number of salaries Minimum Salary  \\\n",
       "0  Tata Consultancy Services      ₹6,28,021        22 salaries            ₹4L   \n",
       "1                        IBM      ₹9,08,246        20 salaries            ₹1L   \n",
       "2                  Accenture     ₹11,93,390        15 salaries            ₹6L   \n",
       "3                  Delhivery     ₹12,49,716        15 salaries            ₹5L   \n",
       "4         Ericsson-Worldwide      ₹7,58,335        14 salaries            ₹4L   \n",
       "5         UnitedHealth Group     ₹12,80,000        14 salaries            ₹8L   \n",
       "6                      Optum     ₹13,55,086        10 salaries            ₹8L   \n",
       "7     Optum Global Solutions     ₹14,55,430        10 salaries           ₹10L   \n",
       "8         Valiance Solutions      ₹8,86,064        10 salaries            ₹5L   \n",
       "9                EXL Service     ₹11,10,000         9 salaries            ₹6L   \n",
       "\n",
       "  Maximum Salary  \n",
       "0           ₹13L  \n",
       "1           ₹28L  \n",
       "2           ₹23L  \n",
       "3           ₹1Cr  \n",
       "4           ₹17L  \n",
       "5           ₹16L  \n",
       "6           ₹20L  \n",
       "7           ₹18L  \n",
       "8           ₹15L  \n",
       "9           ₹16L  "
      ]
     },
     "execution_count": 206,
     "metadata": {},
     "output_type": "execute_result"
    }
   ],
   "source": [
    "jobs"
   ]
  },
  {
   "cell_type": "code",
   "execution_count": null,
   "metadata": {},
   "outputs": [],
   "source": []
  },
  {
   "cell_type": "raw",
   "metadata": {},
   "source": [
    "Q6 : Scrape data of first 100 sunglasses listings on flipkart.com. You have to\n",
    "scrape four attributes:\n",
    "1. Brand\n",
    "2. Product Description\n",
    "3. Price\n",
    "4. Discount %\n",
    "The attributes which you have to scrape is ticked marked in the below image.To scrape the data you have to go through following steps:\n",
    "1. Go to flipkart webpage by url https://www.flipkart.com/\n",
    "2. Enter “sunglasses” in the search field where “search for products, brands and\n",
    "more” is written and click the search icon\n",
    "3. after that you will reach to a webpage having a lot of sunglasses. From this page\n",
    "you can scrap the required data as usual.\n",
    "4. after scraping data from the first page, go to the “Next” Button at the bottom of\n",
    "the page , then click on it.\n",
    "To scrape the data you have to go through following steps:\n",
    "5. Now scrape data from this page as usual\n",
    "6. repeat this until you get data for 100 sunglasses.\n",
    "Note that all of the above steps have to be done by coding only and not manually."
   ]
  },
  {
   "cell_type": "code",
   "execution_count": 115,
   "metadata": {},
   "outputs": [],
   "source": [
    "driver = webdriver.Chrome(\"chromedriver.exe\")"
   ]
  },
  {
   "cell_type": "code",
   "execution_count": 116,
   "metadata": {},
   "outputs": [],
   "source": [
    "url=\"https://flipkart.com\"\n",
    "driver.get(url)"
   ]
  },
  {
   "cell_type": "code",
   "execution_count": 124,
   "metadata": {},
   "outputs": [
    {
     "data": {
      "text/plain": [
       "<selenium.webdriver.remote.webelement.WebElement (session=\"eef9835c5e8074e3b6a21aa82fd9b50d\", element=\"c4e7643a-95b1-4735-918c-3281b18a343c\")>"
      ]
     },
     "execution_count": 124,
     "metadata": {},
     "output_type": "execute_result"
    }
   ],
   "source": [
    "search_item=driver.find_element_by_xpath(\"//input[@class='_3704LK']\")\n",
    "search_item"
   ]
  },
  {
   "cell_type": "code",
   "execution_count": 129,
   "metadata": {},
   "outputs": [],
   "source": [
    "search_item.send_keys(\"sunglasses\")"
   ]
  },
  {
   "cell_type": "code",
   "execution_count": 130,
   "metadata": {},
   "outputs": [],
   "source": [
    "search_btn=driver.find_element_by_xpath(\"//button[@class='L0Z3Pu']\")\n",
    "search_btn.click()"
   ]
  },
  {
   "cell_type": "code",
   "execution_count": 131,
   "metadata": {},
   "outputs": [],
   "source": [
    "brands=[]\n",
    "product_description=[]\n",
    "price=[]\n",
    "discount=[]"
   ]
  },
  {
   "cell_type": "code",
   "execution_count": 132,
   "metadata": {},
   "outputs": [
    {
     "data": {
      "text/plain": [
       "<selenium.webdriver.remote.webelement.WebElement (session=\"eef9835c5e8074e3b6a21aa82fd9b50d\", element=\"2c4559f8-cc11-43bf-80e4-1a4bcd5877f1\")>"
      ]
     },
     "execution_count": 132,
     "metadata": {},
     "output_type": "execute_result"
    }
   ],
   "source": [
    "for i in range(1,5):\n",
    "    brand_tags = driver.find_elements_by_xpath(\"//div[@class='_2WkVRV']\")\n",
    "    for i in brand_tags:\n",
    "        brands.append(i.text)\n",
    "    brands  \n",
    "next_button=driver.find_element_by_xpath(\"//a[@class='_1LKTO3']//span\") \n",
    "next_button"
   ]
  },
  {
   "cell_type": "code",
   "execution_count": 133,
   "metadata": {},
   "outputs": [
    {
     "data": {
      "text/plain": [
       "['Elligator',\n",
       " 'SHAAH COLLECTIONS',\n",
       " 'PIRASO',\n",
       " 'kingsunglasses',\n",
       " 'PIRASO',\n",
       " 'ROYAL SON',\n",
       " 'kingsunglasses',\n",
       " 'Fastrack',\n",
       " 'Fastrack',\n",
       " 'ROZZETTA CRAFT',\n",
       " 'PHENOMENAL',\n",
       " 'SHAAH COLLECTIONS',\n",
       " 'ROZZETTA CRAFT',\n",
       " 'Fastrack',\n",
       " 'SHAAH COLLECTIONS',\n",
       " 'SUNBEE',\n",
       " 'NuVew',\n",
       " 'PIRASO',\n",
       " 'PIRASO',\n",
       " 'DEIXELS',\n",
       " 'Silver Kartz',\n",
       " 'Fastrack',\n",
       " 'kingsunglasses',\n",
       " 'ROZZETTA CRAFT',\n",
       " 'ROZZETTA CRAFT',\n",
       " 'SUNBEE',\n",
       " 'Rich Club',\n",
       " 'ROYAL SON',\n",
       " 'hipe',\n",
       " 'Fastrack',\n",
       " 'ROYAL SON',\n",
       " 'OCCARIO',\n",
       " 'Elligator',\n",
       " 'Singco India',\n",
       " 'Elligator',\n",
       " 'hipe',\n",
       " 'PHENOMENAL',\n",
       " 'GANSTA',\n",
       " 'PIRASO',\n",
       " 'HIPPON',\n",
       " 'Elligator',\n",
       " 'SHAAH COLLECTIONS',\n",
       " 'PIRASO',\n",
       " 'kingsunglasses',\n",
       " 'PIRASO',\n",
       " 'ROYAL SON',\n",
       " 'kingsunglasses',\n",
       " 'Fastrack',\n",
       " 'Fastrack',\n",
       " 'ROZZETTA CRAFT',\n",
       " 'PHENOMENAL',\n",
       " 'SHAAH COLLECTIONS',\n",
       " 'ROZZETTA CRAFT',\n",
       " 'Fastrack',\n",
       " 'SHAAH COLLECTIONS',\n",
       " 'SUNBEE',\n",
       " 'NuVew',\n",
       " 'PIRASO',\n",
       " 'PIRASO',\n",
       " 'DEIXELS',\n",
       " 'Silver Kartz',\n",
       " 'Fastrack',\n",
       " 'kingsunglasses',\n",
       " 'ROZZETTA CRAFT',\n",
       " 'ROZZETTA CRAFT',\n",
       " 'SUNBEE',\n",
       " 'Rich Club',\n",
       " 'ROYAL SON',\n",
       " 'hipe',\n",
       " 'Fastrack',\n",
       " 'ROYAL SON',\n",
       " 'OCCARIO',\n",
       " 'Elligator',\n",
       " 'Singco India',\n",
       " 'Elligator',\n",
       " 'hipe',\n",
       " 'PHENOMENAL',\n",
       " 'GANSTA',\n",
       " 'PIRASO',\n",
       " 'HIPPON',\n",
       " 'Elligator',\n",
       " 'SHAAH COLLECTIONS',\n",
       " 'PIRASO',\n",
       " 'kingsunglasses',\n",
       " 'PIRASO',\n",
       " 'ROYAL SON',\n",
       " 'kingsunglasses',\n",
       " 'Fastrack',\n",
       " 'Fastrack',\n",
       " 'ROZZETTA CRAFT',\n",
       " 'PHENOMENAL',\n",
       " 'SHAAH COLLECTIONS',\n",
       " 'ROZZETTA CRAFT',\n",
       " 'Fastrack',\n",
       " 'SHAAH COLLECTIONS',\n",
       " 'SUNBEE',\n",
       " 'NuVew',\n",
       " 'PIRASO',\n",
       " 'PIRASO',\n",
       " 'DEIXELS',\n",
       " 'Silver Kartz',\n",
       " 'Fastrack',\n",
       " 'kingsunglasses',\n",
       " 'ROZZETTA CRAFT',\n",
       " 'ROZZETTA CRAFT',\n",
       " 'SUNBEE',\n",
       " 'Rich Club',\n",
       " 'ROYAL SON',\n",
       " 'hipe',\n",
       " 'Fastrack',\n",
       " 'ROYAL SON',\n",
       " 'OCCARIO',\n",
       " 'Elligator',\n",
       " 'Singco India',\n",
       " 'Elligator',\n",
       " 'hipe',\n",
       " 'PHENOMENAL',\n",
       " 'GANSTA',\n",
       " 'PIRASO',\n",
       " 'HIPPON',\n",
       " 'Elligator',\n",
       " 'SHAAH COLLECTIONS',\n",
       " 'PIRASO',\n",
       " 'kingsunglasses',\n",
       " 'PIRASO',\n",
       " 'ROYAL SON',\n",
       " 'kingsunglasses',\n",
       " 'Fastrack',\n",
       " 'Fastrack',\n",
       " 'ROZZETTA CRAFT',\n",
       " 'PHENOMENAL',\n",
       " 'SHAAH COLLECTIONS',\n",
       " 'ROZZETTA CRAFT',\n",
       " 'Fastrack',\n",
       " 'SHAAH COLLECTIONS',\n",
       " 'SUNBEE',\n",
       " 'NuVew',\n",
       " 'PIRASO',\n",
       " 'PIRASO',\n",
       " 'DEIXELS',\n",
       " 'Silver Kartz',\n",
       " 'Fastrack',\n",
       " 'kingsunglasses',\n",
       " 'ROZZETTA CRAFT',\n",
       " 'ROZZETTA CRAFT',\n",
       " 'SUNBEE',\n",
       " 'Rich Club',\n",
       " 'ROYAL SON',\n",
       " 'hipe',\n",
       " 'Fastrack',\n",
       " 'ROYAL SON',\n",
       " 'OCCARIO',\n",
       " 'Elligator',\n",
       " 'Singco India',\n",
       " 'Elligator',\n",
       " 'hipe',\n",
       " 'PHENOMENAL',\n",
       " 'GANSTA',\n",
       " 'PIRASO',\n",
       " 'HIPPON']"
      ]
     },
     "execution_count": 133,
     "metadata": {},
     "output_type": "execute_result"
    }
   ],
   "source": [
    "brands"
   ]
  },
  {
   "cell_type": "code",
   "execution_count": 134,
   "metadata": {},
   "outputs": [
    {
     "data": {
      "text/plain": [
       "<selenium.webdriver.remote.webelement.WebElement (session=\"eef9835c5e8074e3b6a21aa82fd9b50d\", element=\"2c4559f8-cc11-43bf-80e4-1a4bcd5877f1\")>"
      ]
     },
     "execution_count": 134,
     "metadata": {},
     "output_type": "execute_result"
    }
   ],
   "source": [
    "for i in range(1,5):\n",
    "    desc = driver.find_elements_by_xpath(\"//a[@class='IRpwTa']\")\n",
    "    for i in desc:\n",
    "        product_description.append(i.text)\n",
    "    product_description  \n",
    "next_button=driver.find_element_by_xpath(\"//a[@class='_1LKTO3']//span\") \n",
    "next_button"
   ]
  },
  {
   "cell_type": "code",
   "execution_count": 135,
   "metadata": {},
   "outputs": [
    {
     "data": {
      "text/plain": [
       "['UV Protection Round Sunglasses (54)',\n",
       " 'UV Protection, Polarized, Mirrored Rectangular Sunglass...',\n",
       " 'UV Protection Aviator Sunglasses (54)',\n",
       " 'Mirrored, UV Protection Wayfarer Sunglasses (Free Size)',\n",
       " 'UV Protection Aviator Sunglasses (54)',\n",
       " 'UV Protection Rectangular Sunglasses (58)',\n",
       " 'UV Protection Round Sunglasses (54)',\n",
       " 'UV Protection Wayfarer Sunglasses (Free Size)',\n",
       " 'Gradient, UV Protection Wayfarer Sunglasses (Free Size)',\n",
       " 'UV Protection, Gradient Rectangular Sunglasses (Free Si...',\n",
       " 'UV Protection Retro Square Sunglasses (Free Size)',\n",
       " 'UV Protection, Polarized, Mirrored Rectangular Sunglass...',\n",
       " 'UV Protection Retro Square Sunglasses (Free Size)',\n",
       " 'UV Protection Aviator Sunglasses (Free Size)',\n",
       " 'UV Protection Round Sunglasses (Free Size)',\n",
       " 'UV Protection, Polarized, Mirrored Wayfarer Sunglasses ...',\n",
       " 'UV Protection, Mirrored Aviator Sunglasses (58)',\n",
       " 'UV Protection Butterfly Sunglasses (65)',\n",
       " 'UV Protection Aviator Sunglasses (54)',\n",
       " 'UV Protection Aviator, Wayfarer Sunglasses (Free Size)',\n",
       " 'UV Protection Wayfarer Sunglasses (Free Size)',\n",
       " 'UV Protection Wayfarer Sunglasses (Free Size)',\n",
       " 'Mirrored, UV Protection Wayfarer Sunglasses (Free Size)',\n",
       " 'UV Protection, Gradient Round Sunglasses (Free Size)',\n",
       " 'UV Protection, Riding Glasses Rectangular Sunglasses (F...',\n",
       " 'UV Protection, Polarized, Mirrored Wayfarer Sunglasses ...',\n",
       " 'UV Protection, Mirrored, Gradient Round Sunglasses (51)',\n",
       " 'Mirrored Aviator Sunglasses (55)',\n",
       " 'UV Protection, Gradient, Mirrored, Riding Glasses Aviat...',\n",
       " 'UV Protection Wayfarer Sunglasses (57)',\n",
       " 'UV Protection Retro Square Sunglasses (58)',\n",
       " 'Others Round Sunglasses (52)',\n",
       " 'Mirrored Round Sunglasses (53)',\n",
       " 'UV Protection Aviator Sunglasses (Free Size)',\n",
       " 'UV Protection, Riding Glasses Rectangular, Retro Square...',\n",
       " 'UV Protection, Night Vision, Riding Glasses, Gradient, ...',\n",
       " 'UV Protection Round Sunglasses (53)',\n",
       " 'UV Protection, Night Vision, Riding Glasses Aviator Sun...',\n",
       " 'UV Protection Aviator Sunglasses (58)',\n",
       " 'UV Protection Wayfarer Sunglasses (55)',\n",
       " 'UV Protection Round Sunglasses (54)',\n",
       " 'UV Protection, Polarized, Mirrored Rectangular Sunglass...',\n",
       " 'UV Protection Aviator Sunglasses (54)',\n",
       " 'Mirrored, UV Protection Wayfarer Sunglasses (Free Size)',\n",
       " 'UV Protection Aviator Sunglasses (54)',\n",
       " 'UV Protection Rectangular Sunglasses (58)',\n",
       " 'UV Protection Round Sunglasses (54)',\n",
       " 'UV Protection Wayfarer Sunglasses (Free Size)',\n",
       " 'Gradient, UV Protection Wayfarer Sunglasses (Free Size)',\n",
       " 'UV Protection, Gradient Rectangular Sunglasses (Free Si...',\n",
       " 'UV Protection Retro Square Sunglasses (Free Size)',\n",
       " 'UV Protection, Polarized, Mirrored Rectangular Sunglass...',\n",
       " 'UV Protection Retro Square Sunglasses (Free Size)',\n",
       " 'UV Protection Aviator Sunglasses (Free Size)',\n",
       " 'UV Protection Round Sunglasses (Free Size)',\n",
       " 'UV Protection, Polarized, Mirrored Wayfarer Sunglasses ...',\n",
       " 'UV Protection, Mirrored Aviator Sunglasses (58)',\n",
       " 'UV Protection Butterfly Sunglasses (65)',\n",
       " 'UV Protection Aviator Sunglasses (54)',\n",
       " 'UV Protection Aviator, Wayfarer Sunglasses (Free Size)',\n",
       " 'UV Protection Wayfarer Sunglasses (Free Size)',\n",
       " 'UV Protection Wayfarer Sunglasses (Free Size)',\n",
       " 'Mirrored, UV Protection Wayfarer Sunglasses (Free Size)',\n",
       " 'UV Protection, Gradient Round Sunglasses (Free Size)',\n",
       " 'UV Protection, Riding Glasses Rectangular Sunglasses (F...',\n",
       " 'UV Protection, Polarized, Mirrored Wayfarer Sunglasses ...',\n",
       " 'UV Protection, Mirrored, Gradient Round Sunglasses (51)',\n",
       " 'Mirrored Aviator Sunglasses (55)',\n",
       " 'UV Protection, Gradient, Mirrored, Riding Glasses Aviat...',\n",
       " 'UV Protection Wayfarer Sunglasses (57)',\n",
       " 'UV Protection Retro Square Sunglasses (58)',\n",
       " 'Others Round Sunglasses (52)',\n",
       " 'Mirrored Round Sunglasses (53)',\n",
       " 'UV Protection Aviator Sunglasses (Free Size)',\n",
       " 'UV Protection, Riding Glasses Rectangular, Retro Square...',\n",
       " 'UV Protection, Night Vision, Riding Glasses, Gradient, ...',\n",
       " 'UV Protection Round Sunglasses (53)',\n",
       " 'UV Protection, Night Vision, Riding Glasses Aviator Sun...',\n",
       " 'UV Protection Aviator Sunglasses (58)',\n",
       " 'UV Protection Wayfarer Sunglasses (55)',\n",
       " 'UV Protection Round Sunglasses (54)',\n",
       " 'UV Protection, Polarized, Mirrored Rectangular Sunglass...',\n",
       " 'UV Protection Aviator Sunglasses (54)',\n",
       " 'Mirrored, UV Protection Wayfarer Sunglasses (Free Size)',\n",
       " 'UV Protection Aviator Sunglasses (54)',\n",
       " 'UV Protection Rectangular Sunglasses (58)',\n",
       " 'UV Protection Round Sunglasses (54)',\n",
       " 'UV Protection Wayfarer Sunglasses (Free Size)',\n",
       " 'Gradient, UV Protection Wayfarer Sunglasses (Free Size)',\n",
       " 'UV Protection, Gradient Rectangular Sunglasses (Free Si...',\n",
       " 'UV Protection Retro Square Sunglasses (Free Size)',\n",
       " 'UV Protection, Polarized, Mirrored Rectangular Sunglass...',\n",
       " 'UV Protection Retro Square Sunglasses (Free Size)',\n",
       " 'UV Protection Aviator Sunglasses (Free Size)',\n",
       " 'UV Protection Round Sunglasses (Free Size)',\n",
       " 'UV Protection, Polarized, Mirrored Wayfarer Sunglasses ...',\n",
       " 'UV Protection, Mirrored Aviator Sunglasses (58)',\n",
       " 'UV Protection Butterfly Sunglasses (65)',\n",
       " 'UV Protection Aviator Sunglasses (54)',\n",
       " 'UV Protection Aviator, Wayfarer Sunglasses (Free Size)',\n",
       " 'UV Protection Wayfarer Sunglasses (Free Size)',\n",
       " 'UV Protection Wayfarer Sunglasses (Free Size)',\n",
       " 'Mirrored, UV Protection Wayfarer Sunglasses (Free Size)',\n",
       " 'UV Protection, Gradient Round Sunglasses (Free Size)',\n",
       " 'UV Protection, Riding Glasses Rectangular Sunglasses (F...',\n",
       " 'UV Protection, Polarized, Mirrored Wayfarer Sunglasses ...',\n",
       " 'UV Protection, Mirrored, Gradient Round Sunglasses (51)',\n",
       " 'Mirrored Aviator Sunglasses (55)',\n",
       " 'UV Protection, Gradient, Mirrored, Riding Glasses Aviat...',\n",
       " 'UV Protection Wayfarer Sunglasses (57)',\n",
       " 'UV Protection Retro Square Sunglasses (58)',\n",
       " 'Others Round Sunglasses (52)',\n",
       " 'Mirrored Round Sunglasses (53)',\n",
       " 'UV Protection Aviator Sunglasses (Free Size)',\n",
       " 'UV Protection, Riding Glasses Rectangular, Retro Square...',\n",
       " 'UV Protection, Night Vision, Riding Glasses, Gradient, ...',\n",
       " 'UV Protection Round Sunglasses (53)',\n",
       " 'UV Protection, Night Vision, Riding Glasses Aviator Sun...',\n",
       " 'UV Protection Aviator Sunglasses (58)',\n",
       " 'UV Protection Wayfarer Sunglasses (55)',\n",
       " 'UV Protection Round Sunglasses (54)',\n",
       " 'UV Protection, Polarized, Mirrored Rectangular Sunglass...',\n",
       " 'UV Protection Aviator Sunglasses (54)',\n",
       " 'Mirrored, UV Protection Wayfarer Sunglasses (Free Size)',\n",
       " 'UV Protection Aviator Sunglasses (54)',\n",
       " 'UV Protection Rectangular Sunglasses (58)',\n",
       " 'UV Protection Round Sunglasses (54)',\n",
       " 'UV Protection Wayfarer Sunglasses (Free Size)',\n",
       " 'Gradient, UV Protection Wayfarer Sunglasses (Free Size)',\n",
       " 'UV Protection, Gradient Rectangular Sunglasses (Free Si...',\n",
       " 'UV Protection Retro Square Sunglasses (Free Size)',\n",
       " 'UV Protection, Polarized, Mirrored Rectangular Sunglass...',\n",
       " 'UV Protection Retro Square Sunglasses (Free Size)',\n",
       " 'UV Protection Aviator Sunglasses (Free Size)',\n",
       " 'UV Protection Round Sunglasses (Free Size)',\n",
       " 'UV Protection, Polarized, Mirrored Wayfarer Sunglasses ...',\n",
       " 'UV Protection, Mirrored Aviator Sunglasses (58)',\n",
       " 'UV Protection Butterfly Sunglasses (65)',\n",
       " 'UV Protection Aviator Sunglasses (54)',\n",
       " 'UV Protection Aviator, Wayfarer Sunglasses (Free Size)',\n",
       " 'UV Protection Wayfarer Sunglasses (Free Size)',\n",
       " 'UV Protection Wayfarer Sunglasses (Free Size)',\n",
       " 'Mirrored, UV Protection Wayfarer Sunglasses (Free Size)',\n",
       " 'UV Protection, Gradient Round Sunglasses (Free Size)',\n",
       " 'UV Protection, Riding Glasses Rectangular Sunglasses (F...',\n",
       " 'UV Protection, Polarized, Mirrored Wayfarer Sunglasses ...',\n",
       " 'UV Protection, Mirrored, Gradient Round Sunglasses (51)',\n",
       " 'Mirrored Aviator Sunglasses (55)',\n",
       " 'UV Protection, Gradient, Mirrored, Riding Glasses Aviat...',\n",
       " 'UV Protection Wayfarer Sunglasses (57)',\n",
       " 'UV Protection Retro Square Sunglasses (58)',\n",
       " 'Others Round Sunglasses (52)',\n",
       " 'Mirrored Round Sunglasses (53)',\n",
       " 'UV Protection Aviator Sunglasses (Free Size)',\n",
       " 'UV Protection, Riding Glasses Rectangular, Retro Square...',\n",
       " 'UV Protection, Night Vision, Riding Glasses, Gradient, ...',\n",
       " 'UV Protection Round Sunglasses (53)',\n",
       " 'UV Protection, Night Vision, Riding Glasses Aviator Sun...',\n",
       " 'UV Protection Aviator Sunglasses (58)',\n",
       " 'UV Protection Wayfarer Sunglasses (55)']"
      ]
     },
     "execution_count": 135,
     "metadata": {},
     "output_type": "execute_result"
    }
   ],
   "source": [
    "product_description"
   ]
  },
  {
   "cell_type": "code",
   "execution_count": 137,
   "metadata": {},
   "outputs": [
    {
     "data": {
      "text/plain": [
       "<selenium.webdriver.remote.webelement.WebElement (session=\"eef9835c5e8074e3b6a21aa82fd9b50d\", element=\"2c4559f8-cc11-43bf-80e4-1a4bcd5877f1\")>"
      ]
     },
     "execution_count": 137,
     "metadata": {},
     "output_type": "execute_result"
    }
   ],
   "source": [
    "for i in range(1,5):\n",
    "    price_tag = driver.find_elements_by_xpath(\"//div[@class='_30jeq3']\")\n",
    "    for i in price_tag:\n",
    "        price.append(i.text)\n",
    "    price  \n",
    "next_button=driver.find_element_by_xpath(\"//a[@class='_1LKTO3']//span\") \n",
    "next_button"
   ]
  },
  {
   "cell_type": "code",
   "execution_count": 138,
   "metadata": {},
   "outputs": [
    {
     "data": {
      "text/plain": [
       "['₹329',\n",
       " '₹198',\n",
       " '₹237',\n",
       " '₹284',\n",
       " '₹237',\n",
       " '₹474',\n",
       " '₹213',\n",
       " '₹758',\n",
       " '₹509',\n",
       " '₹404',\n",
       " '₹399',\n",
       " '₹215',\n",
       " '₹499',\n",
       " '₹546',\n",
       " '₹331',\n",
       " '₹265',\n",
       " '₹186',\n",
       " '₹449',\n",
       " '₹237',\n",
       " '₹229',\n",
       " '₹246',\n",
       " '₹689',\n",
       " '₹284',\n",
       " '₹449',\n",
       " '₹449',\n",
       " '₹284',\n",
       " '₹215',\n",
       " '₹379',\n",
       " '₹209',\n",
       " '₹503',\n",
       " '₹474',\n",
       " '₹179',\n",
       " '₹355',\n",
       " '₹352',\n",
       " '₹443',\n",
       " '₹210',\n",
       " '₹295',\n",
       " '₹295',\n",
       " '₹399',\n",
       " '₹257',\n",
       " '₹329',\n",
       " '₹198',\n",
       " '₹237',\n",
       " '₹284',\n",
       " '₹237',\n",
       " '₹474',\n",
       " '₹213',\n",
       " '₹758',\n",
       " '₹509',\n",
       " '₹404',\n",
       " '₹399',\n",
       " '₹215',\n",
       " '₹499',\n",
       " '₹546',\n",
       " '₹331',\n",
       " '₹265',\n",
       " '₹186',\n",
       " '₹449',\n",
       " '₹237',\n",
       " '₹229',\n",
       " '₹246',\n",
       " '₹689',\n",
       " '₹284',\n",
       " '₹449',\n",
       " '₹449',\n",
       " '₹284',\n",
       " '₹215',\n",
       " '₹379',\n",
       " '₹209',\n",
       " '₹503',\n",
       " '₹474',\n",
       " '₹179',\n",
       " '₹355',\n",
       " '₹352',\n",
       " '₹443',\n",
       " '₹210',\n",
       " '₹295',\n",
       " '₹295',\n",
       " '₹399',\n",
       " '₹257',\n",
       " '₹329',\n",
       " '₹198',\n",
       " '₹237',\n",
       " '₹284',\n",
       " '₹237',\n",
       " '₹474',\n",
       " '₹213',\n",
       " '₹758',\n",
       " '₹509',\n",
       " '₹404',\n",
       " '₹399',\n",
       " '₹215',\n",
       " '₹499',\n",
       " '₹546',\n",
       " '₹331',\n",
       " '₹265',\n",
       " '₹186',\n",
       " '₹449',\n",
       " '₹237',\n",
       " '₹229',\n",
       " '₹246',\n",
       " '₹689',\n",
       " '₹284',\n",
       " '₹449',\n",
       " '₹449',\n",
       " '₹284',\n",
       " '₹215',\n",
       " '₹379',\n",
       " '₹209',\n",
       " '₹503',\n",
       " '₹474',\n",
       " '₹179',\n",
       " '₹355',\n",
       " '₹352',\n",
       " '₹443',\n",
       " '₹210',\n",
       " '₹295',\n",
       " '₹295',\n",
       " '₹399',\n",
       " '₹257',\n",
       " '₹329',\n",
       " '₹198',\n",
       " '₹237',\n",
       " '₹284',\n",
       " '₹237',\n",
       " '₹474',\n",
       " '₹213',\n",
       " '₹758',\n",
       " '₹509',\n",
       " '₹404',\n",
       " '₹399',\n",
       " '₹215',\n",
       " '₹499',\n",
       " '₹546',\n",
       " '₹331',\n",
       " '₹265',\n",
       " '₹186',\n",
       " '₹449',\n",
       " '₹237',\n",
       " '₹229',\n",
       " '₹246',\n",
       " '₹689',\n",
       " '₹284',\n",
       " '₹449',\n",
       " '₹449',\n",
       " '₹284',\n",
       " '₹215',\n",
       " '₹379',\n",
       " '₹209',\n",
       " '₹503',\n",
       " '₹474',\n",
       " '₹179',\n",
       " '₹355',\n",
       " '₹352',\n",
       " '₹443',\n",
       " '₹210',\n",
       " '₹295',\n",
       " '₹295',\n",
       " '₹399',\n",
       " '₹257',\n",
       " '₹329',\n",
       " '₹198',\n",
       " '₹237',\n",
       " '₹284',\n",
       " '₹237',\n",
       " '₹474',\n",
       " '₹213',\n",
       " '₹758',\n",
       " '₹509',\n",
       " '₹404',\n",
       " '₹399',\n",
       " '₹215',\n",
       " '₹499',\n",
       " '₹546',\n",
       " '₹331',\n",
       " '₹265',\n",
       " '₹186',\n",
       " '₹449',\n",
       " '₹237',\n",
       " '₹229',\n",
       " '₹246',\n",
       " '₹689',\n",
       " '₹284',\n",
       " '₹449',\n",
       " '₹449',\n",
       " '₹284',\n",
       " '₹215',\n",
       " '₹379',\n",
       " '₹209',\n",
       " '₹503',\n",
       " '₹474',\n",
       " '₹179',\n",
       " '₹355',\n",
       " '₹352',\n",
       " '₹443',\n",
       " '₹210',\n",
       " '₹295',\n",
       " '₹295',\n",
       " '₹399',\n",
       " '₹257',\n",
       " '₹329',\n",
       " '₹198',\n",
       " '₹237',\n",
       " '₹284',\n",
       " '₹237',\n",
       " '₹474',\n",
       " '₹213',\n",
       " '₹758',\n",
       " '₹509',\n",
       " '₹404',\n",
       " '₹399',\n",
       " '₹215',\n",
       " '₹499',\n",
       " '₹546',\n",
       " '₹331',\n",
       " '₹265',\n",
       " '₹186',\n",
       " '₹449',\n",
       " '₹237',\n",
       " '₹229',\n",
       " '₹246',\n",
       " '₹689',\n",
       " '₹284',\n",
       " '₹449',\n",
       " '₹449',\n",
       " '₹284',\n",
       " '₹215',\n",
       " '₹379',\n",
       " '₹209',\n",
       " '₹503',\n",
       " '₹474',\n",
       " '₹179',\n",
       " '₹355',\n",
       " '₹352',\n",
       " '₹443',\n",
       " '₹210',\n",
       " '₹295',\n",
       " '₹295',\n",
       " '₹399',\n",
       " '₹257',\n",
       " '₹329',\n",
       " '₹198',\n",
       " '₹237',\n",
       " '₹284',\n",
       " '₹237',\n",
       " '₹474',\n",
       " '₹213',\n",
       " '₹758',\n",
       " '₹509',\n",
       " '₹404',\n",
       " '₹399',\n",
       " '₹215',\n",
       " '₹499',\n",
       " '₹546',\n",
       " '₹331',\n",
       " '₹265',\n",
       " '₹186',\n",
       " '₹449',\n",
       " '₹237',\n",
       " '₹229',\n",
       " '₹246',\n",
       " '₹689',\n",
       " '₹284',\n",
       " '₹449',\n",
       " '₹449',\n",
       " '₹284',\n",
       " '₹215',\n",
       " '₹379',\n",
       " '₹209',\n",
       " '₹503',\n",
       " '₹474',\n",
       " '₹179',\n",
       " '₹355',\n",
       " '₹352',\n",
       " '₹443',\n",
       " '₹210',\n",
       " '₹295',\n",
       " '₹295',\n",
       " '₹399',\n",
       " '₹257',\n",
       " '₹329',\n",
       " '₹198',\n",
       " '₹237',\n",
       " '₹284',\n",
       " '₹237',\n",
       " '₹474',\n",
       " '₹213',\n",
       " '₹758',\n",
       " '₹509',\n",
       " '₹404',\n",
       " '₹399',\n",
       " '₹215',\n",
       " '₹499',\n",
       " '₹546',\n",
       " '₹331',\n",
       " '₹265',\n",
       " '₹186',\n",
       " '₹449',\n",
       " '₹237',\n",
       " '₹229',\n",
       " '₹246',\n",
       " '₹689',\n",
       " '₹284',\n",
       " '₹449',\n",
       " '₹449',\n",
       " '₹284',\n",
       " '₹215',\n",
       " '₹379',\n",
       " '₹209',\n",
       " '₹503',\n",
       " '₹474',\n",
       " '₹179',\n",
       " '₹355',\n",
       " '₹352',\n",
       " '₹443',\n",
       " '₹210',\n",
       " '₹295',\n",
       " '₹295',\n",
       " '₹399',\n",
       " '₹257']"
      ]
     },
     "execution_count": 138,
     "metadata": {},
     "output_type": "execute_result"
    }
   ],
   "source": [
    "price"
   ]
  },
  {
   "cell_type": "code",
   "execution_count": 139,
   "metadata": {},
   "outputs": [
    {
     "data": {
      "text/plain": [
       "<selenium.webdriver.remote.webelement.WebElement (session=\"eef9835c5e8074e3b6a21aa82fd9b50d\", element=\"2c4559f8-cc11-43bf-80e4-1a4bcd5877f1\")>"
      ]
     },
     "execution_count": 139,
     "metadata": {},
     "output_type": "execute_result"
    }
   ],
   "source": [
    "for i in range(1,5):\n",
    "    discount_tag = driver.find_elements_by_xpath(\"//div[@class='_3Ay6Sb']//span\")\n",
    "    for i in discount_tag:\n",
    "        discount.append(i.text)\n",
    "    discount  \n",
    "next_button=driver.find_element_by_xpath(\"//a[@class='_1LKTO3']//span\") \n",
    "next_button"
   ]
  },
  {
   "cell_type": "code",
   "execution_count": 140,
   "metadata": {},
   "outputs": [
    {
     "data": {
      "text/plain": [
       "['86% off',\n",
       " '88% off',\n",
       " '85% off',\n",
       " '89% off',\n",
       " '85% off',\n",
       " '68% off',\n",
       " '80% off',\n",
       " '15% off',\n",
       " '36% off',\n",
       " '79% off',\n",
       " '80% off',\n",
       " '78% off',\n",
       " '77% off',\n",
       " '31% off',\n",
       " '80% off',\n",
       " '73% off',\n",
       " '78% off',\n",
       " '82% off',\n",
       " '85% off',\n",
       " '80% off',\n",
       " '83% off',\n",
       " '23% off',\n",
       " '89% off',\n",
       " '77% off',\n",
       " '79% off',\n",
       " '71% off',\n",
       " '73% off',\n",
       " '74% off',\n",
       " '79% off',\n",
       " '37% off',\n",
       " '68% off',\n",
       " '69% off',\n",
       " '85% off',\n",
       " '70% off',\n",
       " '70% off',\n",
       " '83% off',\n",
       " '87% off',\n",
       " '85% off',\n",
       " '84% off',\n",
       " '78% off',\n",
       " '86% off',\n",
       " '88% off',\n",
       " '85% off',\n",
       " '89% off',\n",
       " '85% off',\n",
       " '68% off',\n",
       " '80% off',\n",
       " '15% off',\n",
       " '36% off',\n",
       " '79% off',\n",
       " '80% off',\n",
       " '78% off',\n",
       " '77% off',\n",
       " '31% off',\n",
       " '80% off',\n",
       " '73% off',\n",
       " '78% off',\n",
       " '82% off',\n",
       " '85% off',\n",
       " '80% off',\n",
       " '83% off',\n",
       " '23% off',\n",
       " '89% off',\n",
       " '77% off',\n",
       " '79% off',\n",
       " '71% off',\n",
       " '73% off',\n",
       " '74% off',\n",
       " '79% off',\n",
       " '37% off',\n",
       " '68% off',\n",
       " '69% off',\n",
       " '85% off',\n",
       " '70% off',\n",
       " '70% off',\n",
       " '83% off',\n",
       " '87% off',\n",
       " '85% off',\n",
       " '84% off',\n",
       " '78% off',\n",
       " '86% off',\n",
       " '88% off',\n",
       " '85% off',\n",
       " '89% off',\n",
       " '85% off',\n",
       " '68% off',\n",
       " '80% off',\n",
       " '15% off',\n",
       " '36% off',\n",
       " '79% off',\n",
       " '80% off',\n",
       " '78% off',\n",
       " '77% off',\n",
       " '31% off',\n",
       " '80% off',\n",
       " '73% off',\n",
       " '78% off',\n",
       " '82% off',\n",
       " '85% off',\n",
       " '80% off',\n",
       " '83% off',\n",
       " '23% off',\n",
       " '89% off',\n",
       " '77% off',\n",
       " '79% off',\n",
       " '71% off',\n",
       " '73% off',\n",
       " '74% off',\n",
       " '79% off',\n",
       " '37% off',\n",
       " '68% off',\n",
       " '69% off',\n",
       " '85% off',\n",
       " '70% off',\n",
       " '70% off',\n",
       " '83% off',\n",
       " '87% off',\n",
       " '85% off',\n",
       " '84% off',\n",
       " '78% off',\n",
       " '86% off',\n",
       " '88% off',\n",
       " '85% off',\n",
       " '89% off',\n",
       " '85% off',\n",
       " '68% off',\n",
       " '80% off',\n",
       " '15% off',\n",
       " '36% off',\n",
       " '79% off',\n",
       " '80% off',\n",
       " '78% off',\n",
       " '77% off',\n",
       " '31% off',\n",
       " '80% off',\n",
       " '73% off',\n",
       " '78% off',\n",
       " '82% off',\n",
       " '85% off',\n",
       " '80% off',\n",
       " '83% off',\n",
       " '23% off',\n",
       " '89% off',\n",
       " '77% off',\n",
       " '79% off',\n",
       " '71% off',\n",
       " '73% off',\n",
       " '74% off',\n",
       " '79% off',\n",
       " '37% off',\n",
       " '68% off',\n",
       " '69% off',\n",
       " '85% off',\n",
       " '70% off',\n",
       " '70% off',\n",
       " '83% off',\n",
       " '87% off',\n",
       " '85% off',\n",
       " '84% off',\n",
       " '78% off']"
      ]
     },
     "execution_count": 140,
     "metadata": {},
     "output_type": "execute_result"
    }
   ],
   "source": [
    "discount"
   ]
  },
  {
   "cell_type": "code",
   "execution_count": 141,
   "metadata": {},
   "outputs": [
    {
     "name": "stdout",
     "output_type": "stream",
     "text": [
      "160 160 320 160\n"
     ]
    }
   ],
   "source": [
    "print(len(brands),len(product_description),len(price),len(discount))"
   ]
  },
  {
   "cell_type": "code",
   "execution_count": 142,
   "metadata": {},
   "outputs": [],
   "source": [
    "sunglasses=pd.DataFrame({})\n",
    "sunglasses['Brands']=brands[:100]\n",
    "sunglasses['Product Description']=product_description[:100]\n",
    "sunglasses['Price']=price[:100]\n",
    "sunglasses['Discount']=discount[:100]"
   ]
  },
  {
   "cell_type": "code",
   "execution_count": 143,
   "metadata": {},
   "outputs": [
    {
     "data": {
      "text/html": [
       "<div>\n",
       "<style scoped>\n",
       "    .dataframe tbody tr th:only-of-type {\n",
       "        vertical-align: middle;\n",
       "    }\n",
       "\n",
       "    .dataframe tbody tr th {\n",
       "        vertical-align: top;\n",
       "    }\n",
       "\n",
       "    .dataframe thead th {\n",
       "        text-align: right;\n",
       "    }\n",
       "</style>\n",
       "<table border=\"1\" class=\"dataframe\">\n",
       "  <thead>\n",
       "    <tr style=\"text-align: right;\">\n",
       "      <th></th>\n",
       "      <th>Brands</th>\n",
       "      <th>Product Description</th>\n",
       "      <th>Price</th>\n",
       "      <th>Discount</th>\n",
       "    </tr>\n",
       "  </thead>\n",
       "  <tbody>\n",
       "    <tr>\n",
       "      <th>0</th>\n",
       "      <td>Elligator</td>\n",
       "      <td>UV Protection Round Sunglasses (54)</td>\n",
       "      <td>₹329</td>\n",
       "      <td>86% off</td>\n",
       "    </tr>\n",
       "    <tr>\n",
       "      <th>1</th>\n",
       "      <td>SHAAH COLLECTIONS</td>\n",
       "      <td>UV Protection, Polarized, Mirrored Rectangular...</td>\n",
       "      <td>₹198</td>\n",
       "      <td>88% off</td>\n",
       "    </tr>\n",
       "    <tr>\n",
       "      <th>2</th>\n",
       "      <td>PIRASO</td>\n",
       "      <td>UV Protection Aviator Sunglasses (54)</td>\n",
       "      <td>₹237</td>\n",
       "      <td>85% off</td>\n",
       "    </tr>\n",
       "    <tr>\n",
       "      <th>3</th>\n",
       "      <td>kingsunglasses</td>\n",
       "      <td>Mirrored, UV Protection Wayfarer Sunglasses (F...</td>\n",
       "      <td>₹284</td>\n",
       "      <td>89% off</td>\n",
       "    </tr>\n",
       "    <tr>\n",
       "      <th>4</th>\n",
       "      <td>PIRASO</td>\n",
       "      <td>UV Protection Aviator Sunglasses (54)</td>\n",
       "      <td>₹237</td>\n",
       "      <td>85% off</td>\n",
       "    </tr>\n",
       "    <tr>\n",
       "      <th>...</th>\n",
       "      <td>...</td>\n",
       "      <td>...</td>\n",
       "      <td>...</td>\n",
       "      <td>...</td>\n",
       "    </tr>\n",
       "    <tr>\n",
       "      <th>95</th>\n",
       "      <td>SUNBEE</td>\n",
       "      <td>UV Protection, Polarized, Mirrored Wayfarer Su...</td>\n",
       "      <td>₹265</td>\n",
       "      <td>73% off</td>\n",
       "    </tr>\n",
       "    <tr>\n",
       "      <th>96</th>\n",
       "      <td>NuVew</td>\n",
       "      <td>UV Protection, Mirrored Aviator Sunglasses (58)</td>\n",
       "      <td>₹186</td>\n",
       "      <td>78% off</td>\n",
       "    </tr>\n",
       "    <tr>\n",
       "      <th>97</th>\n",
       "      <td>PIRASO</td>\n",
       "      <td>UV Protection Butterfly Sunglasses (65)</td>\n",
       "      <td>₹449</td>\n",
       "      <td>82% off</td>\n",
       "    </tr>\n",
       "    <tr>\n",
       "      <th>98</th>\n",
       "      <td>PIRASO</td>\n",
       "      <td>UV Protection Aviator Sunglasses (54)</td>\n",
       "      <td>₹237</td>\n",
       "      <td>85% off</td>\n",
       "    </tr>\n",
       "    <tr>\n",
       "      <th>99</th>\n",
       "      <td>DEIXELS</td>\n",
       "      <td>UV Protection Aviator, Wayfarer Sunglasses (Fr...</td>\n",
       "      <td>₹229</td>\n",
       "      <td>80% off</td>\n",
       "    </tr>\n",
       "  </tbody>\n",
       "</table>\n",
       "<p>100 rows × 4 columns</p>\n",
       "</div>"
      ],
      "text/plain": [
       "               Brands                                Product Description  \\\n",
       "0           Elligator                UV Protection Round Sunglasses (54)   \n",
       "1   SHAAH COLLECTIONS  UV Protection, Polarized, Mirrored Rectangular...   \n",
       "2              PIRASO              UV Protection Aviator Sunglasses (54)   \n",
       "3      kingsunglasses  Mirrored, UV Protection Wayfarer Sunglasses (F...   \n",
       "4              PIRASO              UV Protection Aviator Sunglasses (54)   \n",
       "..                ...                                                ...   \n",
       "95             SUNBEE  UV Protection, Polarized, Mirrored Wayfarer Su...   \n",
       "96              NuVew    UV Protection, Mirrored Aviator Sunglasses (58)   \n",
       "97             PIRASO            UV Protection Butterfly Sunglasses (65)   \n",
       "98             PIRASO              UV Protection Aviator Sunglasses (54)   \n",
       "99            DEIXELS  UV Protection Aviator, Wayfarer Sunglasses (Fr...   \n",
       "\n",
       "   Price Discount  \n",
       "0   ₹329  86% off  \n",
       "1   ₹198  88% off  \n",
       "2   ₹237  85% off  \n",
       "3   ₹284  89% off  \n",
       "4   ₹237  85% off  \n",
       "..   ...      ...  \n",
       "95  ₹265  73% off  \n",
       "96  ₹186  78% off  \n",
       "97  ₹449  82% off  \n",
       "98  ₹237  85% off  \n",
       "99  ₹229  80% off  \n",
       "\n",
       "[100 rows x 4 columns]"
      ]
     },
     "execution_count": 143,
     "metadata": {},
     "output_type": "execute_result"
    }
   ],
   "source": [
    "sunglasses"
   ]
  },
  {
   "cell_type": "code",
   "execution_count": null,
   "metadata": {},
   "outputs": [],
   "source": []
  },
  {
   "cell_type": "raw",
   "metadata": {},
   "source": [
    "Q7: Scrape 100 reviews data from flipkart.com for iphone11 phone. You have to\n",
    "go the link: https://www.flipkart.com/apple-iphone-11-black-64-gb-includes-\n",
    "earpods-power-\n",
    "adapter/p/itm0f37c2240b217?pid=MOBFKCTSVZAXUHGR&lid=LSTMOBFKC\n",
    "TSVZAXUHGREPBFGI&marketplace.\n",
    "When you will open the above link you will reach to the below shown webpage.As shown in the above page you have to scrape the tick marked attributes.\n",
    "These are\n",
    "1. Rating\n",
    "2. Review_summary\n",
    "3. Full review\n",
    "You have to scrape this data for first 100 reviews."
   ]
  },
  {
   "cell_type": "code",
   "execution_count": 124,
   "metadata": {},
   "outputs": [],
   "source": [
    " driver = webdriver.Chrome(\"chromedriver.exe\")"
   ]
  },
  {
   "cell_type": "code",
   "execution_count": 126,
   "metadata": {},
   "outputs": [],
   "source": [
    " url = \"  https://www.flipkart.com/apple-iphone-11-black-64-gb-includes\u0002earpods-power\u0002adapter/p/itm0f37c2240b217?pid=MOBFKCTSVZAXUHGR&lid=LSTMOBFKC \"\n",
    " driver.get(url)   "
   ]
  },
  {
   "cell_type": "code",
   "execution_count": 125,
   "metadata": {},
   "outputs": [],
   "source": [
    "ratings=[]\n",
    "review_summary=[]\n",
    "full_review=[]"
   ]
  },
  {
   "cell_type": "code",
   "execution_count": 127,
   "metadata": {},
   "outputs": [],
   "source": [
    "all_reviews=driver.find_element_by_xpath(\"//div[@class='_3UAT2v _16PBlm']\")\n",
    "all_reviews.click()"
   ]
  },
  {
   "cell_type": "code",
   "execution_count": 128,
   "metadata": {},
   "outputs": [
    {
     "data": {
      "text/plain": [
       "[<selenium.webdriver.remote.webelement.WebElement (session=\"9d95f59eeb312297651841ec76e81a44\", element=\"4ba3b8cc-88d4-4f7b-bb19-055a41cc4445\")>,\n",
       " <selenium.webdriver.remote.webelement.WebElement (session=\"9d95f59eeb312297651841ec76e81a44\", element=\"f88c2ce6-d4a3-43db-a1d2-5a6cfa8b8b3d\")>,\n",
       " <selenium.webdriver.remote.webelement.WebElement (session=\"9d95f59eeb312297651841ec76e81a44\", element=\"00c6ea9e-96f1-423d-92c9-67c5a494109f\")>,\n",
       " <selenium.webdriver.remote.webelement.WebElement (session=\"9d95f59eeb312297651841ec76e81a44\", element=\"d673939f-e96f-4a1a-b2e4-c574d6b4d9c4\")>,\n",
       " <selenium.webdriver.remote.webelement.WebElement (session=\"9d95f59eeb312297651841ec76e81a44\", element=\"de07b089-defb-46c5-a8f0-a6181bfc0cc8\")>,\n",
       " <selenium.webdriver.remote.webelement.WebElement (session=\"9d95f59eeb312297651841ec76e81a44\", element=\"be235f61-08dd-420a-98dd-15e13a5970cf\")>,\n",
       " <selenium.webdriver.remote.webelement.WebElement (session=\"9d95f59eeb312297651841ec76e81a44\", element=\"f54a6a5a-f856-4f0b-a288-6eb27a5d9720\")>,\n",
       " <selenium.webdriver.remote.webelement.WebElement (session=\"9d95f59eeb312297651841ec76e81a44\", element=\"d4c37f08-c859-4918-880f-b87c82c421c0\")>,\n",
       " <selenium.webdriver.remote.webelement.WebElement (session=\"9d95f59eeb312297651841ec76e81a44\", element=\"2e8012fb-8922-4d55-afe3-2088758355e9\")>,\n",
       " <selenium.webdriver.remote.webelement.WebElement (session=\"9d95f59eeb312297651841ec76e81a44\", element=\"2b2279e6-6e86-482a-b19f-b0449801c15e\")>,\n",
       " <selenium.webdriver.remote.webelement.WebElement (session=\"9d95f59eeb312297651841ec76e81a44\", element=\"9107fbb2-4e0a-484e-a061-445ed8ef066d\")>]"
      ]
     },
     "execution_count": 128,
     "metadata": {},
     "output_type": "execute_result"
    }
   ],
   "source": [
    "url=driver.find_elements_by_xpath(\"//nav[@class='yFHi8N']//a\")\n",
    "url"
   ]
  },
  {
   "cell_type": "code",
   "execution_count": 129,
   "metadata": {},
   "outputs": [
    {
     "data": {
      "text/plain": [
       "<selenium.webdriver.remote.webelement.WebElement (session=\"9d95f59eeb312297651841ec76e81a44\", element=\"c4892cba-8aa5-4761-9eba-108a400edd43\")>"
      ]
     },
     "execution_count": 129,
     "metadata": {},
     "output_type": "execute_result"
    }
   ],
   "source": [
    "for i in range(1,12):\n",
    "    rating = driver.find_elements_by_xpath(\"//div[@class='_3LWZlK _1BLPMq']\")\n",
    "    for i in rating:\n",
    "        ratings.append(i.text)\n",
    "    ratings  \n",
    "next_button=driver.find_element_by_xpath(\"//a[@class='_1LKTO3']//span\") \n",
    "next_button"
   ]
  },
  {
   "cell_type": "code",
   "execution_count": 130,
   "metadata": {},
   "outputs": [
    {
     "data": {
      "text/plain": [
       "['5',\n",
       " '5',\n",
       " '5',\n",
       " '5',\n",
       " '5',\n",
       " '5',\n",
       " '5',\n",
       " '4',\n",
       " '5',\n",
       " '5',\n",
       " '5',\n",
       " '5',\n",
       " '5',\n",
       " '5',\n",
       " '5',\n",
       " '5',\n",
       " '5',\n",
       " '4',\n",
       " '5',\n",
       " '5',\n",
       " '5',\n",
       " '5',\n",
       " '5',\n",
       " '5',\n",
       " '5',\n",
       " '5',\n",
       " '5',\n",
       " '4',\n",
       " '5',\n",
       " '5',\n",
       " '5',\n",
       " '5',\n",
       " '5',\n",
       " '5',\n",
       " '5',\n",
       " '5',\n",
       " '5',\n",
       " '4',\n",
       " '5',\n",
       " '5',\n",
       " '5',\n",
       " '5',\n",
       " '5',\n",
       " '5',\n",
       " '5',\n",
       " '5',\n",
       " '5',\n",
       " '4',\n",
       " '5',\n",
       " '5',\n",
       " '5',\n",
       " '5',\n",
       " '5',\n",
       " '5',\n",
       " '5',\n",
       " '5',\n",
       " '5',\n",
       " '4',\n",
       " '5',\n",
       " '5',\n",
       " '5',\n",
       " '5',\n",
       " '5',\n",
       " '5',\n",
       " '5',\n",
       " '5',\n",
       " '5',\n",
       " '4',\n",
       " '5',\n",
       " '5',\n",
       " '5',\n",
       " '5',\n",
       " '5',\n",
       " '5',\n",
       " '5',\n",
       " '5',\n",
       " '5',\n",
       " '4',\n",
       " '5',\n",
       " '5',\n",
       " '5',\n",
       " '5',\n",
       " '5',\n",
       " '5',\n",
       " '5',\n",
       " '5',\n",
       " '5',\n",
       " '4',\n",
       " '5',\n",
       " '5',\n",
       " '5',\n",
       " '5',\n",
       " '5',\n",
       " '5',\n",
       " '5',\n",
       " '5',\n",
       " '5',\n",
       " '4',\n",
       " '5',\n",
       " '5',\n",
       " '5',\n",
       " '5',\n",
       " '5',\n",
       " '5',\n",
       " '5',\n",
       " '5',\n",
       " '5',\n",
       " '4',\n",
       " '5',\n",
       " '5']"
      ]
     },
     "execution_count": 130,
     "metadata": {},
     "output_type": "execute_result"
    }
   ],
   "source": [
    "ratings"
   ]
  },
  {
   "cell_type": "code",
   "execution_count": 131,
   "metadata": {},
   "outputs": [
    {
     "data": {
      "text/plain": [
       "<selenium.webdriver.remote.webelement.WebElement (session=\"9d95f59eeb312297651841ec76e81a44\", element=\"c4892cba-8aa5-4761-9eba-108a400edd43\")>"
      ]
     },
     "execution_count": 131,
     "metadata": {},
     "output_type": "execute_result"
    }
   ],
   "source": [
    "for i in range(1,12):\n",
    "    short_review = driver.find_elements_by_xpath(\"//p[@class='_2-N8zT']\")\n",
    "    for i in short_review:\n",
    "        review_summary.append(i.text)\n",
    "    review_summary  \n",
    "next_button=driver.find_element_by_xpath(\"//a[@class='_1LKTO3']//span\") \n",
    "next_button"
   ]
  },
  {
   "cell_type": "code",
   "execution_count": 132,
   "metadata": {},
   "outputs": [
    {
     "data": {
      "text/plain": [
       "['Brilliant',\n",
       " 'Simply awesome',\n",
       " 'Best in the market!',\n",
       " 'Perfect product!',\n",
       " 'Fabulous!',\n",
       " 'Worth every penny',\n",
       " 'Great product',\n",
       " 'Good choice',\n",
       " 'Worth every penny',\n",
       " 'Highly recommended',\n",
       " 'Brilliant',\n",
       " 'Simply awesome',\n",
       " 'Best in the market!',\n",
       " 'Perfect product!',\n",
       " 'Fabulous!',\n",
       " 'Worth every penny',\n",
       " 'Great product',\n",
       " 'Good choice',\n",
       " 'Worth every penny',\n",
       " 'Highly recommended',\n",
       " 'Brilliant',\n",
       " 'Simply awesome',\n",
       " 'Best in the market!',\n",
       " 'Perfect product!',\n",
       " 'Fabulous!',\n",
       " 'Worth every penny',\n",
       " 'Great product',\n",
       " 'Good choice',\n",
       " 'Worth every penny',\n",
       " 'Highly recommended',\n",
       " 'Brilliant',\n",
       " 'Simply awesome',\n",
       " 'Best in the market!',\n",
       " 'Perfect product!',\n",
       " 'Fabulous!',\n",
       " 'Worth every penny',\n",
       " 'Great product',\n",
       " 'Good choice',\n",
       " 'Worth every penny',\n",
       " 'Highly recommended',\n",
       " 'Brilliant',\n",
       " 'Simply awesome',\n",
       " 'Best in the market!',\n",
       " 'Perfect product!',\n",
       " 'Fabulous!',\n",
       " 'Worth every penny',\n",
       " 'Great product',\n",
       " 'Good choice',\n",
       " 'Worth every penny',\n",
       " 'Highly recommended',\n",
       " 'Brilliant',\n",
       " 'Simply awesome',\n",
       " 'Best in the market!',\n",
       " 'Perfect product!',\n",
       " 'Fabulous!',\n",
       " 'Worth every penny',\n",
       " 'Great product',\n",
       " 'Good choice',\n",
       " 'Worth every penny',\n",
       " 'Highly recommended',\n",
       " 'Brilliant',\n",
       " 'Simply awesome',\n",
       " 'Best in the market!',\n",
       " 'Perfect product!',\n",
       " 'Fabulous!',\n",
       " 'Worth every penny',\n",
       " 'Great product',\n",
       " 'Good choice',\n",
       " 'Worth every penny',\n",
       " 'Highly recommended',\n",
       " 'Brilliant',\n",
       " 'Simply awesome',\n",
       " 'Best in the market!',\n",
       " 'Perfect product!',\n",
       " 'Fabulous!',\n",
       " 'Worth every penny',\n",
       " 'Great product',\n",
       " 'Good choice',\n",
       " 'Worth every penny',\n",
       " 'Highly recommended',\n",
       " 'Brilliant',\n",
       " 'Simply awesome',\n",
       " 'Best in the market!',\n",
       " 'Perfect product!',\n",
       " 'Fabulous!',\n",
       " 'Worth every penny',\n",
       " 'Great product',\n",
       " 'Good choice',\n",
       " 'Worth every penny',\n",
       " 'Highly recommended',\n",
       " 'Brilliant',\n",
       " 'Simply awesome',\n",
       " 'Best in the market!',\n",
       " 'Perfect product!',\n",
       " 'Fabulous!',\n",
       " 'Worth every penny',\n",
       " 'Great product',\n",
       " 'Good choice',\n",
       " 'Worth every penny',\n",
       " 'Highly recommended',\n",
       " 'Brilliant',\n",
       " 'Simply awesome',\n",
       " 'Best in the market!',\n",
       " 'Perfect product!',\n",
       " 'Fabulous!',\n",
       " 'Worth every penny',\n",
       " 'Great product',\n",
       " 'Good choice',\n",
       " 'Worth every penny',\n",
       " 'Highly recommended']"
      ]
     },
     "execution_count": 132,
     "metadata": {},
     "output_type": "execute_result"
    }
   ],
   "source": [
    "review_summary"
   ]
  },
  {
   "cell_type": "code",
   "execution_count": 133,
   "metadata": {},
   "outputs": [
    {
     "data": {
      "text/plain": [
       "<selenium.webdriver.remote.webelement.WebElement (session=\"9d95f59eeb312297651841ec76e81a44\", element=\"c4892cba-8aa5-4761-9eba-108a400edd43\")>"
      ]
     },
     "execution_count": 133,
     "metadata": {},
     "output_type": "execute_result"
    }
   ],
   "source": [
    "for i in range(1,12):\n",
    "    review = driver.find_elements_by_xpath(\"//div[@class='t-ZTKy']\")\n",
    "    for i in review:\n",
    "        full_review.append(i.text)\n",
    "    full_review  \n",
    "next_button=driver.find_element_by_xpath(\"//a[@class='_1LKTO3']//span\") \n",
    "next_button"
   ]
  },
  {
   "cell_type": "code",
   "execution_count": 134,
   "metadata": {},
   "outputs": [
    {
     "data": {
      "text/plain": [
       "['The Best Phone for the Money\\n\\nThe iPhone 11 offers superb cameras, a more durable design and excellent battery life for an affordable price.\\n\\nCompelling ultra-wide camera\\nNew Night mode is excellent\\nLong battery life',\n",
       " 'Really satisfied with the Product I received... It’s totally genuine and the packaging was also really good so if ur planning to buy just go for it.',\n",
       " 'Great iPhone very snappy experience as apple kind. Upgraded from iPhone 7.\\nPros\\n-Camera top class\\n- Battery top performed\\n-Chipset no need to say as apple kind\\n-Security as you expect from apple\\n- Display super bright industry leading colour\\naccuracy and super responsive\\n-Build quality as expect from apple sturdy\\npremium durable beautiful stylish.\\n-Os most stable os in smartphone industry\\n\\nCons\\n-No 5G\\n-Display is not based on OLED technology\\n-Charger headphones and 1 apple stic...\\nREAD MORE',\n",
       " 'Amazing phone with great cameras and better battery which gives you the best performance. I just love the camera .',\n",
       " 'This is my first iOS phone. I am very happy with this product. Very much satisfied with this. I love this phone.',\n",
       " 'Previously I was using one plus 3t it was a great phone\\nAnd then I decided to upgrade I am stuck between Samsung s10 plus or iPhone 11\\nI have seen the specs and everything were good except the display it’s somewhere between 720-1080 and it’s not even an amoled it’s an LCD display\\nBut I decided to go with iPhone because I have never used an IOS device I have Been an android user from the past 9 years I ordered IPhone 11 (128gb) product red\\nMy experience after using 3 weeks\\n1. The delivery ...\\nREAD MORE',\n",
       " 'Amazing Powerful and Durable Gadget.\\n\\nI’m am very happy with the camera picture quality, Amazing face id unlocked in dark room, Strong battery with perfect screen size as you can carry easily in pocket. This is my third iPhone.\\n\\nI shifted from android Samsung Note series to iPhone because of the strong build quality and peace of mind for next 3-4 years.\\n\\nDon’t think to much just go for it and I suggest you to go for minimum 128gb variant or more 256gb.\\n\\nI’ve attached my puppy pics and no fi...\\nREAD MORE',\n",
       " 'So far it’s been an AMAZING experience coming back to iOS after nearly a decade but it’s not as versatile as android though phone is sturdy dropped it accidentally a couple of times and nothing happened fortunately camera is awesome',\n",
       " 'i11 is worthy to buy, too much happy with the product. Thank u flipkart I received the item on time..loved it..',\n",
       " 'iphone 11 is a very good phone to buy only if you can compromise for the display. The display on this is device is pretty good but you can get other options with better displays in this price segment.\\nIf you can survive with an HD+ LCD panel with thicker bezels and a notch up top then this is a very good phone for you.\\nCameras are awesome, battery backup excellent, great performance and a decent premium look. Good job Apple !',\n",
       " 'The Best Phone for the Money\\n\\nThe iPhone 11 offers superb cameras, a more durable design and excellent battery life for an affordable price.\\n\\nCompelling ultra-wide camera\\nNew Night mode is excellent\\nLong battery life',\n",
       " 'Really satisfied with the Product I received... It’s totally genuine and the packaging was also really good so if ur planning to buy just go for it.',\n",
       " 'Great iPhone very snappy experience as apple kind. Upgraded from iPhone 7.\\nPros\\n-Camera top class\\n- Battery top performed\\n-Chipset no need to say as apple kind\\n-Security as you expect from apple\\n- Display super bright industry leading colour\\naccuracy and super responsive\\n-Build quality as expect from apple sturdy\\npremium durable beautiful stylish.\\n-Os most stable os in smartphone industry\\n\\nCons\\n-No 5G\\n-Display is not based on OLED technology\\n-Charger headphones and 1 apple stic...\\nREAD MORE',\n",
       " 'Amazing phone with great cameras and better battery which gives you the best performance. I just love the camera .',\n",
       " 'This is my first iOS phone. I am very happy with this product. Very much satisfied with this. I love this phone.',\n",
       " 'Previously I was using one plus 3t it was a great phone\\nAnd then I decided to upgrade I am stuck between Samsung s10 plus or iPhone 11\\nI have seen the specs and everything were good except the display it’s somewhere between 720-1080 and it’s not even an amoled it’s an LCD display\\nBut I decided to go with iPhone because I have never used an IOS device I have Been an android user from the past 9 years I ordered IPhone 11 (128gb) product red\\nMy experience after using 3 weeks\\n1. The delivery ...\\nREAD MORE',\n",
       " 'Amazing Powerful and Durable Gadget.\\n\\nI’m am very happy with the camera picture quality, Amazing face id unlocked in dark room, Strong battery with perfect screen size as you can carry easily in pocket. This is my third iPhone.\\n\\nI shifted from android Samsung Note series to iPhone because of the strong build quality and peace of mind for next 3-4 years.\\n\\nDon’t think to much just go for it and I suggest you to go for minimum 128gb variant or more 256gb.\\n\\nI’ve attached my puppy pics and no fi...\\nREAD MORE',\n",
       " 'So far it’s been an AMAZING experience coming back to iOS after nearly a decade but it’s not as versatile as android though phone is sturdy dropped it accidentally a couple of times and nothing happened fortunately camera is awesome',\n",
       " 'i11 is worthy to buy, too much happy with the product. Thank u flipkart I received the item on time..loved it..',\n",
       " 'iphone 11 is a very good phone to buy only if you can compromise for the display. The display on this is device is pretty good but you can get other options with better displays in this price segment.\\nIf you can survive with an HD+ LCD panel with thicker bezels and a notch up top then this is a very good phone for you.\\nCameras are awesome, battery backup excellent, great performance and a decent premium look. Good job Apple !',\n",
       " 'The Best Phone for the Money\\n\\nThe iPhone 11 offers superb cameras, a more durable design and excellent battery life for an affordable price.\\n\\nCompelling ultra-wide camera\\nNew Night mode is excellent\\nLong battery life',\n",
       " 'Really satisfied with the Product I received... It’s totally genuine and the packaging was also really good so if ur planning to buy just go for it.',\n",
       " 'Great iPhone very snappy experience as apple kind. Upgraded from iPhone 7.\\nPros\\n-Camera top class\\n- Battery top performed\\n-Chipset no need to say as apple kind\\n-Security as you expect from apple\\n- Display super bright industry leading colour\\naccuracy and super responsive\\n-Build quality as expect from apple sturdy\\npremium durable beautiful stylish.\\n-Os most stable os in smartphone industry\\n\\nCons\\n-No 5G\\n-Display is not based on OLED technology\\n-Charger headphones and 1 apple stic...\\nREAD MORE',\n",
       " 'Amazing phone with great cameras and better battery which gives you the best performance. I just love the camera .',\n",
       " 'This is my first iOS phone. I am very happy with this product. Very much satisfied with this. I love this phone.',\n",
       " 'Previously I was using one plus 3t it was a great phone\\nAnd then I decided to upgrade I am stuck between Samsung s10 plus or iPhone 11\\nI have seen the specs and everything were good except the display it’s somewhere between 720-1080 and it’s not even an amoled it’s an LCD display\\nBut I decided to go with iPhone because I have never used an IOS device I have Been an android user from the past 9 years I ordered IPhone 11 (128gb) product red\\nMy experience after using 3 weeks\\n1. The delivery ...\\nREAD MORE',\n",
       " 'Amazing Powerful and Durable Gadget.\\n\\nI’m am very happy with the camera picture quality, Amazing face id unlocked in dark room, Strong battery with perfect screen size as you can carry easily in pocket. This is my third iPhone.\\n\\nI shifted from android Samsung Note series to iPhone because of the strong build quality and peace of mind for next 3-4 years.\\n\\nDon’t think to much just go for it and I suggest you to go for minimum 128gb variant or more 256gb.\\n\\nI’ve attached my puppy pics and no fi...\\nREAD MORE',\n",
       " 'So far it’s been an AMAZING experience coming back to iOS after nearly a decade but it’s not as versatile as android though phone is sturdy dropped it accidentally a couple of times and nothing happened fortunately camera is awesome',\n",
       " 'i11 is worthy to buy, too much happy with the product. Thank u flipkart I received the item on time..loved it..',\n",
       " 'iphone 11 is a very good phone to buy only if you can compromise for the display. The display on this is device is pretty good but you can get other options with better displays in this price segment.\\nIf you can survive with an HD+ LCD panel with thicker bezels and a notch up top then this is a very good phone for you.\\nCameras are awesome, battery backup excellent, great performance and a decent premium look. Good job Apple !',\n",
       " 'The Best Phone for the Money\\n\\nThe iPhone 11 offers superb cameras, a more durable design and excellent battery life for an affordable price.\\n\\nCompelling ultra-wide camera\\nNew Night mode is excellent\\nLong battery life',\n",
       " 'Really satisfied with the Product I received... It’s totally genuine and the packaging was also really good so if ur planning to buy just go for it.',\n",
       " 'Great iPhone very snappy experience as apple kind. Upgraded from iPhone 7.\\nPros\\n-Camera top class\\n- Battery top performed\\n-Chipset no need to say as apple kind\\n-Security as you expect from apple\\n- Display super bright industry leading colour\\naccuracy and super responsive\\n-Build quality as expect from apple sturdy\\npremium durable beautiful stylish.\\n-Os most stable os in smartphone industry\\n\\nCons\\n-No 5G\\n-Display is not based on OLED technology\\n-Charger headphones and 1 apple stic...\\nREAD MORE',\n",
       " 'Amazing phone with great cameras and better battery which gives you the best performance. I just love the camera .',\n",
       " 'This is my first iOS phone. I am very happy with this product. Very much satisfied with this. I love this phone.',\n",
       " 'Previously I was using one plus 3t it was a great phone\\nAnd then I decided to upgrade I am stuck between Samsung s10 plus or iPhone 11\\nI have seen the specs and everything were good except the display it’s somewhere between 720-1080 and it’s not even an amoled it’s an LCD display\\nBut I decided to go with iPhone because I have never used an IOS device I have Been an android user from the past 9 years I ordered IPhone 11 (128gb) product red\\nMy experience after using 3 weeks\\n1. The delivery ...\\nREAD MORE',\n",
       " 'Amazing Powerful and Durable Gadget.\\n\\nI’m am very happy with the camera picture quality, Amazing face id unlocked in dark room, Strong battery with perfect screen size as you can carry easily in pocket. This is my third iPhone.\\n\\nI shifted from android Samsung Note series to iPhone because of the strong build quality and peace of mind for next 3-4 years.\\n\\nDon’t think to much just go for it and I suggest you to go for minimum 128gb variant or more 256gb.\\n\\nI’ve attached my puppy pics and no fi...\\nREAD MORE',\n",
       " 'So far it’s been an AMAZING experience coming back to iOS after nearly a decade but it’s not as versatile as android though phone is sturdy dropped it accidentally a couple of times and nothing happened fortunately camera is awesome',\n",
       " 'i11 is worthy to buy, too much happy with the product. Thank u flipkart I received the item on time..loved it..',\n",
       " 'iphone 11 is a very good phone to buy only if you can compromise for the display. The display on this is device is pretty good but you can get other options with better displays in this price segment.\\nIf you can survive with an HD+ LCD panel with thicker bezels and a notch up top then this is a very good phone for you.\\nCameras are awesome, battery backup excellent, great performance and a decent premium look. Good job Apple !',\n",
       " 'The Best Phone for the Money\\n\\nThe iPhone 11 offers superb cameras, a more durable design and excellent battery life for an affordable price.\\n\\nCompelling ultra-wide camera\\nNew Night mode is excellent\\nLong battery life',\n",
       " 'Really satisfied with the Product I received... It’s totally genuine and the packaging was also really good so if ur planning to buy just go for it.',\n",
       " 'Great iPhone very snappy experience as apple kind. Upgraded from iPhone 7.\\nPros\\n-Camera top class\\n- Battery top performed\\n-Chipset no need to say as apple kind\\n-Security as you expect from apple\\n- Display super bright industry leading colour\\naccuracy and super responsive\\n-Build quality as expect from apple sturdy\\npremium durable beautiful stylish.\\n-Os most stable os in smartphone industry\\n\\nCons\\n-No 5G\\n-Display is not based on OLED technology\\n-Charger headphones and 1 apple stic...\\nREAD MORE',\n",
       " 'Amazing phone with great cameras and better battery which gives you the best performance. I just love the camera .',\n",
       " 'This is my first iOS phone. I am very happy with this product. Very much satisfied with this. I love this phone.',\n",
       " 'Previously I was using one plus 3t it was a great phone\\nAnd then I decided to upgrade I am stuck between Samsung s10 plus or iPhone 11\\nI have seen the specs and everything were good except the display it’s somewhere between 720-1080 and it’s not even an amoled it’s an LCD display\\nBut I decided to go with iPhone because I have never used an IOS device I have Been an android user from the past 9 years I ordered IPhone 11 (128gb) product red\\nMy experience after using 3 weeks\\n1. The delivery ...\\nREAD MORE',\n",
       " 'Amazing Powerful and Durable Gadget.\\n\\nI’m am very happy with the camera picture quality, Amazing face id unlocked in dark room, Strong battery with perfect screen size as you can carry easily in pocket. This is my third iPhone.\\n\\nI shifted from android Samsung Note series to iPhone because of the strong build quality and peace of mind for next 3-4 years.\\n\\nDon’t think to much just go for it and I suggest you to go for minimum 128gb variant or more 256gb.\\n\\nI’ve attached my puppy pics and no fi...\\nREAD MORE',\n",
       " 'So far it’s been an AMAZING experience coming back to iOS after nearly a decade but it’s not as versatile as android though phone is sturdy dropped it accidentally a couple of times and nothing happened fortunately camera is awesome',\n",
       " 'i11 is worthy to buy, too much happy with the product. Thank u flipkart I received the item on time..loved it..',\n",
       " 'iphone 11 is a very good phone to buy only if you can compromise for the display. The display on this is device is pretty good but you can get other options with better displays in this price segment.\\nIf you can survive with an HD+ LCD panel with thicker bezels and a notch up top then this is a very good phone for you.\\nCameras are awesome, battery backup excellent, great performance and a decent premium look. Good job Apple !',\n",
       " 'The Best Phone for the Money\\n\\nThe iPhone 11 offers superb cameras, a more durable design and excellent battery life for an affordable price.\\n\\nCompelling ultra-wide camera\\nNew Night mode is excellent\\nLong battery life',\n",
       " 'Really satisfied with the Product I received... It’s totally genuine and the packaging was also really good so if ur planning to buy just go for it.',\n",
       " 'Great iPhone very snappy experience as apple kind. Upgraded from iPhone 7.\\nPros\\n-Camera top class\\n- Battery top performed\\n-Chipset no need to say as apple kind\\n-Security as you expect from apple\\n- Display super bright industry leading colour\\naccuracy and super responsive\\n-Build quality as expect from apple sturdy\\npremium durable beautiful stylish.\\n-Os most stable os in smartphone industry\\n\\nCons\\n-No 5G\\n-Display is not based on OLED technology\\n-Charger headphones and 1 apple stic...\\nREAD MORE',\n",
       " 'Amazing phone with great cameras and better battery which gives you the best performance. I just love the camera .',\n",
       " 'This is my first iOS phone. I am very happy with this product. Very much satisfied with this. I love this phone.',\n",
       " 'Previously I was using one plus 3t it was a great phone\\nAnd then I decided to upgrade I am stuck between Samsung s10 plus or iPhone 11\\nI have seen the specs and everything were good except the display it’s somewhere between 720-1080 and it’s not even an amoled it’s an LCD display\\nBut I decided to go with iPhone because I have never used an IOS device I have Been an android user from the past 9 years I ordered IPhone 11 (128gb) product red\\nMy experience after using 3 weeks\\n1. The delivery ...\\nREAD MORE',\n",
       " 'Amazing Powerful and Durable Gadget.\\n\\nI’m am very happy with the camera picture quality, Amazing face id unlocked in dark room, Strong battery with perfect screen size as you can carry easily in pocket. This is my third iPhone.\\n\\nI shifted from android Samsung Note series to iPhone because of the strong build quality and peace of mind for next 3-4 years.\\n\\nDon’t think to much just go for it and I suggest you to go for minimum 128gb variant or more 256gb.\\n\\nI’ve attached my puppy pics and no fi...\\nREAD MORE',\n",
       " 'So far it’s been an AMAZING experience coming back to iOS after nearly a decade but it’s not as versatile as android though phone is sturdy dropped it accidentally a couple of times and nothing happened fortunately camera is awesome',\n",
       " 'i11 is worthy to buy, too much happy with the product. Thank u flipkart I received the item on time..loved it..',\n",
       " 'iphone 11 is a very good phone to buy only if you can compromise for the display. The display on this is device is pretty good but you can get other options with better displays in this price segment.\\nIf you can survive with an HD+ LCD panel with thicker bezels and a notch up top then this is a very good phone for you.\\nCameras are awesome, battery backup excellent, great performance and a decent premium look. Good job Apple !',\n",
       " 'The Best Phone for the Money\\n\\nThe iPhone 11 offers superb cameras, a more durable design and excellent battery life for an affordable price.\\n\\nCompelling ultra-wide camera\\nNew Night mode is excellent\\nLong battery life',\n",
       " 'Really satisfied with the Product I received... It’s totally genuine and the packaging was also really good so if ur planning to buy just go for it.',\n",
       " 'Great iPhone very snappy experience as apple kind. Upgraded from iPhone 7.\\nPros\\n-Camera top class\\n- Battery top performed\\n-Chipset no need to say as apple kind\\n-Security as you expect from apple\\n- Display super bright industry leading colour\\naccuracy and super responsive\\n-Build quality as expect from apple sturdy\\npremium durable beautiful stylish.\\n-Os most stable os in smartphone industry\\n\\nCons\\n-No 5G\\n-Display is not based on OLED technology\\n-Charger headphones and 1 apple stic...\\nREAD MORE',\n",
       " 'Amazing phone with great cameras and better battery which gives you the best performance. I just love the camera .',\n",
       " 'This is my first iOS phone. I am very happy with this product. Very much satisfied with this. I love this phone.',\n",
       " 'Previously I was using one plus 3t it was a great phone\\nAnd then I decided to upgrade I am stuck between Samsung s10 plus or iPhone 11\\nI have seen the specs and everything were good except the display it’s somewhere between 720-1080 and it’s not even an amoled it’s an LCD display\\nBut I decided to go with iPhone because I have never used an IOS device I have Been an android user from the past 9 years I ordered IPhone 11 (128gb) product red\\nMy experience after using 3 weeks\\n1. The delivery ...\\nREAD MORE',\n",
       " 'Amazing Powerful and Durable Gadget.\\n\\nI’m am very happy with the camera picture quality, Amazing face id unlocked in dark room, Strong battery with perfect screen size as you can carry easily in pocket. This is my third iPhone.\\n\\nI shifted from android Samsung Note series to iPhone because of the strong build quality and peace of mind for next 3-4 years.\\n\\nDon’t think to much just go for it and I suggest you to go for minimum 128gb variant or more 256gb.\\n\\nI’ve attached my puppy pics and no fi...\\nREAD MORE',\n",
       " 'So far it’s been an AMAZING experience coming back to iOS after nearly a decade but it’s not as versatile as android though phone is sturdy dropped it accidentally a couple of times and nothing happened fortunately camera is awesome',\n",
       " 'i11 is worthy to buy, too much happy with the product. Thank u flipkart I received the item on time..loved it..',\n",
       " 'iphone 11 is a very good phone to buy only if you can compromise for the display. The display on this is device is pretty good but you can get other options with better displays in this price segment.\\nIf you can survive with an HD+ LCD panel with thicker bezels and a notch up top then this is a very good phone for you.\\nCameras are awesome, battery backup excellent, great performance and a decent premium look. Good job Apple !',\n",
       " 'The Best Phone for the Money\\n\\nThe iPhone 11 offers superb cameras, a more durable design and excellent battery life for an affordable price.\\n\\nCompelling ultra-wide camera\\nNew Night mode is excellent\\nLong battery life',\n",
       " 'Really satisfied with the Product I received... It’s totally genuine and the packaging was also really good so if ur planning to buy just go for it.',\n",
       " 'Great iPhone very snappy experience as apple kind. Upgraded from iPhone 7.\\nPros\\n-Camera top class\\n- Battery top performed\\n-Chipset no need to say as apple kind\\n-Security as you expect from apple\\n- Display super bright industry leading colour\\naccuracy and super responsive\\n-Build quality as expect from apple sturdy\\npremium durable beautiful stylish.\\n-Os most stable os in smartphone industry\\n\\nCons\\n-No 5G\\n-Display is not based on OLED technology\\n-Charger headphones and 1 apple stic...\\nREAD MORE',\n",
       " 'Amazing phone with great cameras and better battery which gives you the best performance. I just love the camera .',\n",
       " 'This is my first iOS phone. I am very happy with this product. Very much satisfied with this. I love this phone.',\n",
       " 'Previously I was using one plus 3t it was a great phone\\nAnd then I decided to upgrade I am stuck between Samsung s10 plus or iPhone 11\\nI have seen the specs and everything were good except the display it’s somewhere between 720-1080 and it’s not even an amoled it’s an LCD display\\nBut I decided to go with iPhone because I have never used an IOS device I have Been an android user from the past 9 years I ordered IPhone 11 (128gb) product red\\nMy experience after using 3 weeks\\n1. The delivery ...\\nREAD MORE',\n",
       " 'Amazing Powerful and Durable Gadget.\\n\\nI’m am very happy with the camera picture quality, Amazing face id unlocked in dark room, Strong battery with perfect screen size as you can carry easily in pocket. This is my third iPhone.\\n\\nI shifted from android Samsung Note series to iPhone because of the strong build quality and peace of mind for next 3-4 years.\\n\\nDon’t think to much just go for it and I suggest you to go for minimum 128gb variant or more 256gb.\\n\\nI’ve attached my puppy pics and no fi...\\nREAD MORE',\n",
       " 'So far it’s been an AMAZING experience coming back to iOS after nearly a decade but it’s not as versatile as android though phone is sturdy dropped it accidentally a couple of times and nothing happened fortunately camera is awesome',\n",
       " 'i11 is worthy to buy, too much happy with the product. Thank u flipkart I received the item on time..loved it..',\n",
       " 'iphone 11 is a very good phone to buy only if you can compromise for the display. The display on this is device is pretty good but you can get other options with better displays in this price segment.\\nIf you can survive with an HD+ LCD panel with thicker bezels and a notch up top then this is a very good phone for you.\\nCameras are awesome, battery backup excellent, great performance and a decent premium look. Good job Apple !',\n",
       " 'The Best Phone for the Money\\n\\nThe iPhone 11 offers superb cameras, a more durable design and excellent battery life for an affordable price.\\n\\nCompelling ultra-wide camera\\nNew Night mode is excellent\\nLong battery life',\n",
       " 'Really satisfied with the Product I received... It’s totally genuine and the packaging was also really good so if ur planning to buy just go for it.',\n",
       " 'Great iPhone very snappy experience as apple kind. Upgraded from iPhone 7.\\nPros\\n-Camera top class\\n- Battery top performed\\n-Chipset no need to say as apple kind\\n-Security as you expect from apple\\n- Display super bright industry leading colour\\naccuracy and super responsive\\n-Build quality as expect from apple sturdy\\npremium durable beautiful stylish.\\n-Os most stable os in smartphone industry\\n\\nCons\\n-No 5G\\n-Display is not based on OLED technology\\n-Charger headphones and 1 apple stic...\\nREAD MORE',\n",
       " 'Amazing phone with great cameras and better battery which gives you the best performance. I just love the camera .',\n",
       " 'This is my first iOS phone. I am very happy with this product. Very much satisfied with this. I love this phone.',\n",
       " 'Previously I was using one plus 3t it was a great phone\\nAnd then I decided to upgrade I am stuck between Samsung s10 plus or iPhone 11\\nI have seen the specs and everything were good except the display it’s somewhere between 720-1080 and it’s not even an amoled it’s an LCD display\\nBut I decided to go with iPhone because I have never used an IOS device I have Been an android user from the past 9 years I ordered IPhone 11 (128gb) product red\\nMy experience after using 3 weeks\\n1. The delivery ...\\nREAD MORE',\n",
       " 'Amazing Powerful and Durable Gadget.\\n\\nI’m am very happy with the camera picture quality, Amazing face id unlocked in dark room, Strong battery with perfect screen size as you can carry easily in pocket. This is my third iPhone.\\n\\nI shifted from android Samsung Note series to iPhone because of the strong build quality and peace of mind for next 3-4 years.\\n\\nDon’t think to much just go for it and I suggest you to go for minimum 128gb variant or more 256gb.\\n\\nI’ve attached my puppy pics and no fi...\\nREAD MORE',\n",
       " 'So far it’s been an AMAZING experience coming back to iOS after nearly a decade but it’s not as versatile as android though phone is sturdy dropped it accidentally a couple of times and nothing happened fortunately camera is awesome',\n",
       " 'i11 is worthy to buy, too much happy with the product. Thank u flipkart I received the item on time..loved it..',\n",
       " 'iphone 11 is a very good phone to buy only if you can compromise for the display. The display on this is device is pretty good but you can get other options with better displays in this price segment.\\nIf you can survive with an HD+ LCD panel with thicker bezels and a notch up top then this is a very good phone for you.\\nCameras are awesome, battery backup excellent, great performance and a decent premium look. Good job Apple !',\n",
       " 'The Best Phone for the Money\\n\\nThe iPhone 11 offers superb cameras, a more durable design and excellent battery life for an affordable price.\\n\\nCompelling ultra-wide camera\\nNew Night mode is excellent\\nLong battery life',\n",
       " 'Really satisfied with the Product I received... It’s totally genuine and the packaging was also really good so if ur planning to buy just go for it.',\n",
       " 'Great iPhone very snappy experience as apple kind. Upgraded from iPhone 7.\\nPros\\n-Camera top class\\n- Battery top performed\\n-Chipset no need to say as apple kind\\n-Security as you expect from apple\\n- Display super bright industry leading colour\\naccuracy and super responsive\\n-Build quality as expect from apple sturdy\\npremium durable beautiful stylish.\\n-Os most stable os in smartphone industry\\n\\nCons\\n-No 5G\\n-Display is not based on OLED technology\\n-Charger headphones and 1 apple stic...\\nREAD MORE',\n",
       " 'Amazing phone with great cameras and better battery which gives you the best performance. I just love the camera .',\n",
       " 'This is my first iOS phone. I am very happy with this product. Very much satisfied with this. I love this phone.',\n",
       " 'Previously I was using one plus 3t it was a great phone\\nAnd then I decided to upgrade I am stuck between Samsung s10 plus or iPhone 11\\nI have seen the specs and everything were good except the display it’s somewhere between 720-1080 and it’s not even an amoled it’s an LCD display\\nBut I decided to go with iPhone because I have never used an IOS device I have Been an android user from the past 9 years I ordered IPhone 11 (128gb) product red\\nMy experience after using 3 weeks\\n1. The delivery ...\\nREAD MORE',\n",
       " 'Amazing Powerful and Durable Gadget.\\n\\nI’m am very happy with the camera picture quality, Amazing face id unlocked in dark room, Strong battery with perfect screen size as you can carry easily in pocket. This is my third iPhone.\\n\\nI shifted from android Samsung Note series to iPhone because of the strong build quality and peace of mind for next 3-4 years.\\n\\nDon’t think to much just go for it and I suggest you to go for minimum 128gb variant or more 256gb.\\n\\nI’ve attached my puppy pics and no fi...\\nREAD MORE',\n",
       " 'So far it’s been an AMAZING experience coming back to iOS after nearly a decade but it’s not as versatile as android though phone is sturdy dropped it accidentally a couple of times and nothing happened fortunately camera is awesome',\n",
       " 'i11 is worthy to buy, too much happy with the product. Thank u flipkart I received the item on time..loved it..',\n",
       " 'iphone 11 is a very good phone to buy only if you can compromise for the display. The display on this is device is pretty good but you can get other options with better displays in this price segment.\\nIf you can survive with an HD+ LCD panel with thicker bezels and a notch up top then this is a very good phone for you.\\nCameras are awesome, battery backup excellent, great performance and a decent premium look. Good job Apple !',\n",
       " 'The Best Phone for the Money\\n\\nThe iPhone 11 offers superb cameras, a more durable design and excellent battery life for an affordable price.\\n\\nCompelling ultra-wide camera\\nNew Night mode is excellent\\nLong battery life',\n",
       " 'Really satisfied with the Product I received... It’s totally genuine and the packaging was also really good so if ur planning to buy just go for it.',\n",
       " 'Great iPhone very snappy experience as apple kind. Upgraded from iPhone 7.\\nPros\\n-Camera top class\\n- Battery top performed\\n-Chipset no need to say as apple kind\\n-Security as you expect from apple\\n- Display super bright industry leading colour\\naccuracy and super responsive\\n-Build quality as expect from apple sturdy\\npremium durable beautiful stylish.\\n-Os most stable os in smartphone industry\\n\\nCons\\n-No 5G\\n-Display is not based on OLED technology\\n-Charger headphones and 1 apple stic...\\nREAD MORE',\n",
       " 'Amazing phone with great cameras and better battery which gives you the best performance. I just love the camera .',\n",
       " 'This is my first iOS phone. I am very happy with this product. Very much satisfied with this. I love this phone.',\n",
       " 'Previously I was using one plus 3t it was a great phone\\nAnd then I decided to upgrade I am stuck between Samsung s10 plus or iPhone 11\\nI have seen the specs and everything were good except the display it’s somewhere between 720-1080 and it’s not even an amoled it’s an LCD display\\nBut I decided to go with iPhone because I have never used an IOS device I have Been an android user from the past 9 years I ordered IPhone 11 (128gb) product red\\nMy experience after using 3 weeks\\n1. The delivery ...\\nREAD MORE',\n",
       " 'Amazing Powerful and Durable Gadget.\\n\\nI’m am very happy with the camera picture quality, Amazing face id unlocked in dark room, Strong battery with perfect screen size as you can carry easily in pocket. This is my third iPhone.\\n\\nI shifted from android Samsung Note series to iPhone because of the strong build quality and peace of mind for next 3-4 years.\\n\\nDon’t think to much just go for it and I suggest you to go for minimum 128gb variant or more 256gb.\\n\\nI’ve attached my puppy pics and no fi...\\nREAD MORE',\n",
       " 'So far it’s been an AMAZING experience coming back to iOS after nearly a decade but it’s not as versatile as android though phone is sturdy dropped it accidentally a couple of times and nothing happened fortunately camera is awesome',\n",
       " 'i11 is worthy to buy, too much happy with the product. Thank u flipkart I received the item on time..loved it..',\n",
       " 'iphone 11 is a very good phone to buy only if you can compromise for the display. The display on this is device is pretty good but you can get other options with better displays in this price segment.\\nIf you can survive with an HD+ LCD panel with thicker bezels and a notch up top then this is a very good phone for you.\\nCameras are awesome, battery backup excellent, great performance and a decent premium look. Good job Apple !']"
      ]
     },
     "execution_count": 134,
     "metadata": {},
     "output_type": "execute_result"
    }
   ],
   "source": [
    "full_review"
   ]
  },
  {
   "cell_type": "code",
   "execution_count": 135,
   "metadata": {},
   "outputs": [
    {
     "name": "stdout",
     "output_type": "stream",
     "text": [
      "110 110 110\n"
     ]
    }
   ],
   "source": [
    "print(len(ratings),len(review_summary),len(full_review))"
   ]
  },
  {
   "cell_type": "code",
   "execution_count": 136,
   "metadata": {},
   "outputs": [],
   "source": [
    "iphone=pd.DataFrame({})\n",
    "iphone['Ratings']=ratings[:100]\n",
    "iphone['Review Summary']=review_summary[:100]\n",
    "iphone['Full Review']=full_review[:100]"
   ]
  },
  {
   "cell_type": "code",
   "execution_count": 137,
   "metadata": {},
   "outputs": [
    {
     "data": {
      "text/html": [
       "<div>\n",
       "<style scoped>\n",
       "    .dataframe tbody tr th:only-of-type {\n",
       "        vertical-align: middle;\n",
       "    }\n",
       "\n",
       "    .dataframe tbody tr th {\n",
       "        vertical-align: top;\n",
       "    }\n",
       "\n",
       "    .dataframe thead th {\n",
       "        text-align: right;\n",
       "    }\n",
       "</style>\n",
       "<table border=\"1\" class=\"dataframe\">\n",
       "  <thead>\n",
       "    <tr style=\"text-align: right;\">\n",
       "      <th></th>\n",
       "      <th>Ratings</th>\n",
       "      <th>Review Summary</th>\n",
       "      <th>Full Review</th>\n",
       "    </tr>\n",
       "  </thead>\n",
       "  <tbody>\n",
       "    <tr>\n",
       "      <th>0</th>\n",
       "      <td>5</td>\n",
       "      <td>Brilliant</td>\n",
       "      <td>The Best Phone for the Money\\n\\nThe iPhone 11 ...</td>\n",
       "    </tr>\n",
       "    <tr>\n",
       "      <th>1</th>\n",
       "      <td>5</td>\n",
       "      <td>Simply awesome</td>\n",
       "      <td>Really satisfied with the Product I received.....</td>\n",
       "    </tr>\n",
       "    <tr>\n",
       "      <th>2</th>\n",
       "      <td>5</td>\n",
       "      <td>Best in the market!</td>\n",
       "      <td>Great iPhone very snappy experience as apple k...</td>\n",
       "    </tr>\n",
       "    <tr>\n",
       "      <th>3</th>\n",
       "      <td>5</td>\n",
       "      <td>Perfect product!</td>\n",
       "      <td>Amazing phone with great cameras and better ba...</td>\n",
       "    </tr>\n",
       "    <tr>\n",
       "      <th>4</th>\n",
       "      <td>5</td>\n",
       "      <td>Fabulous!</td>\n",
       "      <td>This is my first iOS phone. I am very happy wi...</td>\n",
       "    </tr>\n",
       "    <tr>\n",
       "      <th>...</th>\n",
       "      <td>...</td>\n",
       "      <td>...</td>\n",
       "      <td>...</td>\n",
       "    </tr>\n",
       "    <tr>\n",
       "      <th>95</th>\n",
       "      <td>5</td>\n",
       "      <td>Worth every penny</td>\n",
       "      <td>Previously I was using one plus 3t it was a gr...</td>\n",
       "    </tr>\n",
       "    <tr>\n",
       "      <th>96</th>\n",
       "      <td>5</td>\n",
       "      <td>Great product</td>\n",
       "      <td>Amazing Powerful and Durable Gadget.\\n\\nI’m am...</td>\n",
       "    </tr>\n",
       "    <tr>\n",
       "      <th>97</th>\n",
       "      <td>4</td>\n",
       "      <td>Good choice</td>\n",
       "      <td>So far it’s been an AMAZING experience coming ...</td>\n",
       "    </tr>\n",
       "    <tr>\n",
       "      <th>98</th>\n",
       "      <td>5</td>\n",
       "      <td>Worth every penny</td>\n",
       "      <td>i11 is worthy to buy, too much happy with the ...</td>\n",
       "    </tr>\n",
       "    <tr>\n",
       "      <th>99</th>\n",
       "      <td>5</td>\n",
       "      <td>Highly recommended</td>\n",
       "      <td>iphone 11 is a very good phone to buy only if ...</td>\n",
       "    </tr>\n",
       "  </tbody>\n",
       "</table>\n",
       "<p>100 rows × 3 columns</p>\n",
       "</div>"
      ],
      "text/plain": [
       "   Ratings       Review Summary  \\\n",
       "0        5            Brilliant   \n",
       "1        5       Simply awesome   \n",
       "2        5  Best in the market!   \n",
       "3        5     Perfect product!   \n",
       "4        5            Fabulous!   \n",
       "..     ...                  ...   \n",
       "95       5    Worth every penny   \n",
       "96       5        Great product   \n",
       "97       4          Good choice   \n",
       "98       5    Worth every penny   \n",
       "99       5   Highly recommended   \n",
       "\n",
       "                                          Full Review  \n",
       "0   The Best Phone for the Money\\n\\nThe iPhone 11 ...  \n",
       "1   Really satisfied with the Product I received.....  \n",
       "2   Great iPhone very snappy experience as apple k...  \n",
       "3   Amazing phone with great cameras and better ba...  \n",
       "4   This is my first iOS phone. I am very happy wi...  \n",
       "..                                                ...  \n",
       "95  Previously I was using one plus 3t it was a gr...  \n",
       "96  Amazing Powerful and Durable Gadget.\\n\\nI’m am...  \n",
       "97  So far it’s been an AMAZING experience coming ...  \n",
       "98  i11 is worthy to buy, too much happy with the ...  \n",
       "99  iphone 11 is a very good phone to buy only if ...  \n",
       "\n",
       "[100 rows x 3 columns]"
      ]
     },
     "execution_count": 137,
     "metadata": {},
     "output_type": "execute_result"
    }
   ],
   "source": [
    "iphone"
   ]
  },
  {
   "cell_type": "code",
   "execution_count": null,
   "metadata": {},
   "outputs": [],
   "source": []
  },
  {
   "cell_type": "raw",
   "metadata": {},
   "source": [
    "Q8: Scrape data for first 100 sneakers you find when you visit flipkart.com and\n",
    "search for “sneakers” in the search field.\n",
    "You have to scrape 4 attributes of each sneaker :\n",
    "1. Brand\n",
    "2. Product Description\n",
    "3. Price\n",
    "4. discount %\n",
    "As shown in the below image, you have to scrape the tick marked attributes.Also note that all the steps required during scraping should be done through code\n",
    "only and not manually."
   ]
  },
  {
   "cell_type": "code",
   "execution_count": 190,
   "metadata": {},
   "outputs": [],
   "source": [
    " driver = webdriver.Chrome(\"chromedriver.exe\")"
   ]
  },
  {
   "cell_type": "code",
   "execution_count": 191,
   "metadata": {},
   "outputs": [],
   "source": [
    "url=\"https://flipkart.com\"\n",
    "driver.get(url)"
   ]
  },
  {
   "cell_type": "code",
   "execution_count": 192,
   "metadata": {},
   "outputs": [
    {
     "data": {
      "text/plain": [
       "<selenium.webdriver.remote.webelement.WebElement (session=\"c34112661d31f205be83272a8351a6c8\", element=\"511607dc-4e0d-4fa3-bd5a-a817ac04ef2f\")>"
      ]
     },
     "execution_count": 192,
     "metadata": {},
     "output_type": "execute_result"
    }
   ],
   "source": [
    "search_item=driver.find_element_by_xpath(\"//input[@class='_3704LK']\")\n",
    "search_item"
   ]
  },
  {
   "cell_type": "code",
   "execution_count": 193,
   "metadata": {},
   "outputs": [],
   "source": [
    "search_item.send_keys(\"sneakers\")"
   ]
  },
  {
   "cell_type": "code",
   "execution_count": 195,
   "metadata": {},
   "outputs": [],
   "source": [
    "search_btn=driver.find_element_by_xpath(\"//button[@class='L0Z3Pu']\")\n",
    "search_btn.click()"
   ]
  },
  {
   "cell_type": "code",
   "execution_count": 196,
   "metadata": {},
   "outputs": [],
   "source": [
    "brands=[]\n",
    "product_description=[]\n",
    "price=[]\n",
    "discount=[]"
   ]
  },
  {
   "cell_type": "code",
   "execution_count": 197,
   "metadata": {},
   "outputs": [
    {
     "data": {
      "text/plain": [
       "<selenium.webdriver.remote.webelement.WebElement (session=\"c34112661d31f205be83272a8351a6c8\", element=\"b9f74284-49c3-4238-a924-9a24675ebf9f\")>"
      ]
     },
     "execution_count": 197,
     "metadata": {},
     "output_type": "execute_result"
    }
   ],
   "source": [
    "for i in range(1,4):\n",
    "    brand_tags = driver.find_elements_by_xpath(\"//div[@class='_2WkVRV']\")\n",
    "    for i in brand_tags:\n",
    "        brands.append(i.text)\n",
    "    brands  \n",
    "next_button=driver.find_element_by_xpath(\"//a[@class='_1LKTO3']//span\") \n",
    "next_button"
   ]
  },
  {
   "cell_type": "code",
   "execution_count": 198,
   "metadata": {},
   "outputs": [
    {
     "data": {
      "text/plain": [
       "['luxury fashion',\n",
       " 'luxury fashion',\n",
       " 'Chevit',\n",
       " 'Longwalk',\n",
       " 'luxury fashion',\n",
       " 'BRUTON',\n",
       " 'ASTEROID',\n",
       " 'India hub',\n",
       " 'Chevit',\n",
       " 'Creer',\n",
       " 'PEHANOSA',\n",
       " 'India hub',\n",
       " 'SCATCHITE',\n",
       " 'BIRDE',\n",
       " 'Numenzo',\n",
       " 'HOTSTYLE',\n",
       " 'VIPSJAZZY',\n",
       " 'Numenzo',\n",
       " 'Shoes Bank',\n",
       " 'Robbie jones',\n",
       " 'World Wear Footwear',\n",
       " 'ASTEROID',\n",
       " 'Numenzo',\n",
       " 'India hub',\n",
       " 'Magnolia',\n",
       " 'RODDICK SHOES',\n",
       " 'Absolute comfort',\n",
       " 'Robbie jones',\n",
       " 'Kreverse',\n",
       " 'believe',\n",
       " 'Arohi',\n",
       " 'Echor',\n",
       " 'D-SNEAKERZ',\n",
       " 'SPARX',\n",
       " 'restinfoot',\n",
       " 'SORT',\n",
       " 'Robbie jones',\n",
       " 'WRIZT',\n",
       " 'Airland',\n",
       " 'PUMA',\n",
       " 'luxury fashion',\n",
       " 'luxury fashion',\n",
       " 'Chevit',\n",
       " 'Longwalk',\n",
       " 'luxury fashion',\n",
       " 'BRUTON',\n",
       " 'ASTEROID',\n",
       " 'India hub',\n",
       " 'Chevit',\n",
       " 'Creer',\n",
       " 'PEHANOSA',\n",
       " 'India hub',\n",
       " 'SCATCHITE',\n",
       " 'BIRDE',\n",
       " 'Numenzo',\n",
       " 'HOTSTYLE',\n",
       " 'VIPSJAZZY',\n",
       " 'Numenzo',\n",
       " 'Shoes Bank',\n",
       " 'Robbie jones',\n",
       " 'World Wear Footwear',\n",
       " 'ASTEROID',\n",
       " 'Numenzo',\n",
       " 'India hub',\n",
       " 'Magnolia',\n",
       " 'RODDICK SHOES',\n",
       " 'Absolute comfort',\n",
       " 'Robbie jones',\n",
       " 'Kreverse',\n",
       " 'believe',\n",
       " 'Arohi',\n",
       " 'Echor',\n",
       " 'D-SNEAKERZ',\n",
       " 'SPARX',\n",
       " 'restinfoot',\n",
       " 'SORT',\n",
       " 'Robbie jones',\n",
       " 'WRIZT',\n",
       " 'Airland',\n",
       " 'PUMA',\n",
       " 'luxury fashion',\n",
       " 'luxury fashion',\n",
       " 'Chevit',\n",
       " 'Longwalk',\n",
       " 'luxury fashion',\n",
       " 'BRUTON',\n",
       " 'ASTEROID',\n",
       " 'India hub',\n",
       " 'Chevit',\n",
       " 'Creer',\n",
       " 'PEHANOSA',\n",
       " 'India hub',\n",
       " 'SCATCHITE',\n",
       " 'BIRDE',\n",
       " 'Numenzo',\n",
       " 'HOTSTYLE',\n",
       " 'VIPSJAZZY',\n",
       " 'Numenzo',\n",
       " 'Shoes Bank',\n",
       " 'Robbie jones',\n",
       " 'World Wear Footwear',\n",
       " 'ASTEROID',\n",
       " 'Numenzo',\n",
       " 'India hub',\n",
       " 'Magnolia',\n",
       " 'RODDICK SHOES',\n",
       " 'Absolute comfort',\n",
       " 'Robbie jones',\n",
       " 'Kreverse',\n",
       " 'believe',\n",
       " 'Arohi',\n",
       " 'Echor',\n",
       " 'D-SNEAKERZ',\n",
       " 'SPARX',\n",
       " 'restinfoot',\n",
       " 'SORT',\n",
       " 'Robbie jones',\n",
       " 'WRIZT',\n",
       " 'Airland',\n",
       " 'PUMA']"
      ]
     },
     "execution_count": 198,
     "metadata": {},
     "output_type": "execute_result"
    }
   ],
   "source": [
    "brands"
   ]
  },
  {
   "cell_type": "code",
   "execution_count": 199,
   "metadata": {},
   "outputs": [
    {
     "data": {
      "text/plain": [
       "<selenium.webdriver.remote.webelement.WebElement (session=\"c34112661d31f205be83272a8351a6c8\", element=\"b9f74284-49c3-4238-a924-9a24675ebf9f\")>"
      ]
     },
     "execution_count": 199,
     "metadata": {},
     "output_type": "execute_result"
    }
   ],
   "source": [
    "for i in range(1,4):\n",
    "    desc = driver.find_elements_by_xpath(\"//a[@class='IRpwTa']\")\n",
    "    for i in desc:\n",
    "        product_description.append(i.text)\n",
    "    product_description  \n",
    "next_button=driver.find_element_by_xpath(\"//a[@class='_1LKTO3']//span\") \n",
    "next_button"
   ]
  },
  {
   "cell_type": "code",
   "execution_count": 200,
   "metadata": {},
   "outputs": [
    {
     "data": {
      "text/plain": [
       "['luxury fashionable casual shoes Sneakers For Men',\n",
       " 'Luxury Fashionable casual sneaker shoes Sneakers For Me...',\n",
       " 'Super Stylish & Trendy Combo Pack of 02 Pairs Sneakers ...',\n",
       " 'Men Boxer Sneakers For Men',\n",
       " 'Luxury Fashionable casual sneaker shoes Sneakers For Me...',\n",
       " 'Combo Pack Of 4 Casual Shoes Loafer Shoes Sneakers For ...',\n",
       " \"Original Luxury Branded Fashionable Men's Casual Walkin...\",\n",
       " 'Perfect & Affordable Combo Pack of 02 Pairs Sneakers Ou...',\n",
       " 'Sneakers For Men',\n",
       " 'Sneakers For Men',\n",
       " 'Sneakers Sneakers For Men',\n",
       " 'Birde Trendy Casual Shoes Sneakers For Men',\n",
       " 'Sneakers For Men',\n",
       " 'CR-1 Sneakers For Men',\n",
       " 'Sneakers For Men',\n",
       " \"White Sneaker For Men's/Boy's Sneakers For Men\",\n",
       " 'Sneakers For Men',\n",
       " '5011-Latest Collection Stylish Casual Loafer Sneakers S...',\n",
       " \"Original Luxury Branded Fashionable Men's Casual Walkin...\",\n",
       " 'Sneakers For Men',\n",
       " 'Sneakers For Men',\n",
       " 'Sneakers For Men',\n",
       " 'Fashion Outdoor Canvas Casual Light Weight Lace-up Even...',\n",
       " 'Casual Sneakers Green Shoes For Men And Boys Sneakers F...',\n",
       " 'Sneakers For Men',\n",
       " 'Sneakers for men(black_6) Sneakers For Men',\n",
       " 'Sneakers For Men',\n",
       " 'STI-1 casual shoes for men | Latest & Trending Fashion ...',\n",
       " \"Casual , Partywear Sneakers Shoes For Men's And Boys Wh...\",\n",
       " \"Casual shoes,Sneakers for men's,shoes for men's Sneaker...\",\n",
       " 'Unisex Comfortable Casual Daily Wear Sneakers For Men',\n",
       " 'Casual Sneakers Shoes For Men Sneakers For Men',\n",
       " 'shoe Sneakers For Men',\n",
       " 'X-Ray Sneakers For Men',\n",
       " 'luxury fashionable casual shoes Sneakers For Men',\n",
       " 'Luxury Fashionable casual sneaker shoes Sneakers For Me...',\n",
       " 'Super Stylish & Trendy Combo Pack of 02 Pairs Sneakers ...',\n",
       " 'Men Boxer Sneakers For Men',\n",
       " 'Luxury Fashionable casual sneaker shoes Sneakers For Me...',\n",
       " 'Combo Pack Of 4 Casual Shoes Loafer Shoes Sneakers For ...',\n",
       " \"Original Luxury Branded Fashionable Men's Casual Walkin...\",\n",
       " 'Perfect & Affordable Combo Pack of 02 Pairs Sneakers Ou...',\n",
       " 'Sneakers For Men',\n",
       " 'Sneakers For Men',\n",
       " 'Sneakers Sneakers For Men',\n",
       " 'Birde Trendy Casual Shoes Sneakers For Men',\n",
       " 'Sneakers For Men',\n",
       " 'CR-1 Sneakers For Men',\n",
       " 'Sneakers For Men',\n",
       " \"White Sneaker For Men's/Boy's Sneakers For Men\",\n",
       " 'Sneakers For Men',\n",
       " '5011-Latest Collection Stylish Casual Loafer Sneakers S...',\n",
       " \"Original Luxury Branded Fashionable Men's Casual Walkin...\",\n",
       " 'Sneakers For Men',\n",
       " 'Sneakers For Men',\n",
       " 'Sneakers For Men',\n",
       " 'Fashion Outdoor Canvas Casual Light Weight Lace-up Even...',\n",
       " 'Casual Sneakers Green Shoes For Men And Boys Sneakers F...',\n",
       " 'Sneakers For Men',\n",
       " 'Sneakers for men(black_6) Sneakers For Men',\n",
       " 'Sneakers For Men',\n",
       " 'STI-1 casual shoes for men | Latest & Trending Fashion ...',\n",
       " \"Casual , Partywear Sneakers Shoes For Men's And Boys Wh...\",\n",
       " \"Casual shoes,Sneakers for men's,shoes for men's Sneaker...\",\n",
       " 'Unisex Comfortable Casual Daily Wear Sneakers For Men',\n",
       " 'Casual Sneakers Shoes For Men Sneakers For Men',\n",
       " 'shoe Sneakers For Men',\n",
       " 'X-Ray Sneakers For Men',\n",
       " 'luxury fashionable casual shoes Sneakers For Men',\n",
       " 'Luxury Fashionable casual sneaker shoes Sneakers For Me...',\n",
       " 'Super Stylish & Trendy Combo Pack of 02 Pairs Sneakers ...',\n",
       " 'Men Boxer Sneakers For Men',\n",
       " 'Luxury Fashionable casual sneaker shoes Sneakers For Me...',\n",
       " 'Combo Pack Of 4 Casual Shoes Loafer Shoes Sneakers For ...',\n",
       " \"Original Luxury Branded Fashionable Men's Casual Walkin...\",\n",
       " 'Perfect & Affordable Combo Pack of 02 Pairs Sneakers Ou...',\n",
       " 'Sneakers For Men',\n",
       " 'Sneakers For Men',\n",
       " 'Sneakers Sneakers For Men',\n",
       " 'Birde Trendy Casual Shoes Sneakers For Men',\n",
       " 'Sneakers For Men',\n",
       " 'CR-1 Sneakers For Men',\n",
       " 'Sneakers For Men',\n",
       " \"White Sneaker For Men's/Boy's Sneakers For Men\",\n",
       " 'Sneakers For Men',\n",
       " '5011-Latest Collection Stylish Casual Loafer Sneakers S...',\n",
       " \"Original Luxury Branded Fashionable Men's Casual Walkin...\",\n",
       " 'Sneakers For Men',\n",
       " 'Sneakers For Men',\n",
       " 'Sneakers For Men',\n",
       " 'Fashion Outdoor Canvas Casual Light Weight Lace-up Even...',\n",
       " 'Casual Sneakers Green Shoes For Men And Boys Sneakers F...',\n",
       " 'Sneakers For Men',\n",
       " 'Sneakers for men(black_6) Sneakers For Men',\n",
       " 'Sneakers For Men',\n",
       " 'STI-1 casual shoes for men | Latest & Trending Fashion ...',\n",
       " \"Casual , Partywear Sneakers Shoes For Men's And Boys Wh...\",\n",
       " \"Casual shoes,Sneakers for men's,shoes for men's Sneaker...\",\n",
       " 'Unisex Comfortable Casual Daily Wear Sneakers For Men',\n",
       " 'Casual Sneakers Shoes For Men Sneakers For Men',\n",
       " 'shoe Sneakers For Men',\n",
       " 'X-Ray Sneakers For Men']"
      ]
     },
     "execution_count": 200,
     "metadata": {},
     "output_type": "execute_result"
    }
   ],
   "source": [
    "product_description"
   ]
  },
  {
   "cell_type": "code",
   "execution_count": 201,
   "metadata": {},
   "outputs": [
    {
     "data": {
      "text/plain": [
       "<selenium.webdriver.remote.webelement.WebElement (session=\"c34112661d31f205be83272a8351a6c8\", element=\"b9f74284-49c3-4238-a924-9a24675ebf9f\")>"
      ]
     },
     "execution_count": 201,
     "metadata": {},
     "output_type": "execute_result"
    }
   ],
   "source": [
    "for i in range(1,4):\n",
    "    price_tag = driver.find_elements_by_xpath(\"//div[@class='_30jeq3']\")\n",
    "    for i in price_tag:\n",
    "        price.append(i.text)\n",
    "    price  \n",
    "next_button=driver.find_element_by_xpath(\"//a[@class='_1LKTO3']//span\") \n",
    "next_button"
   ]
  },
  {
   "cell_type": "code",
   "execution_count": 202,
   "metadata": {},
   "outputs": [
    {
     "data": {
      "text/plain": [
       "['₹399',\n",
       " '₹369',\n",
       " '₹599',\n",
       " '₹266',\n",
       " '₹379',\n",
       " '₹474',\n",
       " '₹499',\n",
       " '₹389',\n",
       " '₹498',\n",
       " '₹398',\n",
       " '₹371',\n",
       " '₹399',\n",
       " '₹398',\n",
       " '₹379',\n",
       " '₹429',\n",
       " '₹283',\n",
       " '₹399',\n",
       " '₹449',\n",
       " '₹378',\n",
       " '₹449',\n",
       " '₹240',\n",
       " '₹499',\n",
       " '₹398',\n",
       " '₹399',\n",
       " '₹398',\n",
       " '₹474',\n",
       " '₹198',\n",
       " '₹499',\n",
       " '₹266',\n",
       " '₹499',\n",
       " '₹460',\n",
       " '₹399',\n",
       " '₹348',\n",
       " '₹649',\n",
       " '₹349',\n",
       " '₹539',\n",
       " '₹399',\n",
       " '₹299',\n",
       " '₹250',\n",
       " '₹3,850',\n",
       " '₹399',\n",
       " '₹369',\n",
       " '₹599',\n",
       " '₹266',\n",
       " '₹379',\n",
       " '₹474',\n",
       " '₹499',\n",
       " '₹389',\n",
       " '₹498',\n",
       " '₹398',\n",
       " '₹371',\n",
       " '₹399',\n",
       " '₹398',\n",
       " '₹379',\n",
       " '₹429',\n",
       " '₹283',\n",
       " '₹399',\n",
       " '₹449',\n",
       " '₹378',\n",
       " '₹449',\n",
       " '₹240',\n",
       " '₹499',\n",
       " '₹398',\n",
       " '₹399',\n",
       " '₹398',\n",
       " '₹474',\n",
       " '₹198',\n",
       " '₹499',\n",
       " '₹266',\n",
       " '₹499',\n",
       " '₹460',\n",
       " '₹399',\n",
       " '₹348',\n",
       " '₹649',\n",
       " '₹349',\n",
       " '₹539',\n",
       " '₹399',\n",
       " '₹299',\n",
       " '₹250',\n",
       " '₹3,850',\n",
       " '₹399',\n",
       " '₹369',\n",
       " '₹599',\n",
       " '₹266',\n",
       " '₹379',\n",
       " '₹474',\n",
       " '₹499',\n",
       " '₹389',\n",
       " '₹498',\n",
       " '₹398',\n",
       " '₹371',\n",
       " '₹399',\n",
       " '₹398',\n",
       " '₹379',\n",
       " '₹429',\n",
       " '₹283',\n",
       " '₹399',\n",
       " '₹449',\n",
       " '₹378',\n",
       " '₹449',\n",
       " '₹240',\n",
       " '₹499',\n",
       " '₹398',\n",
       " '₹399',\n",
       " '₹398',\n",
       " '₹474',\n",
       " '₹198',\n",
       " '₹499',\n",
       " '₹266',\n",
       " '₹499',\n",
       " '₹460',\n",
       " '₹399',\n",
       " '₹348',\n",
       " '₹649',\n",
       " '₹349',\n",
       " '₹539',\n",
       " '₹399',\n",
       " '₹299',\n",
       " '₹250',\n",
       " '₹3,850']"
      ]
     },
     "execution_count": 202,
     "metadata": {},
     "output_type": "execute_result"
    }
   ],
   "source": [
    "price"
   ]
  },
  {
   "cell_type": "code",
   "execution_count": 203,
   "metadata": {},
   "outputs": [
    {
     "data": {
      "text/plain": [
       "<selenium.webdriver.remote.webelement.WebElement (session=\"c34112661d31f205be83272a8351a6c8\", element=\"b9f74284-49c3-4238-a924-9a24675ebf9f\")>"
      ]
     },
     "execution_count": 203,
     "metadata": {},
     "output_type": "execute_result"
    }
   ],
   "source": [
    "for i in range(1,4):\n",
    "    discount_tag = driver.find_elements_by_xpath(\"//div[@class='_3Ay6Sb']//span\")\n",
    "    for i in discount_tag:\n",
    "        discount.append(i.text)\n",
    "    discount  \n",
    "next_button=driver.find_element_by_xpath(\"//a[@class='_1LKTO3']//span\") \n",
    "next_button"
   ]
  },
  {
   "cell_type": "code",
   "execution_count": 204,
   "metadata": {},
   "outputs": [
    {
     "data": {
      "text/plain": [
       "['80% off',\n",
       " '87% off',\n",
       " '62% off',\n",
       " '46% off',\n",
       " '70% off',\n",
       " '86% off',\n",
       " '75% off',\n",
       " '80% off',\n",
       " '72% off',\n",
       " '60% off',\n",
       " '62% off',\n",
       " '80% off',\n",
       " '60% off',\n",
       " '24% off',\n",
       " '66% off',\n",
       " '43% off',\n",
       " '60% off',\n",
       " '77% off',\n",
       " '62% off',\n",
       " '55% off',\n",
       " '51% off',\n",
       " '50% off',\n",
       " '60% off',\n",
       " '69% off',\n",
       " '60% off',\n",
       " '52% off',\n",
       " '60% off',\n",
       " '50% off',\n",
       " '73% off',\n",
       " '50% off',\n",
       " '53% off',\n",
       " '60% off',\n",
       " '47% off',\n",
       " '7% off',\n",
       " '65% off',\n",
       " '77% off',\n",
       " '60% off',\n",
       " '70% off',\n",
       " '49% off',\n",
       " '44% off',\n",
       " '80% off',\n",
       " '87% off',\n",
       " '62% off',\n",
       " '46% off',\n",
       " '70% off',\n",
       " '86% off',\n",
       " '75% off',\n",
       " '80% off',\n",
       " '72% off',\n",
       " '60% off',\n",
       " '62% off',\n",
       " '80% off',\n",
       " '60% off',\n",
       " '24% off',\n",
       " '66% off',\n",
       " '43% off',\n",
       " '60% off',\n",
       " '77% off',\n",
       " '62% off',\n",
       " '55% off',\n",
       " '51% off',\n",
       " '50% off',\n",
       " '60% off',\n",
       " '69% off',\n",
       " '60% off',\n",
       " '52% off',\n",
       " '60% off',\n",
       " '50% off',\n",
       " '73% off',\n",
       " '50% off',\n",
       " '53% off',\n",
       " '60% off',\n",
       " '47% off',\n",
       " '7% off',\n",
       " '65% off',\n",
       " '77% off',\n",
       " '60% off',\n",
       " '70% off',\n",
       " '49% off',\n",
       " '44% off',\n",
       " '80% off',\n",
       " '87% off',\n",
       " '62% off',\n",
       " '46% off',\n",
       " '70% off',\n",
       " '86% off',\n",
       " '75% off',\n",
       " '80% off',\n",
       " '72% off',\n",
       " '60% off',\n",
       " '62% off',\n",
       " '80% off',\n",
       " '60% off',\n",
       " '24% off',\n",
       " '66% off',\n",
       " '43% off',\n",
       " '60% off',\n",
       " '77% off',\n",
       " '62% off',\n",
       " '55% off',\n",
       " '51% off',\n",
       " '50% off',\n",
       " '60% off',\n",
       " '69% off',\n",
       " '60% off',\n",
       " '52% off',\n",
       " '60% off',\n",
       " '50% off',\n",
       " '73% off',\n",
       " '50% off',\n",
       " '53% off',\n",
       " '60% off',\n",
       " '47% off',\n",
       " '7% off',\n",
       " '65% off',\n",
       " '77% off',\n",
       " '60% off',\n",
       " '70% off',\n",
       " '49% off',\n",
       " '44% off']"
      ]
     },
     "execution_count": 204,
     "metadata": {},
     "output_type": "execute_result"
    }
   ],
   "source": [
    "discount"
   ]
  },
  {
   "cell_type": "code",
   "execution_count": 205,
   "metadata": {},
   "outputs": [
    {
     "name": "stdout",
     "output_type": "stream",
     "text": [
      "120 102 120 120\n"
     ]
    }
   ],
   "source": [
    "print(len(brands),len(product_description),len(price),len(discount))"
   ]
  },
  {
   "cell_type": "code",
   "execution_count": 206,
   "metadata": {},
   "outputs": [],
   "source": [
    "sneakers=pd.DataFrame({})\n",
    "sneakers['Brands']=brands[:100]\n",
    "sneakers['Product Description']=product_description[:100]\n",
    "sneakers['Price']=price[:100]\n",
    "sneakers['Discount']=discount[:100]"
   ]
  },
  {
   "cell_type": "code",
   "execution_count": 207,
   "metadata": {},
   "outputs": [
    {
     "data": {
      "text/html": [
       "<div>\n",
       "<style scoped>\n",
       "    .dataframe tbody tr th:only-of-type {\n",
       "        vertical-align: middle;\n",
       "    }\n",
       "\n",
       "    .dataframe tbody tr th {\n",
       "        vertical-align: top;\n",
       "    }\n",
       "\n",
       "    .dataframe thead th {\n",
       "        text-align: right;\n",
       "    }\n",
       "</style>\n",
       "<table border=\"1\" class=\"dataframe\">\n",
       "  <thead>\n",
       "    <tr style=\"text-align: right;\">\n",
       "      <th></th>\n",
       "      <th>Brands</th>\n",
       "      <th>Product Description</th>\n",
       "      <th>Price</th>\n",
       "      <th>Discount</th>\n",
       "    </tr>\n",
       "  </thead>\n",
       "  <tbody>\n",
       "    <tr>\n",
       "      <th>0</th>\n",
       "      <td>luxury fashion</td>\n",
       "      <td>luxury fashionable casual shoes Sneakers For Men</td>\n",
       "      <td>₹399</td>\n",
       "      <td>80% off</td>\n",
       "    </tr>\n",
       "    <tr>\n",
       "      <th>1</th>\n",
       "      <td>luxury fashion</td>\n",
       "      <td>Luxury Fashionable casual sneaker shoes Sneake...</td>\n",
       "      <td>₹369</td>\n",
       "      <td>87% off</td>\n",
       "    </tr>\n",
       "    <tr>\n",
       "      <th>2</th>\n",
       "      <td>Chevit</td>\n",
       "      <td>Super Stylish &amp; Trendy Combo Pack of 02 Pairs ...</td>\n",
       "      <td>₹599</td>\n",
       "      <td>62% off</td>\n",
       "    </tr>\n",
       "    <tr>\n",
       "      <th>3</th>\n",
       "      <td>Longwalk</td>\n",
       "      <td>Men Boxer Sneakers For Men</td>\n",
       "      <td>₹266</td>\n",
       "      <td>46% off</td>\n",
       "    </tr>\n",
       "    <tr>\n",
       "      <th>4</th>\n",
       "      <td>luxury fashion</td>\n",
       "      <td>Luxury Fashionable casual sneaker shoes Sneake...</td>\n",
       "      <td>₹379</td>\n",
       "      <td>70% off</td>\n",
       "    </tr>\n",
       "    <tr>\n",
       "      <th>...</th>\n",
       "      <td>...</td>\n",
       "      <td>...</td>\n",
       "      <td>...</td>\n",
       "      <td>...</td>\n",
       "    </tr>\n",
       "    <tr>\n",
       "      <th>95</th>\n",
       "      <td>HOTSTYLE</td>\n",
       "      <td>STI-1 casual shoes for men | Latest &amp; Trending...</td>\n",
       "      <td>₹283</td>\n",
       "      <td>43% off</td>\n",
       "    </tr>\n",
       "    <tr>\n",
       "      <th>96</th>\n",
       "      <td>VIPSJAZZY</td>\n",
       "      <td>Casual , Partywear Sneakers Shoes For Men's An...</td>\n",
       "      <td>₹399</td>\n",
       "      <td>60% off</td>\n",
       "    </tr>\n",
       "    <tr>\n",
       "      <th>97</th>\n",
       "      <td>Numenzo</td>\n",
       "      <td>Casual shoes,Sneakers for men's,shoes for men'...</td>\n",
       "      <td>₹449</td>\n",
       "      <td>77% off</td>\n",
       "    </tr>\n",
       "    <tr>\n",
       "      <th>98</th>\n",
       "      <td>Shoes Bank</td>\n",
       "      <td>Unisex Comfortable Casual Daily Wear Sneakers ...</td>\n",
       "      <td>₹378</td>\n",
       "      <td>62% off</td>\n",
       "    </tr>\n",
       "    <tr>\n",
       "      <th>99</th>\n",
       "      <td>Robbie jones</td>\n",
       "      <td>Casual Sneakers Shoes For Men Sneakers For Men</td>\n",
       "      <td>₹449</td>\n",
       "      <td>55% off</td>\n",
       "    </tr>\n",
       "  </tbody>\n",
       "</table>\n",
       "<p>100 rows × 4 columns</p>\n",
       "</div>"
      ],
      "text/plain": [
       "            Brands                                Product Description Price  \\\n",
       "0   luxury fashion   luxury fashionable casual shoes Sneakers For Men  ₹399   \n",
       "1   luxury fashion  Luxury Fashionable casual sneaker shoes Sneake...  ₹369   \n",
       "2           Chevit  Super Stylish & Trendy Combo Pack of 02 Pairs ...  ₹599   \n",
       "3         Longwalk                         Men Boxer Sneakers For Men  ₹266   \n",
       "4   luxury fashion  Luxury Fashionable casual sneaker shoes Sneake...  ₹379   \n",
       "..             ...                                                ...   ...   \n",
       "95        HOTSTYLE  STI-1 casual shoes for men | Latest & Trending...  ₹283   \n",
       "96       VIPSJAZZY  Casual , Partywear Sneakers Shoes For Men's An...  ₹399   \n",
       "97         Numenzo  Casual shoes,Sneakers for men's,shoes for men'...  ₹449   \n",
       "98      Shoes Bank  Unisex Comfortable Casual Daily Wear Sneakers ...  ₹378   \n",
       "99    Robbie jones     Casual Sneakers Shoes For Men Sneakers For Men  ₹449   \n",
       "\n",
       "   Discount  \n",
       "0   80% off  \n",
       "1   87% off  \n",
       "2   62% off  \n",
       "3   46% off  \n",
       "4   70% off  \n",
       "..      ...  \n",
       "95  43% off  \n",
       "96  60% off  \n",
       "97  77% off  \n",
       "98  62% off  \n",
       "99  55% off  \n",
       "\n",
       "[100 rows x 4 columns]"
      ]
     },
     "execution_count": 207,
     "metadata": {},
     "output_type": "execute_result"
    }
   ],
   "source": [
    "sneakers"
   ]
  },
  {
   "cell_type": "code",
   "execution_count": null,
   "metadata": {},
   "outputs": [],
   "source": []
  },
  {
   "cell_type": "raw",
   "metadata": {},
   "source": [
    "Q9: Go to the link - https://www.myntra.com/shoes\n",
    "Set Price filter to “Rs. 6649 to Rs. 13099” , Color filter to “Black”, as shown in\n",
    "the below image. And then scrape First 100 shoes data you get. The data should include “Brand” of\n",
    "the shoes , Short Shoe description, price of the shoe as shown in the below image.Please note that applying the filter and scraping the data , everything should be\n",
    "done through code only and there should not be any manual step."
   ]
  },
  {
   "cell_type": "code",
   "execution_count": 208,
   "metadata": {},
   "outputs": [],
   "source": [
    "driver = webdriver.Chrome(\"chromedriver.exe\")"
   ]
  },
  {
   "cell_type": "code",
   "execution_count": 209,
   "metadata": {},
   "outputs": [],
   "source": [
    "url=\"https://www.myntra.com/shoes\"\n",
    "driver.get(url)"
   ]
  },
  {
   "cell_type": "code",
   "execution_count": 210,
   "metadata": {},
   "outputs": [],
   "source": [
    "filter_button = driver.find_elements_by_xpath(\"//label[@class='common-customCheckbox']\")\n",
    "for i in filter_button:\n",
    "    if i.text=='Black':\n",
    "        i.click()\n",
    "        break"
   ]
  },
  {
   "cell_type": "code",
   "execution_count": 211,
   "metadata": {},
   "outputs": [],
   "source": [
    "filter_button = driver.find_elements_by_xpath(\"//label[@class='common-customCheckbox vertical-filters-label']//input\")\n",
    "for i in filter_button:\n",
    "    if i.text=='6687 to Rs. 13125':\n",
    "        i.click()\n",
    "        break"
   ]
  },
  {
   "cell_type": "code",
   "execution_count": 212,
   "metadata": {},
   "outputs": [],
   "source": [
    "shoe_brand=[]\n",
    "short_shoe_description=[]\n",
    "price=[]"
   ]
  },
  {
   "cell_type": "code",
   "execution_count": 213,
   "metadata": {},
   "outputs": [
    {
     "data": {
      "text/plain": [
       "<selenium.webdriver.remote.webelement.WebElement (session=\"30fc9e2af85534b871806b874a91473c\", element=\"1f9a501c-9ef4-4d20-b16e-ae3663f357ff\")>"
      ]
     },
     "execution_count": 213,
     "metadata": {},
     "output_type": "execute_result"
    }
   ],
   "source": [
    "for i in range(1,3):\n",
    "    brand = driver.find_elements_by_xpath(\"//h3[@class='product-brand']\")\n",
    "    for i in brand:\n",
    "        shoe_brand.append(i.text)\n",
    "    shoe_brand  \n",
    "next_button=driver.find_element_by_xpath(\"//li[@class='pagination-next']//a\") \n",
    "next_button"
   ]
  },
  {
   "cell_type": "code",
   "execution_count": 214,
   "metadata": {},
   "outputs": [
    {
     "data": {
      "text/plain": [
       "['Newfeel By Decathlon',\n",
       " 'Provogue',\n",
       " 'Nike',\n",
       " 'Alishtezia',\n",
       " 'Red Tape',\n",
       " 'Big Fox',\n",
       " 'Red Tape',\n",
       " 'Crew STREET',\n",
       " 'ADIDAS',\n",
       " 'Roadster',\n",
       " 'Nike',\n",
       " 'Provogue',\n",
       " 'Red Tape',\n",
       " 'ALDO',\n",
       " 'Wildcraft',\n",
       " 'Monrow',\n",
       " 'Red Tape',\n",
       " 'H&M',\n",
       " 'Walkstyle By El Paso',\n",
       " 'ADIDAS',\n",
       " 'HRX by Hrithik Roshan',\n",
       " 'ALDO',\n",
       " 'Red Tape',\n",
       " 'Ginger by Lifestyle',\n",
       " 'Roadster',\n",
       " 'H&M',\n",
       " 'Nike',\n",
       " 'Red Tape',\n",
       " 'ADIDAS',\n",
       " 'Walkstyle By El Paso',\n",
       " 'Eego Italy',\n",
       " 'Puma',\n",
       " 'ALDO',\n",
       " 'Nike',\n",
       " 'Red Tape',\n",
       " 'Red Tape',\n",
       " 'ADIDAS',\n",
       " 'H&M',\n",
       " 'Puma',\n",
       " 'Ginger by Lifestyle',\n",
       " 'UCLA',\n",
       " 'H&M',\n",
       " 'Roadster',\n",
       " 'U.S. Polo Assn.',\n",
       " 'ALDO',\n",
       " 'H&M',\n",
       " 'H&M',\n",
       " 'Louis Philippe',\n",
       " 'Nike',\n",
       " 'Bella Toes',\n",
       " 'Newfeel By Decathlon',\n",
       " 'Provogue',\n",
       " 'Nike',\n",
       " 'Alishtezia',\n",
       " 'Red Tape',\n",
       " 'Big Fox',\n",
       " 'Red Tape',\n",
       " 'Crew STREET',\n",
       " 'ADIDAS',\n",
       " 'Roadster',\n",
       " 'Nike',\n",
       " 'Provogue',\n",
       " 'Red Tape',\n",
       " 'ALDO',\n",
       " 'Wildcraft',\n",
       " 'Monrow',\n",
       " 'Red Tape',\n",
       " 'H&M',\n",
       " 'Walkstyle By El Paso',\n",
       " 'ADIDAS',\n",
       " 'HRX by Hrithik Roshan',\n",
       " 'ALDO',\n",
       " 'Red Tape',\n",
       " 'Ginger by Lifestyle',\n",
       " 'Roadster',\n",
       " 'H&M',\n",
       " 'Nike',\n",
       " 'Red Tape',\n",
       " 'ADIDAS',\n",
       " 'Walkstyle By El Paso',\n",
       " 'Eego Italy',\n",
       " 'Puma',\n",
       " 'ALDO',\n",
       " 'Nike',\n",
       " 'Red Tape',\n",
       " 'Red Tape',\n",
       " 'ADIDAS',\n",
       " 'H&M',\n",
       " 'Puma',\n",
       " 'Ginger by Lifestyle',\n",
       " 'UCLA',\n",
       " 'H&M',\n",
       " 'Roadster',\n",
       " 'U.S. Polo Assn.',\n",
       " 'ALDO',\n",
       " 'H&M',\n",
       " 'H&M',\n",
       " 'Louis Philippe',\n",
       " 'Nike',\n",
       " 'Bella Toes']"
      ]
     },
     "execution_count": 214,
     "metadata": {},
     "output_type": "execute_result"
    }
   ],
   "source": [
    "shoe_brand"
   ]
  },
  {
   "cell_type": "code",
   "execution_count": 215,
   "metadata": {},
   "outputs": [
    {
     "data": {
      "text/plain": [
       "<selenium.webdriver.remote.webelement.WebElement (session=\"30fc9e2af85534b871806b874a91473c\", element=\"1f9a501c-9ef4-4d20-b16e-ae3663f357ff\")>"
      ]
     },
     "execution_count": 215,
     "metadata": {},
     "output_type": "execute_result"
    }
   ],
   "source": [
    "for i in range(1,3):\n",
    "    desc = driver.find_elements_by_xpath(\"//h4[@class='product-product']\")\n",
    "    for i in desc:\n",
    "        short_shoe_description.append(i.text)\n",
    "    short_shoe_description  \n",
    "next_button=driver.find_element_by_xpath(\"//li[@class='pagination-next']//a\") \n",
    "next_button"
   ]
  },
  {
   "cell_type": "code",
   "execution_count": 216,
   "metadata": {},
   "outputs": [
    {
     "data": {
      "text/plain": [
       "['Men Walking Shoes',\n",
       " 'Men Walking Sports Shoes',\n",
       " 'Men Flex 2021 Running Shoes',\n",
       " 'Women Colourblocked PU Sneakers',\n",
       " 'Men Colourblocked PU Sneakers',\n",
       " 'Men Running Shoes',\n",
       " 'Men Air + Walking Shoes',\n",
       " 'Men Running Shoes',\n",
       " 'Men Uiflow Running Shoes',\n",
       " 'Men Sneakers',\n",
       " 'Men React Infinity Runners',\n",
       " 'Men Solid Loafers',\n",
       " 'Men Walking Shoes',\n",
       " 'Men Solid Leather Loafers',\n",
       " 'Men Ogden Plus Trekking Shoes',\n",
       " 'Women Sandals',\n",
       " 'Men Colourblocked Sneakers',\n",
       " 'Men Espadrilles',\n",
       " 'Men Running Shoes',\n",
       " 'Men WOUNDROUS Tennis Shoes',\n",
       " 'Women Running Shoes',\n",
       " 'Men Driving Shoes',\n",
       " 'Men Sneakers',\n",
       " 'Women Sneakers',\n",
       " 'Men Solid Sneakers',\n",
       " 'Men Trainers',\n",
       " 'Men Zoom Span 3 Running Shoes',\n",
       " 'Men Air + Walking Shoes',\n",
       " 'Men ZELT SL 2.0 M Running',\n",
       " 'Men Running Shoes',\n",
       " 'Men Trekking Shoes',\n",
       " 'Men Sneakers',\n",
       " 'Men Sneakers',\n",
       " 'Men CITY REP TR Training Shoes',\n",
       " 'Men Walking Shoes',\n",
       " 'Men Colourblocked Sneakers',\n",
       " 'Men Adiron Running Shoes',\n",
       " 'Womens Braided mules',\n",
       " 'Men Running Shoes',\n",
       " 'Women T-Strap Flats',\n",
       " 'Men Running Shoes',\n",
       " 'Men Trainers',\n",
       " 'Men Solid Sneakers',\n",
       " 'Men Solid Sneakers',\n",
       " 'Men Solid Slip-On Sneakers',\n",
       " 'Womens Platform trainers',\n",
       " 'Men Canvas Trainers',\n",
       " 'Men Leather Formal Slip-Ons',\n",
       " 'Unisex FLYBY MID 2 Basketball',\n",
       " 'Women Sneakers',\n",
       " 'Men Walking Shoes',\n",
       " 'Men Walking Sports Shoes',\n",
       " 'Men Flex 2021 Running Shoes',\n",
       " 'Women Colourblocked PU Sneakers',\n",
       " 'Men Colourblocked PU Sneakers',\n",
       " 'Men Running Shoes',\n",
       " 'Men Air + Walking Shoes',\n",
       " 'Men Running Shoes',\n",
       " 'Men Uiflow Running Shoes',\n",
       " 'Men Sneakers',\n",
       " 'Men React Infinity Runners',\n",
       " 'Men Solid Loafers',\n",
       " 'Men Walking Shoes',\n",
       " 'Men Solid Leather Loafers',\n",
       " 'Men Ogden Plus Trekking Shoes',\n",
       " 'Women Sandals',\n",
       " 'Men Colourblocked Sneakers',\n",
       " 'Men Espadrilles',\n",
       " 'Men Running Shoes',\n",
       " 'Men WOUNDROUS Tennis Shoes',\n",
       " 'Women Running Shoes',\n",
       " 'Men Driving Shoes',\n",
       " 'Men Sneakers',\n",
       " 'Women Sneakers',\n",
       " 'Men Solid Sneakers',\n",
       " 'Men Trainers',\n",
       " 'Men Zoom Span 3 Running Shoes',\n",
       " 'Men Air + Walking Shoes',\n",
       " 'Men ZELT SL 2.0 M Running',\n",
       " 'Men Running Shoes',\n",
       " 'Men Trekking Shoes',\n",
       " 'Men Sneakers',\n",
       " 'Men Sneakers',\n",
       " 'Men CITY REP TR Training Shoes',\n",
       " 'Men Walking Shoes',\n",
       " 'Men Colourblocked Sneakers',\n",
       " 'Men Adiron Running Shoes',\n",
       " 'Womens Braided mules',\n",
       " 'Men Running Shoes',\n",
       " 'Women T-Strap Flats',\n",
       " 'Men Running Shoes',\n",
       " 'Men Trainers',\n",
       " 'Men Solid Sneakers',\n",
       " 'Men Solid Sneakers',\n",
       " 'Men Solid Slip-On Sneakers',\n",
       " 'Womens Platform trainers',\n",
       " 'Men Canvas Trainers',\n",
       " 'Men Leather Formal Slip-Ons',\n",
       " 'Unisex FLYBY MID 2 Basketball',\n",
       " 'Women Sneakers']"
      ]
     },
     "execution_count": 216,
     "metadata": {},
     "output_type": "execute_result"
    }
   ],
   "source": [
    "short_shoe_description"
   ]
  },
  {
   "cell_type": "code",
   "execution_count": 217,
   "metadata": {},
   "outputs": [
    {
     "data": {
      "text/plain": [
       "<selenium.webdriver.remote.webelement.WebElement (session=\"30fc9e2af85534b871806b874a91473c\", element=\"1f9a501c-9ef4-4d20-b16e-ae3663f357ff\")>"
      ]
     },
     "execution_count": 217,
     "metadata": {},
     "output_type": "execute_result"
    }
   ],
   "source": [
    "for i in range(1,6):\n",
    "    price_tags = driver.find_elements_by_xpath(\"//span[@class='product-discountedPrice']\")\n",
    "    for i in price_tags:\n",
    "        price.append(i.text)\n",
    "    price  \n",
    "next_button=driver.find_element_by_xpath(\"//li[@class='pagination-next']//a\") \n",
    "next_button"
   ]
  },
  {
   "cell_type": "code",
   "execution_count": 218,
   "metadata": {},
   "outputs": [
    {
     "data": {
      "text/plain": [
       "['Rs. 699',\n",
       " 'Rs. 799',\n",
       " 'Rs. 1379',\n",
       " 'Rs. 799',\n",
       " 'Rs. 2189',\n",
       " 'Rs. 1899',\n",
       " 'Rs. 2144',\n",
       " 'Rs. 2099',\n",
       " 'Rs. 849',\n",
       " 'Rs. 1469',\n",
       " 'Rs. 7799',\n",
       " 'Rs. 2999',\n",
       " 'Rs. 1399',\n",
       " 'Rs. 1379',\n",
       " 'Rs. 649',\n",
       " 'Rs. 703',\n",
       " 'Rs. 2599',\n",
       " 'Rs. 1379',\n",
       " 'Rs. 1299',\n",
       " 'Rs. 2189',\n",
       " 'Rs. 3599',\n",
       " 'Rs. 703',\n",
       " 'Rs. 899',\n",
       " 'Rs. 1999',\n",
       " 'Rs. 1469',\n",
       " 'Rs. 1319',\n",
       " 'Rs. 3471',\n",
       " 'Rs. 3024',\n",
       " 'Rs. 1374',\n",
       " 'Rs. 1299',\n",
       " 'Rs. 2699',\n",
       " 'Rs. 2599',\n",
       " 'Rs. 699',\n",
       " 'Rs. 699',\n",
       " 'Rs. 799',\n",
       " 'Rs. 1379',\n",
       " 'Rs. 799',\n",
       " 'Rs. 2189',\n",
       " 'Rs. 1899',\n",
       " 'Rs. 2144',\n",
       " 'Rs. 2099',\n",
       " 'Rs. 849',\n",
       " 'Rs. 1469',\n",
       " 'Rs. 7799',\n",
       " 'Rs. 2999',\n",
       " 'Rs. 1399',\n",
       " 'Rs. 1379',\n",
       " 'Rs. 649',\n",
       " 'Rs. 703',\n",
       " 'Rs. 2599',\n",
       " 'Rs. 1379',\n",
       " 'Rs. 1299',\n",
       " 'Rs. 2189',\n",
       " 'Rs. 3599',\n",
       " 'Rs. 703',\n",
       " 'Rs. 899',\n",
       " 'Rs. 1999',\n",
       " 'Rs. 1469',\n",
       " 'Rs. 1319',\n",
       " 'Rs. 3471',\n",
       " 'Rs. 3024',\n",
       " 'Rs. 1374',\n",
       " 'Rs. 1299',\n",
       " 'Rs. 2699',\n",
       " 'Rs. 2599',\n",
       " 'Rs. 699',\n",
       " 'Rs. 699',\n",
       " 'Rs. 799',\n",
       " 'Rs. 1379',\n",
       " 'Rs. 799',\n",
       " 'Rs. 2189',\n",
       " 'Rs. 1899',\n",
       " 'Rs. 2144',\n",
       " 'Rs. 2099',\n",
       " 'Rs. 849',\n",
       " 'Rs. 1469',\n",
       " 'Rs. 7799',\n",
       " 'Rs. 2999',\n",
       " 'Rs. 1399',\n",
       " 'Rs. 1379',\n",
       " 'Rs. 649',\n",
       " 'Rs. 703',\n",
       " 'Rs. 2599',\n",
       " 'Rs. 1379',\n",
       " 'Rs. 1299',\n",
       " 'Rs. 2189',\n",
       " 'Rs. 3599',\n",
       " 'Rs. 703',\n",
       " 'Rs. 899',\n",
       " 'Rs. 1999',\n",
       " 'Rs. 1469',\n",
       " 'Rs. 1319',\n",
       " 'Rs. 3471',\n",
       " 'Rs. 3024',\n",
       " 'Rs. 1374',\n",
       " 'Rs. 1299',\n",
       " 'Rs. 2699',\n",
       " 'Rs. 2599',\n",
       " 'Rs. 699',\n",
       " 'Rs. 699',\n",
       " 'Rs. 799',\n",
       " 'Rs. 1379',\n",
       " 'Rs. 799',\n",
       " 'Rs. 2189',\n",
       " 'Rs. 1899',\n",
       " 'Rs. 2144',\n",
       " 'Rs. 2099',\n",
       " 'Rs. 849',\n",
       " 'Rs. 1469',\n",
       " 'Rs. 7799',\n",
       " 'Rs. 2999',\n",
       " 'Rs. 1399',\n",
       " 'Rs. 1379',\n",
       " 'Rs. 649',\n",
       " 'Rs. 703',\n",
       " 'Rs. 2599',\n",
       " 'Rs. 1379',\n",
       " 'Rs. 1299',\n",
       " 'Rs. 2189',\n",
       " 'Rs. 3599',\n",
       " 'Rs. 703',\n",
       " 'Rs. 899',\n",
       " 'Rs. 1999',\n",
       " 'Rs. 1469',\n",
       " 'Rs. 1319',\n",
       " 'Rs. 3471',\n",
       " 'Rs. 3024',\n",
       " 'Rs. 1374',\n",
       " 'Rs. 1299',\n",
       " 'Rs. 2699',\n",
       " 'Rs. 2599',\n",
       " 'Rs. 699',\n",
       " 'Rs. 699',\n",
       " 'Rs. 799',\n",
       " 'Rs. 1379',\n",
       " 'Rs. 799',\n",
       " 'Rs. 2189',\n",
       " 'Rs. 1899',\n",
       " 'Rs. 2144',\n",
       " 'Rs. 2099',\n",
       " 'Rs. 849',\n",
       " 'Rs. 1469',\n",
       " 'Rs. 7799',\n",
       " 'Rs. 2999',\n",
       " 'Rs. 1399',\n",
       " 'Rs. 1379',\n",
       " 'Rs. 649',\n",
       " 'Rs. 703',\n",
       " 'Rs. 2599',\n",
       " 'Rs. 1379',\n",
       " 'Rs. 1299',\n",
       " 'Rs. 2189',\n",
       " 'Rs. 3599',\n",
       " 'Rs. 703',\n",
       " 'Rs. 899',\n",
       " 'Rs. 1999',\n",
       " 'Rs. 1469',\n",
       " 'Rs. 1319',\n",
       " 'Rs. 3471',\n",
       " 'Rs. 3024',\n",
       " 'Rs. 1374',\n",
       " 'Rs. 1299',\n",
       " 'Rs. 2699',\n",
       " 'Rs. 2599',\n",
       " 'Rs. 699']"
      ]
     },
     "execution_count": 218,
     "metadata": {},
     "output_type": "execute_result"
    }
   ],
   "source": [
    "price"
   ]
  },
  {
   "cell_type": "code",
   "execution_count": 219,
   "metadata": {},
   "outputs": [
    {
     "name": "stdout",
     "output_type": "stream",
     "text": [
      "100 100 165\n"
     ]
    }
   ],
   "source": [
    "print(len(shoe_brand),len(short_shoe_description),len(price))"
   ]
  },
  {
   "cell_type": "code",
   "execution_count": 220,
   "metadata": {},
   "outputs": [],
   "source": [
    "shoe=pd.DataFrame({})\n",
    "shoe['Shoe Brand']=shoe_brand\n",
    "shoe['Short Shoe Description']=short_shoe_description\n",
    "shoe['Price']=price[:100]"
   ]
  },
  {
   "cell_type": "code",
   "execution_count": 221,
   "metadata": {},
   "outputs": [
    {
     "data": {
      "text/html": [
       "<div>\n",
       "<style scoped>\n",
       "    .dataframe tbody tr th:only-of-type {\n",
       "        vertical-align: middle;\n",
       "    }\n",
       "\n",
       "    .dataframe tbody tr th {\n",
       "        vertical-align: top;\n",
       "    }\n",
       "\n",
       "    .dataframe thead th {\n",
       "        text-align: right;\n",
       "    }\n",
       "</style>\n",
       "<table border=\"1\" class=\"dataframe\">\n",
       "  <thead>\n",
       "    <tr style=\"text-align: right;\">\n",
       "      <th></th>\n",
       "      <th>Shoe Brand</th>\n",
       "      <th>Short Shoe Description</th>\n",
       "      <th>Price</th>\n",
       "    </tr>\n",
       "  </thead>\n",
       "  <tbody>\n",
       "    <tr>\n",
       "      <th>0</th>\n",
       "      <td>Newfeel By Decathlon</td>\n",
       "      <td>Men Walking Shoes</td>\n",
       "      <td>Rs. 699</td>\n",
       "    </tr>\n",
       "    <tr>\n",
       "      <th>1</th>\n",
       "      <td>Provogue</td>\n",
       "      <td>Men Walking Sports Shoes</td>\n",
       "      <td>Rs. 799</td>\n",
       "    </tr>\n",
       "    <tr>\n",
       "      <th>2</th>\n",
       "      <td>Nike</td>\n",
       "      <td>Men Flex 2021 Running Shoes</td>\n",
       "      <td>Rs. 1379</td>\n",
       "    </tr>\n",
       "    <tr>\n",
       "      <th>3</th>\n",
       "      <td>Alishtezia</td>\n",
       "      <td>Women Colourblocked PU Sneakers</td>\n",
       "      <td>Rs. 799</td>\n",
       "    </tr>\n",
       "    <tr>\n",
       "      <th>4</th>\n",
       "      <td>Red Tape</td>\n",
       "      <td>Men Colourblocked PU Sneakers</td>\n",
       "      <td>Rs. 2189</td>\n",
       "    </tr>\n",
       "    <tr>\n",
       "      <th>...</th>\n",
       "      <td>...</td>\n",
       "      <td>...</td>\n",
       "      <td>...</td>\n",
       "    </tr>\n",
       "    <tr>\n",
       "      <th>95</th>\n",
       "      <td>H&amp;M</td>\n",
       "      <td>Womens Platform trainers</td>\n",
       "      <td>Rs. 1299</td>\n",
       "    </tr>\n",
       "    <tr>\n",
       "      <th>96</th>\n",
       "      <td>H&amp;M</td>\n",
       "      <td>Men Canvas Trainers</td>\n",
       "      <td>Rs. 2699</td>\n",
       "    </tr>\n",
       "    <tr>\n",
       "      <th>97</th>\n",
       "      <td>Louis Philippe</td>\n",
       "      <td>Men Leather Formal Slip-Ons</td>\n",
       "      <td>Rs. 2599</td>\n",
       "    </tr>\n",
       "    <tr>\n",
       "      <th>98</th>\n",
       "      <td>Nike</td>\n",
       "      <td>Unisex FLYBY MID 2 Basketball</td>\n",
       "      <td>Rs. 699</td>\n",
       "    </tr>\n",
       "    <tr>\n",
       "      <th>99</th>\n",
       "      <td>Bella Toes</td>\n",
       "      <td>Women Sneakers</td>\n",
       "      <td>Rs. 699</td>\n",
       "    </tr>\n",
       "  </tbody>\n",
       "</table>\n",
       "<p>100 rows × 3 columns</p>\n",
       "</div>"
      ],
      "text/plain": [
       "              Shoe Brand           Short Shoe Description     Price\n",
       "0   Newfeel By Decathlon                Men Walking Shoes   Rs. 699\n",
       "1               Provogue         Men Walking Sports Shoes   Rs. 799\n",
       "2                   Nike      Men Flex 2021 Running Shoes  Rs. 1379\n",
       "3             Alishtezia  Women Colourblocked PU Sneakers   Rs. 799\n",
       "4               Red Tape    Men Colourblocked PU Sneakers  Rs. 2189\n",
       "..                   ...                              ...       ...\n",
       "95                   H&M         Womens Platform trainers  Rs. 1299\n",
       "96                   H&M              Men Canvas Trainers  Rs. 2699\n",
       "97        Louis Philippe      Men Leather Formal Slip-Ons  Rs. 2599\n",
       "98                  Nike    Unisex FLYBY MID 2 Basketball   Rs. 699\n",
       "99            Bella Toes                   Women Sneakers   Rs. 699\n",
       "\n",
       "[100 rows x 3 columns]"
      ]
     },
     "execution_count": 221,
     "metadata": {},
     "output_type": "execute_result"
    }
   ],
   "source": [
    "shoe"
   ]
  },
  {
   "cell_type": "code",
   "execution_count": null,
   "metadata": {},
   "outputs": [],
   "source": []
  },
  {
   "cell_type": "raw",
   "metadata": {},
   "source": [
    "Q10: Go to webpage https://www.amazon.in/\n",
    "Enter “Laptop” in the search field and then click the search icon.\n",
    "Then set CPU Type filter to “Intel Core i7” and “Intel Core i9” as shown in the\n",
    "below image:\n",
    "After setting the filters scrape first 10 laptops data. You have to scrape 3 attributes\n",
    "for each laptop:\n",
    "1. title\n",
    "2. Ratings\n",
    "3. Price\n",
    "As shown in the below image as the tick marked attributes.    "
   ]
  },
  {
   "cell_type": "code",
   "execution_count": 222,
   "metadata": {},
   "outputs": [],
   "source": [
    " driver = webdriver.Chrome(\"chromedriver.exe\")"
   ]
  },
  {
   "cell_type": "code",
   "execution_count": 223,
   "metadata": {},
   "outputs": [],
   "source": [
    "url = \"https://www.amazon.in/\"\n",
    "driver.get(url)                         "
   ]
  },
  {
   "cell_type": "code",
   "execution_count": 224,
   "metadata": {},
   "outputs": [
    {
     "data": {
      "text/plain": [
       "<selenium.webdriver.remote.webelement.WebElement (session=\"1bbb481badb795d9e4818d724e4db6e9\", element=\"160fc421-c69e-479b-ac70-3caeac6c753d\")>"
      ]
     },
     "execution_count": 224,
     "metadata": {},
     "output_type": "execute_result"
    }
   ],
   "source": [
    "search_bar = driver.find_element_by_id('twotabsearchtextbox')\n",
    "search_bar"
   ]
  },
  {
   "cell_type": "code",
   "execution_count": 225,
   "metadata": {},
   "outputs": [],
   "source": [
    "search_bar.send_keys(\"Laptop\")"
   ]
  },
  {
   "cell_type": "code",
   "execution_count": 226,
   "metadata": {},
   "outputs": [],
   "source": [
    "search_btn = driver.find_element_by_id('nav-search-submit-button')\n",
    "search_btn.click()"
   ]
  },
  {
   "cell_type": "code",
   "execution_count": 227,
   "metadata": {},
   "outputs": [],
   "source": [
    "filter_button = driver.find_elements_by_xpath(\"//span[@class='a-size-base a-color-base']\")\n",
    "for i in filter_button:\n",
    "    if i.text=='Intel Core i7':\n",
    "        i.click()\n",
    "        break"
   ]
  },
  {
   "cell_type": "code",
   "execution_count": 228,
   "metadata": {},
   "outputs": [],
   "source": [
    "filter_button = driver.find_elements_by_xpath(\"//span[@class='a-size-base a-color-base']\")\n",
    "for i in filter_button:\n",
    "    if i.text=='Intel Core i9':\n",
    "        i.click()\n",
    "        break"
   ]
  },
  {
   "cell_type": "code",
   "execution_count": 229,
   "metadata": {},
   "outputs": [
    {
     "data": {
      "text/plain": [
       "[<selenium.webdriver.remote.webelement.WebElement (session=\"1bbb481badb795d9e4818d724e4db6e9\", element=\"79b80239-e8a7-4c21-a574-f0cac8b1ed9b\")>,\n",
       " <selenium.webdriver.remote.webelement.WebElement (session=\"1bbb481badb795d9e4818d724e4db6e9\", element=\"bf86cd21-50bf-4de1-bebd-8df637d5cb86\")>,\n",
       " <selenium.webdriver.remote.webelement.WebElement (session=\"1bbb481badb795d9e4818d724e4db6e9\", element=\"bd940311-7276-4237-b3cd-0946daf67fde\")>,\n",
       " <selenium.webdriver.remote.webelement.WebElement (session=\"1bbb481badb795d9e4818d724e4db6e9\", element=\"85146bfb-aa1b-4aa6-844d-db8fd0a6f2c8\")>,\n",
       " <selenium.webdriver.remote.webelement.WebElement (session=\"1bbb481badb795d9e4818d724e4db6e9\", element=\"3dacd5cf-eab4-437c-9457-354e8b785767\")>,\n",
       " <selenium.webdriver.remote.webelement.WebElement (session=\"1bbb481badb795d9e4818d724e4db6e9\", element=\"774b2ba3-e345-4299-9933-415ceca14e1f\")>,\n",
       " <selenium.webdriver.remote.webelement.WebElement (session=\"1bbb481badb795d9e4818d724e4db6e9\", element=\"badeea60-0f8e-4dd6-8954-caee1bcb8dce\")>,\n",
       " <selenium.webdriver.remote.webelement.WebElement (session=\"1bbb481badb795d9e4818d724e4db6e9\", element=\"e8fc81d2-7b9a-4ec0-bde1-b666d0808c93\")>,\n",
       " <selenium.webdriver.remote.webelement.WebElement (session=\"1bbb481badb795d9e4818d724e4db6e9\", element=\"1d390302-fa7b-46f1-bfaf-16e41bd475a6\")>,\n",
       " <selenium.webdriver.remote.webelement.WebElement (session=\"1bbb481badb795d9e4818d724e4db6e9\", element=\"c1b624e8-5c99-4b7b-9acf-ac7d35dcbcf6\")>,\n",
       " <selenium.webdriver.remote.webelement.WebElement (session=\"1bbb481badb795d9e4818d724e4db6e9\", element=\"c4f026cd-1a2e-4dbf-83f3-0102e265f2e5\")>,\n",
       " <selenium.webdriver.remote.webelement.WebElement (session=\"1bbb481badb795d9e4818d724e4db6e9\", element=\"efe00242-7199-40e7-8978-022a078bb371\")>,\n",
       " <selenium.webdriver.remote.webelement.WebElement (session=\"1bbb481badb795d9e4818d724e4db6e9\", element=\"31edf620-1fa5-4a02-8f4a-39c9c2b5a0cf\")>,\n",
       " <selenium.webdriver.remote.webelement.WebElement (session=\"1bbb481badb795d9e4818d724e4db6e9\", element=\"e31d4dff-de2f-4ac2-9f5e-e810521b840a\")>,\n",
       " <selenium.webdriver.remote.webelement.WebElement (session=\"1bbb481badb795d9e4818d724e4db6e9\", element=\"860b9890-a175-42fb-a23f-d82354d2b2aa\")>,\n",
       " <selenium.webdriver.remote.webelement.WebElement (session=\"1bbb481badb795d9e4818d724e4db6e9\", element=\"158cccfa-01d7-4972-b829-ff97c0233ebf\")>,\n",
       " <selenium.webdriver.remote.webelement.WebElement (session=\"1bbb481badb795d9e4818d724e4db6e9\", element=\"9683703c-694f-4afd-9ee1-48ddc7eaa0c0\")>,\n",
       " <selenium.webdriver.remote.webelement.WebElement (session=\"1bbb481badb795d9e4818d724e4db6e9\", element=\"dab49306-44cf-41a2-8273-81dbb4708e57\")>,\n",
       " <selenium.webdriver.remote.webelement.WebElement (session=\"1bbb481badb795d9e4818d724e4db6e9\", element=\"4d9e5c65-652a-48e7-8706-a5ba3b0077bb\")>,\n",
       " <selenium.webdriver.remote.webelement.WebElement (session=\"1bbb481badb795d9e4818d724e4db6e9\", element=\"ba3404da-89f7-4163-bf17-ccef171dd1eb\")>,\n",
       " <selenium.webdriver.remote.webelement.WebElement (session=\"1bbb481badb795d9e4818d724e4db6e9\", element=\"b2545a0d-c818-4493-a07a-75cfc7232254\")>,\n",
       " <selenium.webdriver.remote.webelement.WebElement (session=\"1bbb481badb795d9e4818d724e4db6e9\", element=\"62722764-0b32-4f19-8e76-523c976d85f2\")>]"
      ]
     },
     "execution_count": 229,
     "metadata": {},
     "output_type": "execute_result"
    }
   ],
   "source": [
    "price = driver.find_elements_by_xpath(\"//span[@class='a-price-whole']\")\n",
    "price"
   ]
  },
  {
   "cell_type": "code",
   "execution_count": 230,
   "metadata": {},
   "outputs": [
    {
     "data": {
      "text/plain": [
       "['1,23,300',\n",
       " '76,999',\n",
       " '77,990',\n",
       " '1,13,990',\n",
       " '87,990',\n",
       " '73,990',\n",
       " '57,990',\n",
       " '1,23,300',\n",
       " '72,999',\n",
       " '1,19,499',\n",
       " '1,07,990',\n",
       " '46,999',\n",
       " '63,999',\n",
       " '52,999',\n",
       " '1,01,910',\n",
       " '81,290',\n",
       " '84,767',\n",
       " '45,999',\n",
       " '39,999',\n",
       " '41,999',\n",
       " '45,999',\n",
       " '51,999']"
      ]
     },
     "execution_count": 230,
     "metadata": {},
     "output_type": "execute_result"
    }
   ],
   "source": [
    "laptop_price=[]\n",
    "for i in price:\n",
    "    laptop_price.append(i.text)\n",
    "laptop_price   "
   ]
  },
  {
   "cell_type": "code",
   "execution_count": 231,
   "metadata": {},
   "outputs": [],
   "source": [
    "urls = []\n",
    "for i in driver.find_elements_by_xpath(\"//a[@class='a-link-normal a-text-normal']\"):\n",
    "    urls.append(i.get_attribute(\"href\"))"
   ]
  },
  {
   "cell_type": "code",
   "execution_count": 232,
   "metadata": {},
   "outputs": [
    {
     "data": {
      "text/plain": [
       "25"
      ]
     },
     "execution_count": 232,
     "metadata": {},
     "output_type": "execute_result"
    }
   ],
   "source": [
    "len(urls)"
   ]
  },
  {
   "cell_type": "code",
   "execution_count": 233,
   "metadata": {},
   "outputs": [],
   "source": [
    "laptop_titles=[]\n",
    "laptop_ratings=[]"
   ]
  },
  {
   "cell_type": "code",
   "execution_count": 234,
   "metadata": {},
   "outputs": [],
   "source": [
    "for i in urls[:10]:\n",
    "    driver.get(i)\n",
    "    time.sleep(3)\n",
    "    \n",
    "    \n",
    "    try:\n",
    "        titles = driver.find_element_by_xpath(\"//span[@class='a-size-large product-title-word-break']\")\n",
    "        laptop_titles.append(titles.text)\n",
    "    except:\n",
    "        laptop_titles.append(\"-\")\n",
    "        \n",
    "        \n",
    "        \n",
    "    try:\n",
    "        ratings=driver.find_element_by_xpath(\"//span[@class='a-size-medium a-color-base']\")\n",
    "        laptop_ratings.append(ratings.text)\n",
    "    except:\n",
    "        laptop_ratings.append(\"-\")"
   ]
  },
  {
   "cell_type": "code",
   "execution_count": 235,
   "metadata": {},
   "outputs": [
    {
     "name": "stdout",
     "output_type": "stream",
     "text": [
      "10 10 22\n"
     ]
    }
   ],
   "source": [
    "print(len(laptop_titles),len(laptop_ratings),len(laptop_price))"
   ]
  },
  {
   "cell_type": "code",
   "execution_count": 236,
   "metadata": {},
   "outputs": [],
   "source": [
    "amazon=pd.DataFrame({})\n",
    "amazon['Laptop Title']=laptop_titles[:10]\n",
    "amazon['Latop Rating']=laptop_ratings[:10]\n",
    "amazon['Laptop Price']=laptop_price[:10]"
   ]
  },
  {
   "cell_type": "code",
   "execution_count": 237,
   "metadata": {},
   "outputs": [
    {
     "data": {
      "text/html": [
       "<div>\n",
       "<style scoped>\n",
       "    .dataframe tbody tr th:only-of-type {\n",
       "        vertical-align: middle;\n",
       "    }\n",
       "\n",
       "    .dataframe tbody tr th {\n",
       "        vertical-align: top;\n",
       "    }\n",
       "\n",
       "    .dataframe thead th {\n",
       "        text-align: right;\n",
       "    }\n",
       "</style>\n",
       "<table border=\"1\" class=\"dataframe\">\n",
       "  <thead>\n",
       "    <tr style=\"text-align: right;\">\n",
       "      <th></th>\n",
       "      <th>Laptop Title</th>\n",
       "      <th>Latop Rating</th>\n",
       "      <th>Laptop Price</th>\n",
       "    </tr>\n",
       "  </thead>\n",
       "  <tbody>\n",
       "    <tr>\n",
       "      <th>0</th>\n",
       "      <td>HP Envy 11th Gen Core i7 Processor 13.3-inch (...</td>\n",
       "      <td>4.1 out of 5</td>\n",
       "      <td>1,23,300</td>\n",
       "    </tr>\n",
       "    <tr>\n",
       "      <th>1</th>\n",
       "      <td>Mi Notebook Ultra 3K Resolution Display Intel ...</td>\n",
       "      <td>4.3 out of 5</td>\n",
       "      <td>76,999</td>\n",
       "    </tr>\n",
       "    <tr>\n",
       "      <th>2</th>\n",
       "      <td>Lenovo IdeaPad S540 11th Gen Intel Core i7 13....</td>\n",
       "      <td>4.3 out of 5</td>\n",
       "      <td>77,990</td>\n",
       "    </tr>\n",
       "    <tr>\n",
       "      <th>3</th>\n",
       "      <td>ASUS TUF Gaming F17 (2021), 17.3-inch (43.94 c...</td>\n",
       "      <td>-</td>\n",
       "      <td>1,13,990</td>\n",
       "    </tr>\n",
       "    <tr>\n",
       "      <th>4</th>\n",
       "      <td>ASUS TUF Dash F15 (2021), 15.6-inch (39.62 cms...</td>\n",
       "      <td>3.5 out of 5</td>\n",
       "      <td>87,990</td>\n",
       "    </tr>\n",
       "    <tr>\n",
       "      <th>5</th>\n",
       "      <td>Lenovo IdeaPad Gaming 3 Intel Core i7 10th Gen...</td>\n",
       "      <td>4.4 out of 5</td>\n",
       "      <td>73,990</td>\n",
       "    </tr>\n",
       "    <tr>\n",
       "      <th>6</th>\n",
       "      <td>Mi Notebook Horizon Edition 14 Intel Core i7-1...</td>\n",
       "      <td>4.2 out of 5</td>\n",
       "      <td>57,990</td>\n",
       "    </tr>\n",
       "    <tr>\n",
       "      <th>7</th>\n",
       "      <td>HP Envy 11th Gen Core i7 Processor 13.3-inch (...</td>\n",
       "      <td>4.1 out of 5</td>\n",
       "      <td>1,23,300</td>\n",
       "    </tr>\n",
       "    <tr>\n",
       "      <th>8</th>\n",
       "      <td>Mi Notebook Pro QHD+ IPS Anti Glare Display In...</td>\n",
       "      <td>4.5 out of 5</td>\n",
       "      <td>72,999</td>\n",
       "    </tr>\n",
       "    <tr>\n",
       "      <th>9</th>\n",
       "      <td>Lenovo Yoga 7 11th Gen Intel Core i7-1165G7 14...</td>\n",
       "      <td>4.4 out of 5</td>\n",
       "      <td>1,19,499</td>\n",
       "    </tr>\n",
       "  </tbody>\n",
       "</table>\n",
       "</div>"
      ],
      "text/plain": [
       "                                        Laptop Title  Latop Rating  \\\n",
       "0  HP Envy 11th Gen Core i7 Processor 13.3-inch (...  4.1 out of 5   \n",
       "1  Mi Notebook Ultra 3K Resolution Display Intel ...  4.3 out of 5   \n",
       "2  Lenovo IdeaPad S540 11th Gen Intel Core i7 13....  4.3 out of 5   \n",
       "3  ASUS TUF Gaming F17 (2021), 17.3-inch (43.94 c...             -   \n",
       "4  ASUS TUF Dash F15 (2021), 15.6-inch (39.62 cms...  3.5 out of 5   \n",
       "5  Lenovo IdeaPad Gaming 3 Intel Core i7 10th Gen...  4.4 out of 5   \n",
       "6  Mi Notebook Horizon Edition 14 Intel Core i7-1...  4.2 out of 5   \n",
       "7  HP Envy 11th Gen Core i7 Processor 13.3-inch (...  4.1 out of 5   \n",
       "8  Mi Notebook Pro QHD+ IPS Anti Glare Display In...  4.5 out of 5   \n",
       "9  Lenovo Yoga 7 11th Gen Intel Core i7-1165G7 14...  4.4 out of 5   \n",
       "\n",
       "  Laptop Price  \n",
       "0     1,23,300  \n",
       "1       76,999  \n",
       "2       77,990  \n",
       "3     1,13,990  \n",
       "4       87,990  \n",
       "5       73,990  \n",
       "6       57,990  \n",
       "7     1,23,300  \n",
       "8       72,999  \n",
       "9     1,19,499  "
      ]
     },
     "execution_count": 237,
     "metadata": {},
     "output_type": "execute_result"
    }
   ],
   "source": [
    "amazon"
   ]
  },
  {
   "cell_type": "code",
   "execution_count": null,
   "metadata": {},
   "outputs": [],
   "source": []
  }
 ],
 "metadata": {
  "kernelspec": {
   "display_name": "Python 3",
   "language": "python",
   "name": "python3"
  },
  "language_info": {
   "codemirror_mode": {
    "name": "ipython",
    "version": 3
   },
   "file_extension": ".py",
   "mimetype": "text/x-python",
   "name": "python",
   "nbconvert_exporter": "python",
   "pygments_lexer": "ipython3",
   "version": "3.8.5"
  }
 },
 "nbformat": 4,
 "nbformat_minor": 4
}
