{
 "cells": [
  {
   "cell_type": "markdown",
   "metadata": {},
   "source": [
    "# Python Questions answer (MCQ)"
   ]
  },
  {
   "cell_type": "code",
   "execution_count": 1,
   "metadata": {},
   "outputs": [
    {
     "data": {
      "text/plain": [
       "0"
      ]
     },
     "execution_count": 1,
     "metadata": {},
     "output_type": "execute_result"
    }
   ],
   "source": [
    "2//3"
   ]
  },
  {
   "cell_type": "code",
   "execution_count": 2,
   "metadata": {},
   "outputs": [
    {
     "data": {
      "text/plain": [
       "24"
      ]
     },
     "execution_count": 2,
     "metadata": {},
     "output_type": "execute_result"
    }
   ],
   "source": [
    "6<<2"
   ]
  },
  {
   "cell_type": "code",
   "execution_count": 3,
   "metadata": {},
   "outputs": [
    {
     "data": {
      "text/plain": [
       "3.0"
      ]
     },
     "execution_count": 3,
     "metadata": {},
     "output_type": "execute_result"
    }
   ],
   "source": [
    "6/2"
   ]
  },
  {
   "cell_type": "code",
   "execution_count": 4,
   "metadata": {},
   "outputs": [
    {
     "data": {
      "text/plain": [
       "2"
      ]
     },
     "execution_count": 4,
     "metadata": {},
     "output_type": "execute_result"
    }
   ],
   "source": [
    "6&2"
   ]
  },
  {
   "cell_type": "markdown",
   "metadata": {},
   "source": [
    "# Que:-11.Write a python program to find the factorial of a number."
   ]
  },
  {
   "cell_type": "code",
   "execution_count": 1,
   "metadata": {},
   "outputs": [
    {
     "name": "stdout",
     "output_type": "stream",
     "text": [
      "Enter the number:5\n",
      "The factorial of 4 is 5\n",
      "The factorial of 3 is 20\n",
      "The factorial of 2 is 60\n",
      "The factorial of 1 is 120\n",
      "The factorial of 0 is 120\n"
     ]
    }
   ],
   "source": [
    "i=int(input(\"Enter the number:\"))\n",
    "fact=1\n",
    "while(i>0):\n",
    "    fact=fact*i\n",
    "    i=i-1\n",
    "    print(\"The factorial of\",i,\"is\",fact)"
   ]
  },
  {
   "cell_type": "markdown",
   "metadata": {},
   "source": [
    "# Que:-12.Write a python program to find whether a number is prime or composite."
   ]
  },
  {
   "cell_type": "code",
   "execution_count": 3,
   "metadata": {},
   "outputs": [
    {
     "name": "stdout",
     "output_type": "stream",
     "text": [
      "Enter any number1\n",
      "Number is neither prime nor composite\n"
     ]
    }
   ],
   "source": [
    "n = int(input('Enter any number'))\n",
    "if n>1:\n",
    "    for i in range(2,n):\n",
    "        if n % i == 0:\n",
    "            print('Number is composite number',n)\n",
    "            break\n",
    "    else:\n",
    "        print('Number is prime number',n)\n",
    "elif n==0 or n==1:\n",
    "    print('Number is neither prime nor composite')\n",
    "else:\n",
    "    print('Number is prime number')"
   ]
  },
  {
   "cell_type": "markdown",
   "metadata": {},
   "source": [
    "# Que:-13.Write a python program to check whether a given string is palindrome or not"
   ]
  },
  {
   "cell_type": "code",
   "execution_count": 8,
   "metadata": {},
   "outputs": [
    {
     "name": "stdout",
     "output_type": "stream",
     "text": [
      "Enter The String:object\n",
      "The string is not a palindrome\n"
     ]
    }
   ],
   "source": [
    "string=(input(\"Enter The String:\"))\n",
    "if(string==string[1::-1]):\n",
    "      print(\"The string is a palindrome\")\n",
    "else:\n",
    "      print(\"The string is not a palindrome\")"
   ]
  },
  {
   "cell_type": "markdown",
   "metadata": {},
   "source": [
    "# Que:-14.Write a Python program to get the third side of right-angled triangle from two given sides."
   ]
  },
  {
   "cell_type": "code",
   "execution_count": 13,
   "metadata": {},
   "outputs": [
    {
     "name": "stdout",
     "output_type": "stream",
     "text": [
      "Enter value of side a is7\n",
      "Enter value of side b is6\n",
      "The Value of third side is 9.219544457292887\n"
     ]
    }
   ],
   "source": [
    "import numpy as np\n",
    "from numpy import math\n",
    "from math import sqrt\n",
    "\n",
    "a = float(input('Enter value of side a is'))\n",
    "b = float (input('Enter value of side b is'))\n",
    "c = sqrt(a**2 + b**2)\n",
    "\n",
    "print('The Value of third side is',c)\n",
    "\n"
   ]
  },
  {
   "cell_type": "markdown",
   "metadata": {},
   "source": [
    "# Que:-15.Write a python program to print the frequency of each of the characters present in a given string."
   ]
  },
  {
   "cell_type": "code",
   "execution_count": 18,
   "metadata": {},
   "outputs": [
    {
     "name": "stdout",
     "output_type": "stream",
     "text": [
      "Enter a stringnervergiveup\n",
      "{'n': 1, 'e': 3, 'r': 2, 'v': 2, 'g': 1, 'i': 1, 'u': 1, 'p': 1}\n"
     ]
    }
   ],
   "source": [
    "from collections import Counter\n",
    "\n",
    "str= input(\"Enter a string\")\n",
    "count={}\n",
    "\n",
    "for i in str:\n",
    "    if i in count.keys():\n",
    "        count[i]+=1\n",
    "    else:\n",
    "            count[i]=1\n",
    "print(count)    "
   ]
  },
  {
   "cell_type": "code",
   "execution_count": null,
   "metadata": {},
   "outputs": [],
   "source": []
  }
 ],
 "metadata": {
  "kernelspec": {
   "display_name": "Python 3",
   "language": "python",
   "name": "python3"
  },
  "language_info": {
   "codemirror_mode": {
    "name": "ipython",
    "version": 3
   },
   "file_extension": ".py",
   "mimetype": "text/x-python",
   "name": "python",
   "nbconvert_exporter": "python",
   "pygments_lexer": "ipython3",
   "version": "3.8.5"
  }
 },
 "nbformat": 4,
 "nbformat_minor": 4
}
